{
 "cells": [
  {
   "cell_type": "code",
   "execution_count": 2,
   "metadata": {},
   "outputs": [],
   "source": [
    "import os\n",
    "import torch\n",
    "from torchvision import datasets, transforms, models\n",
    "from torch.utils.data import DataLoader, Subset\n",
    "from sklearn.model_selection import train_test_split\n",
    "import torch.nn as nn\n",
    "from tqdm import tqdm\n",
    "import matplotlib.pyplot as plt\n",
    "import seaborn as sns\n",
    "from sklearn.metrics import confusion_matrix, classification_report, precision_score, recall_score\n",
    "from torch.nn.functional import relu"
   ]
  },
  {
   "cell_type": "code",
   "execution_count": 3,
   "metadata": {},
   "outputs": [],
   "source": [
    "unlabeled_set_size = 0.8\n",
    "labeled_train_absolute_set_size = 0.1\n",
    "labeled_test_absolute_set_size = round(1 - (labeled_train_absolute_set_size + unlabeled_set_size), 2)\n",
    "\n",
    "labeled_train_relative_set_size = round((labeled_train_absolute_set_size / (1 - unlabeled_set_size)), 2)\n",
    "labeled_test_relative_set_size = 1 - labeled_train_relative_set_size"
   ]
  },
  {
   "cell_type": "code",
   "execution_count": 4,
   "metadata": {},
   "outputs": [],
   "source": [
    "base_dir = os.path.join('Plant_leave_diseases_dataset', 'original')\n",
    "os.makedirs('best_models', exist_ok=True)\n",
    "model_save_path = \\\n",
    "    os.path.join('best_models', f'h1_{int(unlabeled_set_size*100)}-{int(labeled_train_absolute_set_size*100)}-{int(labeled_test_absolute_set_size*100)}_UNet.pth')"
   ]
  },
  {
   "cell_type": "markdown",
   "metadata": {},
   "source": [
    "## U-Net Module"
   ]
  },
  {
   "cell_type": "code",
   "execution_count": 5,
   "metadata": {},
   "outputs": [],
   "source": [
    "class Encoder(nn.Module):\n",
    "  def __init__(self):\n",
    "    super(Encoder, self).__init__()\n",
    "    # Encoder\n",
    "    # In the encoder, convolutional layers with the Conv2d function are used to extract features from the input image. \n",
    "    # Each block in the encoder consists of two convolutional layers followed by a max-pooling layer, with the exception of the last block which does not include a max-pooling layer.\n",
    "    # -------\n",
    "    # input: 572x572x3\n",
    "    self.e11 = nn.Conv2d(3, 64, kernel_size=3, padding=1) # output: 570x570x64\n",
    "    self.e12 = nn.Conv2d(64, 64, kernel_size=3, padding=1) # output: 568x568x64\n",
    "    self.pool1 = nn.MaxPool2d(kernel_size=2, stride=2) # output: 284x284x64\n",
    "\n",
    "    # input: 284x284x64\n",
    "    self.e21 = nn.Conv2d(64, 128, kernel_size=3, padding=1) # output: 282x282x128\n",
    "    self.e22 = nn.Conv2d(128, 128, kernel_size=3, padding=1) # output: 280x280x128\n",
    "    self.pool2 = nn.MaxPool2d(kernel_size=2, stride=2) # output: 140x140x128\n",
    "\n",
    "    # input: 140x140x128\n",
    "    self.e31 = nn.Conv2d(128, 256, kernel_size=3, padding=1) # output: 138x138x256\n",
    "    self.e32 = nn.Conv2d(256, 256, kernel_size=3, padding=1) # output: 136x136x256\n",
    "    self.pool3 = nn.MaxPool2d(kernel_size=2, stride=2) # output: 68x68x256\n",
    "\n",
    "    # input: 68x68x256\n",
    "    self.e41 = nn.Conv2d(256, 512, kernel_size=3, padding=1) # output: 66x66x512\n",
    "    self.e42 = nn.Conv2d(512, 512, kernel_size=3, padding=1) # output: 64x64x512\n",
    "    self.pool4 = nn.MaxPool2d(kernel_size=2, stride=2) # output: 32x32x512\n",
    "\n",
    "    # input: 32x32x512\n",
    "    self.e51 = nn.Conv2d(512, 1024, kernel_size=3, padding=1) # output: 30x30x1024\n",
    "    self.e52 = nn.Conv2d(1024, 1024, kernel_size=3, padding=1) # output: 28x28x1024\n",
    "\n",
    "\n",
    "  def forward(self, x):\n",
    "    # Encoder\n",
    "    xe11 = relu(self.e11(x))\n",
    "    xe12 = relu(self.e12(xe11))\n",
    "    xp1 = self.pool1(xe12)\n",
    "\n",
    "    xe21 = relu(self.e21(xp1))\n",
    "    xe22 = relu(self.e22(xe21))\n",
    "    xp2 = self.pool2(xe22)\n",
    "\n",
    "    xe31 = relu(self.e31(xp2))\n",
    "    xe32 = relu(self.e32(xe31))\n",
    "    xp3 = self.pool3(xe32)\n",
    "\n",
    "    xe41 = relu(self.e41(xp3))\n",
    "    xe42 = relu(self.e42(xe41))\n",
    "    xp4 = self.pool4(xe42)\n",
    "\n",
    "    xe51 = relu(self.e51(xp4))\n",
    "    xe52 = relu(self.e52(xe51))\n",
    "\n",
    "    return xe12, xe22, xe32, xe42, xe52\n"
   ]
  },
  {
   "cell_type": "code",
   "execution_count": 6,
   "metadata": {},
   "outputs": [],
   "source": [
    "class Decoder(nn.Module):\n",
    "  def __init__(self):\n",
    "    super(Decoder, self).__init__()\n",
    "    # Decoder\n",
    "    self.upconv1 = nn.ConvTranspose2d(1024, 512, kernel_size=2, stride=2)\n",
    "    self.d11 = nn.Conv2d(1024, 512, kernel_size=3, padding=1)\n",
    "    self.d12 = nn.Conv2d(512, 512, kernel_size=3, padding=1)\n",
    "\n",
    "    self.upconv2 = nn.ConvTranspose2d(512, 256, kernel_size=2, stride=2)\n",
    "    self.d21 = nn.Conv2d(512, 256, kernel_size=3, padding=1)\n",
    "    self.d22 = nn.Conv2d(256, 256, kernel_size=3, padding=1)\n",
    "\n",
    "    self.upconv3 = nn.ConvTranspose2d(256, 128, kernel_size=2, stride=2)\n",
    "    self.d31 = nn.Conv2d(256, 128, kernel_size=3, padding=1)\n",
    "    self.d32 = nn.Conv2d(128, 128, kernel_size=3, padding=1)\n",
    "\n",
    "    self.upconv4 = nn.ConvTranspose2d(128, 64, kernel_size=2, stride=2)\n",
    "    self.d41 = nn.Conv2d(128, 64, kernel_size=3, padding=1)\n",
    "    self.d42 = nn.Conv2d(64, 64, kernel_size=3, padding=1)\n",
    "\n",
    "    # Output layer\n",
    "    self.outconv = nn.Conv2d(64, 3, kernel_size=1)  # 3 channels\n",
    "\n",
    "\n",
    "  def forward(self, xe12, xe22, xe32, xe42, xe52):\n",
    "    # Decoder\n",
    "    xu1 = self.upconv1(xe52)\n",
    "    xu11 = torch.cat([xu1, xe42], dim=1)\n",
    "    xd11 = relu(self.d11(xu11))\n",
    "    xd12 = relu(self.d12(xd11))\n",
    "\n",
    "    xu2 = self.upconv2(xd12)\n",
    "    xu22 = torch.cat([xu2, xe32], dim=1)\n",
    "    xd21 = relu(self.d21(xu22))\n",
    "    xd22 = relu(self.d22(xd21))\n",
    "\n",
    "    xu3 = self.upconv3(xd22)\n",
    "    xu33 = torch.cat([xu3, xe22], dim=1)\n",
    "    xd31 = relu(self.d31(xu33))\n",
    "    xd32 = relu(self.d32(xd31))\n",
    "\n",
    "    xu4 = self.upconv4(xd32)\n",
    "    xu44 = torch.cat([xu4, xe12], dim=1)\n",
    "    xd41 = relu(self.d41(xu44))\n",
    "    xd42 = relu(self.d42(xd41))\n",
    "\n",
    "    # Output layer\n",
    "    out = self.outconv(xd42)\n",
    "\n",
    "    return out"
   ]
  },
  {
   "cell_type": "code",
   "execution_count": 7,
   "metadata": {},
   "outputs": [],
   "source": [
    "class UNet(nn.Module):\n",
    "    def __init__(self):\n",
    "        super().__init__()\n",
    "        self.encoder = Encoder()\n",
    "        self.decoder = Decoder()\n",
    "\n",
    "\n",
    "    def forward(self, x):\n",
    "        [xe12, xe22, xe32, xe42, xe52] = self.encoder(x)\n",
    "        decoded = self.decoder(xe12, xe22, xe32, xe42, xe52)\n",
    "        return decoded"
   ]
  },
  {
   "cell_type": "markdown",
   "metadata": {},
   "source": [
    "## Datasets and Dataloaders"
   ]
  },
  {
   "cell_type": "code",
   "execution_count": 8,
   "metadata": {},
   "outputs": [],
   "source": [
    "data_transforms = {\n",
    "    'all': transforms.Compose([\n",
    "        transforms.Resize((224, 224)),\n",
    "        transforms.ToTensor(),\n",
    "        transforms.Normalize([0.5], [0.5])\n",
    "    ]),\n",
    "}"
   ]
  },
  {
   "cell_type": "code",
   "execution_count": 9,
   "metadata": {},
   "outputs": [],
   "source": [
    "full_dataset = datasets.ImageFolder(base_dir, transform=data_transforms['all'])"
   ]
  },
  {
   "cell_type": "code",
   "execution_count": 10,
   "metadata": {},
   "outputs": [],
   "source": [
    "indices = list(range(len(full_dataset)))\n",
    "\n",
    "# Get the directory paths of images\n",
    "image_paths = [sample[0] for sample in full_dataset.samples]\n",
    "\n",
    "labels = [os.path.split(os.path.dirname(path))[-1] for path in image_paths]"
   ]
  },
  {
   "cell_type": "code",
   "execution_count": 11,
   "metadata": {},
   "outputs": [],
   "source": [
    "#Obtenemos el 80% de los datos \n",
    "_, train_val_indices = train_test_split(indices, test_size=unlabeled_set_size, stratify=labels, random_state=42)\n",
    "\n",
    "\n",
    "train_dataset = Subset(full_dataset, train_val_indices)\n",
    "val_dataset = Subset(full_dataset, train_val_indices)"
   ]
  },
  {
   "cell_type": "code",
   "execution_count": 20,
   "metadata": {},
   "outputs": [
    {
     "name": "stdout",
     "output_type": "stream",
     "text": [
      "Número de imágenes en el conjunto de entrenamiento: 49189\n",
      "Número de imágenes en el conjunto de validación: 49189\n"
     ]
    }
   ],
   "source": [
    "train_loader = DataLoader(train_dataset, batch_size=4, shuffle=True, num_workers=4)\n",
    "val_loader = DataLoader(val_dataset, batch_size=4, shuffle=False, num_workers=4)\n",
    "\n",
    "print(f\"Número de imágenes en el conjunto de entrenamiento: {len(train_loader.dataset)}\")\n",
    "print(f\"Número de imágenes en el conjunto de validación: {len(val_loader.dataset)}\")"
   ]
  },
  {
   "cell_type": "markdown",
   "metadata": {},
   "source": [
    "## Function definitions"
   ]
  },
  {
   "cell_type": "code",
   "execution_count": 16,
   "metadata": {},
   "outputs": [],
   "source": [
    "def plot_confusion_matrix(cm, class_names):\n",
    "    figure = plt.figure(figsize=(8, 8))\n",
    "    sns.heatmap(cm, annot=True, cmap=plt.cm.Blues, fmt='g', xticklabels=class_names, yticklabels=class_names)\n",
    "    plt.xlabel('Predicted label')\n",
    "    plt.ylabel('True label')\n",
    "    plt.title('Confusion Matrix')\n",
    "    return figure"
   ]
  },
  {
   "cell_type": "code",
   "execution_count": 23,
   "metadata": {},
   "outputs": [],
   "source": [
    "def train_model(model, criterion, optimizer, train_loader, val_loader, device, num_epochs=10, patience=3):\n",
    "    best_val_loss = float('inf')\n",
    "    epochs_no_improve = 0\n",
    "    \n",
    "    for epoch in range(num_epochs):\n",
    "        model.train()\n",
    "        running_loss = 0.0\n",
    "        \n",
    "        for inputs, _ in tqdm(train_loader):\n",
    "            inputs = inputs.to(device)\n",
    "            optimizer.zero_grad()\n",
    "            outputs = model(inputs)\n",
    "            loss = criterion(outputs, inputs)\n",
    "            loss.backward()\n",
    "            optimizer.step()\n",
    "            \n",
    "            running_loss += loss.item()\n",
    "        \n",
    "        train_loss = running_loss / len(train_loader)\n",
    "        \n",
    "        model.eval()\n",
    "        val_loss = 0.0\n",
    "        \n",
    "        with torch.no_grad():\n",
    "            for inputs, _ in val_loader:\n",
    "                inputs = inputs.to(device)\n",
    "                outputs = model(inputs)\n",
    "                loss = criterion(outputs, inputs)\n",
    "                val_loss += loss.item()\n",
    "        \n",
    "        val_loss = val_loss / len(val_loader)\n",
    "        \n",
    "        print(f'Epoch {epoch+1}/{num_epochs}')\n",
    "        print(f'Train Loss: {train_loss:.4f}')\n",
    "        print(f'Val Loss: {val_loss:.4f}')\n",
    "        \n",
    "        if val_loss < best_val_loss:\n",
    "            best_val_loss = val_loss\n",
    "            epochs_no_improve = 0\n",
    "            torch.save(model.state_dict(), model_save_path)\n",
    "        else:\n",
    "            epochs_no_improve += 1\n",
    "        if epochs_no_improve >= patience:\n",
    "            print(\"Early stopping triggered!\")\n",
    "            break\n",
    "    \n",
    "    return model"
   ]
  },
  {
   "cell_type": "code",
   "execution_count": 30,
   "metadata": {},
   "outputs": [],
   "source": [
    "def evaluate_model(model_path, dataloader, device):\n",
    "    model = UNet()\n",
    "    model.load_state_dict(torch.load(model_path, map_location=device))\n",
    "    model = model.to(device)\n",
    "    \n",
    "    model.eval()\n",
    "    \n",
    "    with torch.no_grad():\n",
    "        for inputs, _ in dataloader:\n",
    "            inputs = inputs.to(device)\n",
    "            outputs = model(inputs)\n",
    "            print(outputs[0])\n",
    "            break"
   ]
  },
  {
   "cell_type": "markdown",
   "metadata": {},
   "source": [
    "## U-Net Autoencoder"
   ]
  },
  {
   "cell_type": "code",
   "execution_count": 24,
   "metadata": {},
   "outputs": [
    {
     "name": "stdout",
     "output_type": "stream",
     "text": [
      "Using device: cuda\n"
     ]
    }
   ],
   "source": [
    "# Set up of the device\n",
    "if torch.backends.mps.is_available():\n",
    "    device = torch.device(\"mps\")#tqm\n",
    "elif torch.cuda.is_available():\n",
    "    device = torch.device(\"cuda\")\n",
    "else:\n",
    "    device = torch.device(\"cpu\")\n",
    "\n",
    "print(f\"Using device: {device}\")\n",
    "\n",
    "model = UNet()\n",
    "model.to(device)\n",
    "\n",
    "criterion = nn.MSELoss()\n",
    "optimizer = torch.optim.Adam(model.parameters(), lr=0.001)"
   ]
  },
  {
   "cell_type": "code",
   "execution_count": 25,
   "metadata": {},
   "outputs": [
    {
     "name": "stderr",
     "output_type": "stream",
     "text": [
      "100%|██████████| 12298/12298 [42:06<00:00,  4.87it/s]\n"
     ]
    },
    {
     "name": "stdout",
     "output_type": "stream",
     "text": [
      "Epoch 1/30\n",
      "Train Loss: 11102.8218\n",
      "Val Loss: 0.0036\n"
     ]
    },
    {
     "name": "stderr",
     "output_type": "stream",
     "text": [
      "100%|██████████| 12298/12298 [41:06<00:00,  4.99it/s]\n"
     ]
    },
    {
     "name": "stdout",
     "output_type": "stream",
     "text": [
      "Epoch 2/30\n",
      "Train Loss: 0.0014\n",
      "Val Loss: 0.0006\n"
     ]
    },
    {
     "name": "stderr",
     "output_type": "stream",
     "text": [
      "100%|██████████| 12298/12298 [41:06<00:00,  4.99it/s]\n"
     ]
    },
    {
     "name": "stdout",
     "output_type": "stream",
     "text": [
      "Epoch 3/30\n",
      "Train Loss: 0.0004\n",
      "Val Loss: 0.0003\n"
     ]
    },
    {
     "name": "stderr",
     "output_type": "stream",
     "text": [
      "100%|██████████| 12298/12298 [41:03<00:00,  4.99it/s]\n"
     ]
    },
    {
     "name": "stdout",
     "output_type": "stream",
     "text": [
      "Epoch 4/30\n",
      "Train Loss: 0.0002\n",
      "Val Loss: 0.0001\n"
     ]
    },
    {
     "name": "stderr",
     "output_type": "stream",
     "text": [
      "  2%|▏         | 208/12298 [00:59<58:01,  3.47it/s] \n"
     ]
    },
    {
     "ename": "KeyboardInterrupt",
     "evalue": "",
     "output_type": "error",
     "traceback": [
      "\u001b[1;31m---------------------------------------------------------------------------\u001b[0m",
      "\u001b[1;31mKeyboardInterrupt\u001b[0m                         Traceback (most recent call last)",
      "Cell \u001b[1;32mIn[25], line 1\u001b[0m\n\u001b[1;32m----> 1\u001b[0m trained_model \u001b[38;5;241m=\u001b[39m \u001b[43mtrain_model\u001b[49m\u001b[43m(\u001b[49m\u001b[43mmodel\u001b[49m\u001b[43m,\u001b[49m\u001b[43m \u001b[49m\u001b[43mcriterion\u001b[49m\u001b[43m,\u001b[49m\u001b[43m \u001b[49m\u001b[43moptimizer\u001b[49m\u001b[43m,\u001b[49m\u001b[43m \u001b[49m\u001b[43mtrain_loader\u001b[49m\u001b[43m,\u001b[49m\u001b[43m \u001b[49m\u001b[43mval_loader\u001b[49m\u001b[43m,\u001b[49m\u001b[43m \u001b[49m\u001b[43mdevice\u001b[49m\u001b[43m,\u001b[49m\u001b[43m \u001b[49m\u001b[43mnum_epochs\u001b[49m\u001b[38;5;241;43m=\u001b[39;49m\u001b[38;5;241;43m30\u001b[39;49m\u001b[43m,\u001b[49m\u001b[43m \u001b[49m\u001b[43mpatience\u001b[49m\u001b[38;5;241;43m=\u001b[39;49m\u001b[38;5;241;43m5\u001b[39;49m\u001b[43m)\u001b[49m\n",
      "Cell \u001b[1;32mIn[23], line 17\u001b[0m, in \u001b[0;36mtrain_model\u001b[1;34m(model, criterion, optimizer, train_loader, val_loader, device, num_epochs, patience)\u001b[0m\n\u001b[0;32m     14\u001b[0m     loss\u001b[38;5;241m.\u001b[39mbackward()\n\u001b[0;32m     15\u001b[0m     optimizer\u001b[38;5;241m.\u001b[39mstep()\n\u001b[1;32m---> 17\u001b[0m     running_loss \u001b[38;5;241m+\u001b[39m\u001b[38;5;241m=\u001b[39m \u001b[43mloss\u001b[49m\u001b[38;5;241;43m.\u001b[39;49m\u001b[43mitem\u001b[49m\u001b[43m(\u001b[49m\u001b[43m)\u001b[49m\n\u001b[0;32m     19\u001b[0m train_loss \u001b[38;5;241m=\u001b[39m running_loss \u001b[38;5;241m/\u001b[39m \u001b[38;5;28mlen\u001b[39m(train_loader)\n\u001b[0;32m     21\u001b[0m model\u001b[38;5;241m.\u001b[39meval()\n",
      "\u001b[1;31mKeyboardInterrupt\u001b[0m: "
     ]
    }
   ],
   "source": [
    "trained_model = train_model(model, criterion, optimizer, train_loader, val_loader, device, num_epochs=30, patience=5)"
   ]
  },
  {
   "cell_type": "code",
   "execution_count": 31,
   "metadata": {},
   "outputs": [
    {
     "name": "stdout",
     "output_type": "stream",
     "text": [
      "tensor([[[[-6.3674e-02, -1.0812e-01, -1.8540e-01,  ...,  4.2726e-04,\n",
      "           -1.5394e-02, -1.1467e-01],\n",
      "          [-4.8268e-02, -1.9245e-01, -1.2257e-01,  ..., -6.7216e-02,\n",
      "           -2.0924e-01, -1.2999e-01],\n",
      "          [-3.0003e-01, -2.7150e-01, -2.8100e-01,  ..., -1.4609e-01,\n",
      "           -1.5714e-01, -4.6336e-02],\n",
      "          ...,\n",
      "          [-1.9721e-01,  1.7330e-03,  1.3695e-01,  ...,  6.5452e-02,\n",
      "           -3.8291e-03, -1.4102e-02],\n",
      "          [-2.1923e-02,  2.1616e-02,  6.7711e-02,  ..., -5.2035e-02,\n",
      "           -1.3903e-01,  1.1668e-01],\n",
      "          [-1.0695e-01,  2.6317e-02,  8.5502e-02,  ..., -1.5995e-01,\n",
      "           -1.2214e-01, -1.2865e-01]],\n",
      "\n",
      "         [[-8.4476e-02, -1.8417e-01, -2.4726e-01,  ..., -1.1352e-01,\n",
      "           -1.0933e-01, -1.6535e-01],\n",
      "          [-1.0119e-01, -2.5038e-01, -1.8219e-01,  ..., -1.5206e-01,\n",
      "           -2.7628e-01, -2.0641e-01],\n",
      "          [-3.6670e-01, -3.2399e-01, -3.4245e-01,  ..., -2.3613e-01,\n",
      "           -2.3803e-01, -1.1405e-01],\n",
      "          ...,\n",
      "          [-2.2164e-01, -3.0741e-02,  1.0230e-01,  ...,  1.6514e-02,\n",
      "           -4.9330e-02, -7.2014e-02],\n",
      "          [-5.1314e-02, -2.8403e-03,  3.0518e-02,  ..., -1.0028e-01,\n",
      "           -1.7632e-01,  1.1506e-01],\n",
      "          [-1.1712e-01,  1.4041e-02,  5.5811e-02,  ..., -2.0385e-01,\n",
      "           -1.6034e-01, -1.4729e-01]],\n",
      "\n",
      "         [[-6.8183e-02, -1.0168e-01, -1.7665e-01,  ..., -3.2527e-02,\n",
      "           -3.2781e-02, -1.5703e-01],\n",
      "          [-4.7434e-02, -1.7898e-01, -1.1073e-01,  ..., -8.5435e-02,\n",
      "           -2.2454e-01, -1.4430e-01],\n",
      "          [-2.8112e-01, -2.6116e-01, -2.7698e-01,  ..., -1.6256e-01,\n",
      "           -1.7329e-01, -4.7763e-02],\n",
      "          ...,\n",
      "          [-8.2275e-02,  8.8092e-02,  2.2909e-01,  ...,  1.1477e-01,\n",
      "            5.2735e-02,  2.2670e-02],\n",
      "          [ 7.8940e-02,  1.1104e-01,  1.6148e-01,  ...,  3.3361e-03,\n",
      "           -8.5431e-02,  1.8526e-01],\n",
      "          [-3.0167e-02,  1.2904e-01,  1.9153e-01,  ..., -1.2020e-01,\n",
      "           -8.2235e-02, -1.0568e-01]]],\n",
      "\n",
      "\n",
      "        [[[-5.4558e-03, -1.8555e-02, -3.4198e-02,  ..., -5.2652e-02,\n",
      "           -3.8123e-02, -7.4172e-02],\n",
      "          [-3.3958e-02, -1.6938e-02, -1.3830e-03,  ..., -7.3712e-02,\n",
      "           -5.8271e-02, -6.9892e-02],\n",
      "          [ 4.3423e-03, -4.7519e-02, -2.6002e-02,  ..., -5.2084e-02,\n",
      "           -5.8014e-02, -6.2758e-02],\n",
      "          ...,\n",
      "          [ 2.6429e-01,  2.2801e-01,  2.0633e-01,  ...,  1.5791e-01,\n",
      "            1.1005e-01,  1.2971e-01],\n",
      "          [ 2.3559e-01,  1.9505e-01,  1.8228e-01,  ...,  1.8800e-01,\n",
      "            2.1619e-01,  2.8503e-01],\n",
      "          [ 1.4327e-01,  1.4896e-01,  1.6362e-01,  ...,  3.9422e-01,\n",
      "            3.2363e-01,  2.1879e-01]],\n",
      "\n",
      "         [[-6.0005e-02, -1.5356e-01, -1.6877e-01,  ..., -1.8247e-01,\n",
      "           -1.5657e-01, -1.5868e-01],\n",
      "          [-1.3779e-01, -1.5362e-01, -1.2501e-01,  ..., -1.8776e-01,\n",
      "           -1.6605e-01, -1.7856e-01],\n",
      "          [-1.3013e-01, -1.7816e-01, -1.6205e-01,  ..., -1.7852e-01,\n",
      "           -1.7760e-01, -1.8621e-01],\n",
      "          ...,\n",
      "          [ 1.7360e-01,  1.4015e-01,  1.0596e-01,  ...,  6.3950e-02,\n",
      "            1.9077e-02,  3.0974e-02],\n",
      "          [ 1.4499e-01,  1.0799e-01,  8.4558e-02,  ...,  9.7193e-02,\n",
      "            1.2212e-01,  2.2587e-01],\n",
      "          [ 8.4319e-02,  8.1549e-02,  7.0628e-02,  ...,  3.0872e-01,\n",
      "            2.5835e-01,  1.8927e-01]],\n",
      "\n",
      "         [[-5.1232e-02, -1.2914e-01, -1.5600e-01,  ..., -1.8575e-01,\n",
      "           -1.5492e-01, -1.8919e-01],\n",
      "          [-1.2001e-01, -1.2971e-01, -9.8160e-02,  ..., -1.8360e-01,\n",
      "           -1.6538e-01, -1.7580e-01],\n",
      "          [-1.1019e-01, -1.6007e-01, -1.4482e-01,  ..., -1.7702e-01,\n",
      "           -1.8176e-01, -1.9091e-01],\n",
      "          ...,\n",
      "          [ 2.1135e-01,  1.6350e-01,  1.3306e-01,  ...,  9.0396e-02,\n",
      "            3.9372e-02,  4.9294e-02],\n",
      "          [ 1.6592e-01,  1.3361e-01,  1.1525e-01,  ...,  1.2025e-01,\n",
      "            1.4610e-01,  2.2245e-01],\n",
      "          [ 1.0757e-01,  1.1153e-01,  1.0181e-01,  ...,  3.1937e-01,\n",
      "            2.6341e-01,  1.9321e-01]]],\n",
      "\n",
      "\n",
      "        [[[ 6.5580e-02,  1.4113e-01,  1.2593e-01,  ...,  1.2295e-01,\n",
      "            1.0587e-01,  2.9836e-02],\n",
      "          [ 3.1032e-02,  3.5448e-02,  2.6456e-02,  ...,  7.5260e-02,\n",
      "            6.9356e-02,  3.5233e-02],\n",
      "          [ 1.1438e-01,  6.9697e-02,  5.2310e-02,  ...,  9.2602e-02,\n",
      "            8.6923e-02,  7.4531e-02],\n",
      "          ...,\n",
      "          [-6.9984e-02, -1.1805e-01, -8.0481e-02,  ..., -7.5898e-02,\n",
      "           -6.1363e-02, -3.1302e-02],\n",
      "          [-6.3719e-02, -1.0108e-01, -8.3344e-02,  ..., -3.5239e-02,\n",
      "            2.1298e-03,  1.9962e-02],\n",
      "          [-1.8277e-01, -1.9387e-01, -1.4188e-01,  ..., -3.3667e-02,\n",
      "            5.5835e-03,  2.3667e-02]],\n",
      "\n",
      "         [[-1.5228e-02, -4.7118e-02, -6.2017e-02,  ..., -6.5843e-02,\n",
      "           -6.5306e-02, -8.0321e-02],\n",
      "          [-1.1432e-01, -1.3522e-01, -1.3324e-01,  ..., -8.4209e-02,\n",
      "           -7.8955e-02, -1.1726e-01],\n",
      "          [-6.8627e-02, -9.2199e-02, -1.2650e-01,  ..., -8.9099e-02,\n",
      "           -8.2935e-02, -8.2955e-02],\n",
      "          ...,\n",
      "          [-2.3400e-01, -2.5240e-01, -2.3491e-01,  ..., -2.4459e-01,\n",
      "           -2.1721e-01, -1.8496e-01],\n",
      "          [-1.9389e-01, -2.3017e-01, -2.3333e-01,  ..., -2.0273e-01,\n",
      "           -1.4892e-01, -1.1784e-01],\n",
      "          [-2.6736e-01, -2.9568e-01, -2.7851e-01,  ..., -1.9264e-01,\n",
      "           -1.2937e-01, -6.2443e-02]],\n",
      "\n",
      "         [[ 2.5713e-02,  3.2812e-02,  7.1358e-03,  ..., -6.4753e-05,\n",
      "           -2.5918e-03, -6.8558e-02],\n",
      "          [-5.8579e-02, -8.1808e-02, -6.7249e-02,  ..., -2.2628e-02,\n",
      "           -2.1177e-02, -4.9245e-02],\n",
      "          [-2.2238e-03, -2.7584e-02, -5.7714e-02,  ..., -2.2821e-02,\n",
      "           -2.5196e-02, -3.4213e-02],\n",
      "          ...,\n",
      "          [-1.5834e-01, -1.9279e-01, -1.7398e-01,  ..., -2.0151e-01,\n",
      "           -1.8287e-01, -1.5780e-01],\n",
      "          [-1.3797e-01, -1.6285e-01, -1.6799e-01,  ..., -1.5994e-01,\n",
      "           -1.2147e-01, -1.1725e-01],\n",
      "          [-2.2493e-01, -2.4370e-01, -2.1981e-01,  ..., -1.5861e-01,\n",
      "           -1.1394e-01, -6.0159e-02]]],\n",
      "\n",
      "\n",
      "        [[[ 1.6446e-01,  2.5746e-01,  2.2240e-01,  ..., -2.0484e-01,\n",
      "           -2.2335e-01, -1.8458e-01],\n",
      "          [ 1.9015e-01,  1.7765e-01,  1.8789e-01,  ..., -1.9810e-01,\n",
      "           -2.2310e-01, -2.3686e-01],\n",
      "          [ 2.0385e-01,  1.7913e-01,  1.7495e-01,  ..., -1.8054e-01,\n",
      "           -1.9973e-01, -2.1861e-01],\n",
      "          ...,\n",
      "          [ 2.1883e-01,  2.2224e-01,  2.3839e-01,  ..., -3.4791e-01,\n",
      "           -3.5119e-01, -3.1439e-01],\n",
      "          [ 1.8168e-01,  2.0361e-01,  2.2407e-01,  ..., -3.3548e-01,\n",
      "           -3.6006e-01, -3.6167e-01],\n",
      "          [ 2.2352e-01,  2.1681e-01,  2.3160e-01,  ..., -3.3197e-01,\n",
      "           -3.7709e-01, -3.2171e-01]],\n",
      "\n",
      "         [[ 1.7451e-01,  2.3069e-01,  2.1430e-01,  ..., -2.2292e-01,\n",
      "           -2.2543e-01, -1.9566e-01],\n",
      "          [ 1.7637e-01,  1.7372e-01,  1.8946e-01,  ..., -2.1566e-01,\n",
      "           -2.3747e-01, -2.5195e-01],\n",
      "          [ 2.0251e-01,  1.9014e-01,  1.8356e-01,  ..., -1.9830e-01,\n",
      "           -2.1215e-01, -2.3787e-01],\n",
      "          ...,\n",
      "          [ 2.5140e-01,  2.8031e-01,  3.0684e-01,  ..., -3.5859e-01,\n",
      "           -3.6059e-01, -3.3074e-01],\n",
      "          [ 2.3154e-01,  2.5230e-01,  2.7428e-01,  ..., -3.3601e-01,\n",
      "           -3.5273e-01, -3.5080e-01],\n",
      "          [ 2.4759e-01,  2.8035e-01,  2.9069e-01,  ..., -3.3221e-01,\n",
      "           -3.5721e-01, -3.0184e-01]],\n",
      "\n",
      "         [[ 1.9022e-01,  2.4409e-01,  2.2339e-01,  ..., -2.0075e-01,\n",
      "           -2.0411e-01, -2.0282e-01],\n",
      "          [ 2.1249e-01,  1.8437e-01,  1.9579e-01,  ..., -1.8906e-01,\n",
      "           -2.1065e-01, -2.2605e-01],\n",
      "          [ 2.0913e-01,  1.7603e-01,  1.7713e-01,  ..., -1.6785e-01,\n",
      "           -1.7944e-01, -2.0681e-01],\n",
      "          ...,\n",
      "          [ 2.4135e-01,  2.4307e-01,  2.6549e-01,  ..., -3.7024e-01,\n",
      "           -3.6473e-01, -3.3149e-01],\n",
      "          [ 2.1410e-01,  2.3132e-01,  2.5421e-01,  ..., -3.4416e-01,\n",
      "           -3.5114e-01, -3.6260e-01],\n",
      "          [ 2.1877e-01,  2.5250e-01,  2.6619e-01,  ..., -3.3946e-01,\n",
      "           -3.8043e-01, -3.3423e-01]]]], device='cuda:0')\n"
     ]
    }
   ],
   "source": [
    "evaluate_model(model_save_path, val_loader, device=device)"
   ]
  }
 ],
 "metadata": {
  "kernelspec": {
   "display_name": ".venv",
   "language": "python",
   "name": "python3"
  },
  "language_info": {
   "codemirror_mode": {
    "name": "ipython",
    "version": 3
   },
   "file_extension": ".py",
   "mimetype": "text/x-python",
   "name": "python",
   "nbconvert_exporter": "python",
   "pygments_lexer": "ipython3",
   "version": "3.11.2"
  }
 },
 "nbformat": 4,
 "nbformat_minor": 2
}

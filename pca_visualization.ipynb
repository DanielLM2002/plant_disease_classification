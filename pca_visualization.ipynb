{
 "cells": [
  {
   "cell_type": "code",
   "execution_count": 1,
   "metadata": {},
   "outputs": [],
   "source": [
    "import torch\n",
    "import os\n",
    "from torchvision import datasets, transforms\n",
    "from torch.utils.data import Dataset, DataLoader\n",
    "from PIL import Image\n",
    "import torch.nn as nn\n",
    "from torch.nn.functional import relu\n",
    "from encoder import Encoder\n",
    "import numpy as np\n",
    "import matplotlib.pyplot as plt\n",
    "from sklearn.decomposition import PCA\n",
    "from tqdm import tqdm"
   ]
  },
  {
   "cell_type": "code",
   "execution_count": 2,
   "metadata": {},
   "outputs": [],
   "source": [
    "base_dir = os.path.join('Plant_leave_diseases_dataset', 'original')\n",
    "images_paths = []"
   ]
  },
  {
   "cell_type": "code",
   "execution_count": 3,
   "metadata": {},
   "outputs": [],
   "source": [
    "# Load the encoder model\n",
    "def load_encoder(model_path, device):\n",
    "    model = Encoder()\n",
    "    model.load_state_dict(torch.load(model_path, map_location=device))\n",
    "    model = model.to(device)\n",
    "    return model"
   ]
  },
  {
   "cell_type": "code",
   "execution_count": 4,
   "metadata": {},
   "outputs": [],
   "source": [
    "device = torch.device(\"cuda\" if torch.cuda.is_available() else \"cpu\")"
   ]
  },
  {
   "cell_type": "code",
   "execution_count": 5,
   "metadata": {},
   "outputs": [
    {
     "data": {
      "text/plain": [
       "Encoder(\n",
       "  (e11): Conv2d(1, 64, kernel_size=(3, 3), stride=(1, 1), padding=(1, 1))\n",
       "  (bn11): BatchNorm2d(64, eps=1e-05, momentum=0.1, affine=True, track_running_stats=True)\n",
       "  (e12): Conv2d(64, 64, kernel_size=(3, 3), stride=(1, 1), padding=(1, 1))\n",
       "  (bn12): BatchNorm2d(64, eps=1e-05, momentum=0.1, affine=True, track_running_stats=True)\n",
       "  (pool1): MaxPool2d(kernel_size=2, stride=2, padding=0, dilation=1, ceil_mode=False)\n",
       "  (e21): Conv2d(64, 128, kernel_size=(3, 3), stride=(1, 1), padding=(1, 1))\n",
       "  (bn21): BatchNorm2d(128, eps=1e-05, momentum=0.1, affine=True, track_running_stats=True)\n",
       "  (e22): Conv2d(128, 128, kernel_size=(3, 3), stride=(1, 1), padding=(1, 1))\n",
       "  (bn22): BatchNorm2d(128, eps=1e-05, momentum=0.1, affine=True, track_running_stats=True)\n",
       "  (pool2): MaxPool2d(kernel_size=2, stride=2, padding=0, dilation=1, ceil_mode=False)\n",
       "  (e31): Conv2d(128, 256, kernel_size=(3, 3), stride=(1, 1), padding=(1, 1))\n",
       "  (bn31): BatchNorm2d(256, eps=1e-05, momentum=0.1, affine=True, track_running_stats=True)\n",
       "  (e32): Conv2d(256, 256, kernel_size=(3, 3), stride=(1, 1), padding=(1, 1))\n",
       "  (bn32): BatchNorm2d(256, eps=1e-05, momentum=0.1, affine=True, track_running_stats=True)\n",
       "  (pool3): MaxPool2d(kernel_size=2, stride=2, padding=0, dilation=1, ceil_mode=False)\n",
       "  (e41): Conv2d(256, 512, kernel_size=(3, 3), stride=(1, 1), padding=(1, 1))\n",
       "  (bn41): BatchNorm2d(512, eps=1e-05, momentum=0.1, affine=True, track_running_stats=True)\n",
       "  (e42): Conv2d(512, 512, kernel_size=(3, 3), stride=(1, 1), padding=(1, 1))\n",
       "  (bn42): BatchNorm2d(512, eps=1e-05, momentum=0.1, affine=True, track_running_stats=True)\n",
       "  (pool4): MaxPool2d(kernel_size=2, stride=2, padding=0, dilation=1, ceil_mode=False)\n",
       "  (e51): Conv2d(512, 1024, kernel_size=(3, 3), stride=(1, 1), padding=(1, 1))\n",
       "  (bn51): BatchNorm2d(1024, eps=1e-05, momentum=0.1, affine=True, track_running_stats=True)\n",
       "  (e52): Conv2d(1024, 1024, kernel_size=(3, 3), stride=(1, 1), padding=(1, 1))\n",
       "  (bn52): BatchNorm2d(1024, eps=1e-05, momentum=0.1, affine=True, track_running_stats=True)\n",
       ")"
      ]
     },
     "execution_count": 5,
     "metadata": {},
     "output_type": "execute_result"
    }
   ],
   "source": [
    "encoder_save_path = 'best_models/h1_80-10-10_Encoder.pth'  # Replace with your actual encoder path\n",
    "encoder = load_encoder(encoder_save_path, device)\n",
    "encoder.to(device)\n",
    "encoder.eval()"
   ]
  },
  {
   "cell_type": "code",
   "execution_count": 6,
   "metadata": {},
   "outputs": [],
   "source": [
    "data_transforms = {\n",
    "  'all': transforms.Compose([\n",
    "    transforms.Resize((224, 224)),  \n",
    "    transforms.Grayscale(num_output_channels=1),\n",
    "    transforms.ToTensor(),\n",
    "    transforms.Normalize([0.5], [0.5])\n",
    "  ]),\n",
    "}"
   ]
  },
  {
   "cell_type": "code",
   "execution_count": 7,
   "metadata": {},
   "outputs": [],
   "source": [
    "full_dataset = datasets.ImageFolder(base_dir, transform=data_transforms['all'])"
   ]
  },
  {
   "cell_type": "code",
   "execution_count": 14,
   "metadata": {},
   "outputs": [
    {
     "name": "stderr",
     "output_type": "stream",
     "text": [
      "  6%|▋         | 999/15372 [00:47<11:28, 20.88it/s] \n"
     ]
    }
   ],
   "source": [
    "indices = list(range(len(full_dataset)))\n",
    "\n",
    "# Get the directory paths of images\n",
    "image_paths = [sample[0] for sample in full_dataset.samples]\n",
    "\n",
    "labels = [os.path.split(os.path.dirname(path))[-1] for path in image_paths]\n",
    "\n",
    "data = DataLoader(full_dataset, batch_size=4, shuffle=True, num_workers=4)\n",
    "\n",
    "labels_for_PCA = []\n",
    "latent_vectors = []\n",
    "\n",
    "with torch.no_grad():\n",
    "  i = 0\n",
    "  for image, label in tqdm(data):\n",
    "    labels_for_PCA.append(label.numpy())\n",
    "    image = image.to(device)\n",
    "    latents = encoder(image)\n",
    "    latents = latents.cpu().numpy()\n",
    "    latent_vectors.append(latents.reshape(latents.shape[0], -1))\n",
    "    i += 1\n",
    "    if i >= 1000:\n",
    "      break"
   ]
  },
  {
   "cell_type": "code",
   "execution_count": 15,
   "metadata": {},
   "outputs": [],
   "source": [
    "latent_vectors = np.concatenate(latent_vectors, axis=0)\n",
    "\n",
    "# Flatten the labels\n",
    "labels = np.concatenate(labels_for_PCA, axis=0)"
   ]
  },
  {
   "cell_type": "code",
   "execution_count": 25,
   "metadata": {},
   "outputs": [],
   "source": [
    "mask = labels == 4\n",
    "latent_vectors_x = latent_vectors[mask]\n",
    "labels_x = labels[mask]"
   ]
  },
  {
   "cell_type": "code",
   "execution_count": 26,
   "metadata": {},
   "outputs": [
    {
     "name": "stderr",
     "output_type": "stream",
     "text": [
      "C:\\Users\\ISRAEL\\AppData\\Local\\Temp\\ipykernel_2496\\2605006767.py:13: UserWarning: No artists with labels found to put in legend.  Note that artists whose label start with an underscore are ignored when legend() is called with no argument.\n",
      "  plt.legend()\n"
     ]
    },
    {
     "data": {
      "image/png": "[encoded data removed]",
      "text/plain": [
       "<Figure size 1000x800 with 1 Axes>"
      ]
     },
     "metadata": {},
     "output_type": "display_data"
    }
   ],
   "source": [
    "# Apply PCA\n",
    "pca = PCA(n_components=2)\n",
    "pca_result = pca.fit_transform(latent_vectors_x)\n",
    "\n",
    "# Plot the results\n",
    "plt.figure(figsize=(10, 8))\n",
    "\n",
    "scatter = plt.scatter(pca_result[:, 0], pca_result[:, 1], c=labels_x, cmap='viridis')\n",
    "\n",
    "plt.xlabel('PCA Component 1')\n",
    "plt.ylabel('PCA Component 2')\n",
    "plt.title('PCA of Latent Vectors')\n",
    "plt.legend()\n",
    "plt.show()"
   ]
  },
  {
   "cell_type": "code",
   "execution_count": 11,
   "metadata": {},
   "outputs": [
    {
     "ename": "NameError",
     "evalue": "name 'latent_vector' is not defined",
     "output_type": "error",
     "traceback": [
      "\u001b[1;31m---------------------------------------------------------------------------\u001b[0m",
      "\u001b[1;31mNameError\u001b[0m                                 Traceback (most recent call last)",
      "Cell \u001b[1;32mIn[11], line 2\u001b[0m\n\u001b[0;32m      1\u001b[0m \u001b[38;5;66;03m# Convertir los tensores de PyTorch a numpy\u001b[39;00m\n\u001b[1;32m----> 2\u001b[0m latent_vectors_np \u001b[38;5;241m=\u001b[39m \u001b[43mlatent_vector\u001b[49m\u001b[38;5;241m.\u001b[39mdetach()\u001b[38;5;241m.\u001b[39mcpu()\u001b[38;5;241m.\u001b[39mnumpy()\n\u001b[0;32m      3\u001b[0m labels_np \u001b[38;5;241m=\u001b[39m label_for_PCA\u001b[38;5;241m.\u001b[39mdetach()\u001b[38;5;241m.\u001b[39mcpu()\u001b[38;5;241m.\u001b[39mnumpy()\n\u001b[0;32m      5\u001b[0m \u001b[38;5;66;03m# Reformatear los datos: aplanar las dimensiones espaciales y concatenar lote y canal\u001b[39;00m\n",
      "\u001b[1;31mNameError\u001b[0m: name 'latent_vector' is not defined"
     ]
    }
   ],
   "source": [
    "# Convertir los tensores de PyTorch a numpy\n",
    "latent_vectors_np = latent_vector.detach().cpu().numpy()\n",
    "labels_np = label_for_PCA.detach().cpu().numpy()\n",
    "\n",
    "# Reformatear los datos: aplanar las dimensiones espaciales y concatenar lote y canal\n",
    "latent_vectors_flattened = latent_vectors_np.reshape(latent_vectors_np.shape[0], -1)\n",
    "\n",
    "# Centrar los datos\n",
    "latent_vectors_centered = latent_vectors_flattened - np.mean(latent_vectors_flattened, axis=0)\n",
    "\n",
    "# Calcular la matriz de covarianza\n",
    "cov_matrix = np.cov(latent_vectors_centered, rowvar=False)\n",
    "\n",
    "# Calcular los valores propios y los vectores propios\n",
    "eigenvalues, eigenvectors = np.linalg.eigh(cov_matrix)\n",
    "\n",
    "# Ordenar los valores propios y los vectores propios\n",
    "sorted_index = np.argsort(eigenvalues)[::-1]\n",
    "sorted_eigenvalues = eigenvalues[sorted_index]\n",
    "sorted_eigenvectors = eigenvectors[:, sorted_index]\n",
    "\n",
    "# Calcular la varianza explicada acumulada\n",
    "explained_variances = sorted_eigenvalues / np.sum(sorted_eigenvalues)\n",
    "cumulative_explained_variance = np.cumsum(explained_variances)\n",
    "\n",
    "# Seleccionar el número de componentes para alcanzar el 85% de la varianza\n",
    "num_components = np.argmax(cumulative_explained_variance >= 0.85) + 1\n",
    "\n",
    "# Seleccionar los vectores propios correspondientes\n",
    "eigenvector_subset = sorted_eigenvectors[:, 0:num_components]\n",
    "\n",
    "# Proyectar los datos en los nuevos componentes principales\n",
    "latent_vectors_reduced = np.dot(latent_vectors_centered, eigenvector_subset)\n",
    "\n",
    "# Visualizar los datos (solo si num_components es 2)\n",
    "if num_components == 2:\n",
    "    plt.figure(figsize=(10, 8))\n",
    "    scatter = plt.scatter(latent_vectors_reduced[:, 0], latent_vectors_reduced[:, 1], c=labels_np, cmap='viridis', alpha=0.5)\n",
    "    plt.colorbar(scatter)\n",
    "    plt.title('Visualización de Vectores Latentes con PCA Manual')\n",
    "    plt.xlabel('Componente Principal 1')\n",
    "    plt.ylabel('Componente Principal 2')\n",
    "    plt.show()\n",
    "else:\n",
    "    print(f\"Los datos se han reducido a {num_components} dimensiones para conservar el 85% de la varianza.\")\n",
    "\n"
   ]
  },
  {
   "cell_type": "code",
   "execution_count": null,
   "metadata": {},
   "outputs": [],
   "source": []
  }
 ],
 "metadata": {
  "kernelspec": {
   "display_name": "public",
   "language": "python",
   "name": "python3"
  },
  "language_info": {
   "codemirror_mode": {
    "name": "ipython",
    "version": 3
   },
   "file_extension": ".py",
   "mimetype": "text/x-python",
   "name": "python",
   "nbconvert_exporter": "python",
   "pygments_lexer": "ipython3",
   "version": "3.11.2"
  }
 },
 "nbformat": 4,
 "nbformat_minor": 4
}

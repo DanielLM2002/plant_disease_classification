{
 "cells": [
  {
   "cell_type": "code",
   "execution_count": 1,
   "metadata": {},
   "outputs": [],
   "source": [
    "import os\n",
    "import cv2\n",
    "import shutil\n",
    "import numpy as np\n",
    "from tqdm import tqdm"
   ]
  },
  {
   "cell_type": "code",
   "execution_count": 2,
   "metadata": {},
   "outputs": [],
   "source": [
    "original_images_dir = 'Plant_leave_diseases_dataset/original'\n",
    "noisy_images_dir = 'Plant_leave_diseases_dataset/with_noise'\n",
    "salt_prob = 0.025\n",
    "pepper_prob = 0.025"
   ]
  },
  {
   "cell_type": "code",
   "execution_count": 3,
   "metadata": {},
   "outputs": [],
   "source": [
    "def add_salt_and_pepper_noise(image, salt_prob, pepper_prob):\n",
    "  noisy_image = image.copy()\n",
    "  total_pixels = image.shape[0] * image.shape[1]\n",
    "\n",
    "  # Add salt noise\n",
    "  num_salt = np.ceil(salt_prob * total_pixels)\n",
    "  coords = [np.random.randint(0, i - 1, int(num_salt)) for i in image.shape]\n",
    "  noisy_image[coords[0], coords[1], :] = 1\n",
    "\n",
    "  # Add pepper noise\n",
    "  num_pepper = np.ceil(pepper_prob * total_pixels)\n",
    "  coords = [np.random.randint(0, i - 1, int(num_pepper)) for i in image.shape]\n",
    "  noisy_image[coords[0], coords[1], :] = 0\n",
    "\n",
    "  return noisy_image"
   ]
  },
  {
   "cell_type": "code",
   "execution_count": 4,
   "metadata": {},
   "outputs": [],
   "source": [
    "def copy_images (source_folder, destination_folder):\n",
    "  if not os.path.exists(destination_folder):\n",
    "    os.makedirs(destination_folder)\n",
    "  for root, dirs, files in tqdm(os.walk(source_folder)):\n",
    "    for dir in dirs:\n",
    "      source_dir = os.path.join(root, dir)\n",
    "      destination_dir = os.path.join(destination_folder, os.path.relpath(source_dir, source_folder))\n",
    "      if not os.path.exists(destination_dir):\n",
    "          os.makedirs(destination_dir)\n",
    "    for file in files:\n",
    "      source_file = os.path.join(root, file)\n",
    "      destination_file = os.path.join(destination_folder, os.path.relpath(source_file, source_folder))\n",
    "      shutil.copyfile(source_file, destination_file)"
   ]
  },
  {
   "cell_type": "code",
   "execution_count": 5,
   "metadata": {},
   "outputs": [],
   "source": [
    "def process_images(folder, salt_prob, pepper_prob):\n",
    "  for root, dirs, files in tqdm(os.walk(folder)):\n",
    "    for filename in files:\n",
    "      image_path = os.path.join(root, filename)\n",
    "      image = cv2.imread(image_path)\n",
    "      noisy_image = add_salt_and_pepper_noise(image, salt_prob, pepper_prob)\n",
    "      cv2.imwrite(image_path, noisy_image)"
   ]
  },
  {
   "cell_type": "code",
   "execution_count": 6,
   "metadata": {},
   "outputs": [
    {
     "name": "stderr",
     "output_type": "stream",
     "text": [
      "40it [07:20, 11.01s/it]\n"
     ]
    }
   ],
   "source": [
    "copy_images(original_images_dir, noisy_images_dir)"
   ]
  },
  {
   "cell_type": "code",
   "execution_count": 7,
   "metadata": {},
   "outputs": [
    {
     "name": "stderr",
     "output_type": "stream",
     "text": [
      "0it [00:00, ?it/s]"
     ]
    }
   ],
   "source": [
    "process_images(noisy_images_dir, salt_prob, pepper_prob)"
   ]
  }
 ],
 "metadata": {
  "kernelspec": {
   "display_name": ".venv",
   "language": "python",
   "name": "python3"
  },
  "language_info": {
   "codemirror_mode": {
    "name": "ipython",
    "version": 3
   },
   "file_extension": ".py",
   "mimetype": "text/x-python",
   "name": "python",
   "nbconvert_exporter": "python",
   "pygments_lexer": "ipython3",
   "version": "3.11.9"
  }
 },
 "nbformat": 4,
 "nbformat_minor": 2
}

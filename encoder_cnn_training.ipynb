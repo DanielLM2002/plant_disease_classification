{
 "cells": [
  {
   "cell_type": "markdown",
   "metadata": {},
   "source": [
    "Esteban Castañeda Blanco C01795\n",
    "\n",
    "Israel López Vallecillo C04396\n",
    "\n",
    "Daniel Lizano Morales C04285\n",
    "\n",
    "Ariel Solís Monge B97664"
   ]
  },
  {
   "cell_type": "markdown",
   "metadata": {},
   "source": [
    "## Imports and config"
   ]
  },
  {
   "cell_type": "code",
   "execution_count": 1,
   "metadata": {},
   "outputs": [],
   "source": [
    "import os\n",
    "import torch\n",
    "from torchvision import datasets, transforms, models\n",
    "from torch.utils.data import DataLoader, Subset\n",
    "from sklearn.model_selection import train_test_split\n",
    "import torch.nn as nn\n",
    "from tqdm import tqdm\n",
    "import matplotlib.pyplot as plt\n",
    "import seaborn as sns\n",
    "from sklearn.metrics import confusion_matrix\n",
    "from sklearn.metrics import confusion_matrix, precision_score, recall_score\n",
    "import wandb\n",
    "import config\n"
   ]
  },
  {
   "cell_type": "code",
   "execution_count": 2,
   "metadata": {},
   "outputs": [
    {
     "name": "stderr",
     "output_type": "stream",
     "text": [
      "Failed to detect the name of this notebook, you can set it manually with the WANDB_NOTEBOOK_NAME environment variable to enable code saving.\n",
      "\u001b[34m\u001b[1mwandb\u001b[0m: Currently logged in as: \u001b[33mdlizano\u001b[0m (\u001b[33mci-0148-g3\u001b[0m). Use \u001b[1m`wandb login --relogin`\u001b[0m to force relogin\n",
      "\u001b[34m\u001b[1mwandb\u001b[0m: \u001b[33mWARNING\u001b[0m If you're specifying your api key in code, ensure this code is not shared publicly.\n",
      "\u001b[34m\u001b[1mwandb\u001b[0m: \u001b[33mWARNING\u001b[0m Consider setting the WANDB_API_KEY environment variable, or running `wandb login` from the command line.\n",
      "\u001b[34m\u001b[1mwandb\u001b[0m: Appending key for api.wandb.ai to your netrc file: C:\\Users\\ECCI24\\_netrc\n"
     ]
    },
    {
     "data": {
      "text/plain": [
       "True"
      ]
     },
     "execution_count": 2,
     "metadata": {},
     "output_type": "execute_result"
    }
   ],
   "source": [
    "wandb.login(key=config.API_KEY)"
   ]
  },
  {
   "cell_type": "code",
   "execution_count": 3,
   "metadata": {},
   "outputs": [],
   "source": [
    "if config.USE_UNET: import unet as autoencoder\n",
    "else: import convolutional_autoencoder as autoencoder"
   ]
  },
  {
   "cell_type": "code",
   "execution_count": 4,
   "metadata": {},
   "outputs": [],
   "source": [
    "labeled_train_relative_set_size = round((config.LABELED_TRAIN_SET_ABSOLUTE_SIZE / (1 - config.UNLABELED_SET_SIZE)), 2)\n",
    "labeled_test_relative_set_size = 1 - labeled_train_relative_set_size"
   ]
  },
  {
   "cell_type": "code",
   "execution_count": 5,
   "metadata": {},
   "outputs": [
    {
     "name": "stdout",
     "output_type": "stream",
     "text": [
      "Using device: cuda\n"
     ]
    }
   ],
   "source": [
    "# Set up of the device\n",
    "if torch.backends.mps.is_available():\n",
    "    device = torch.device(\"mps\")#tqm\n",
    "elif torch.cuda.is_available():\n",
    "    device = torch.device(\"cuda\")\n",
    "else:\n",
    "    device = torch.device(\"cpu\")\n",
    "\n",
    "print(f\"Using device: {device}\")"
   ]
  },
  {
   "cell_type": "markdown",
   "metadata": {},
   "source": [
    "## Datasets and dataloaders"
   ]
  },
  {
   "cell_type": "code",
   "execution_count": 6,
   "metadata": {},
   "outputs": [],
   "source": [
    "data_transforms = {\n",
    "    'bce': transforms.Compose([\n",
    "        transforms.Resize((224, 224)),\n",
    "        transforms.ToTensor(),\n",
    "    ]),\n",
    "    'mse': transforms.Compose([\n",
    "        transforms.Resize((224, 224)),\n",
    "        transforms.ToTensor(),\n",
    "        transforms.Normalize([0.4641, 0.4891, 0.4096], [0.1883, 0.1621, 0.2068])\n",
    "    ])\n",
    "}"
   ]
  },
  {
   "cell_type": "code",
   "execution_count": 7,
   "metadata": {},
   "outputs": [],
   "source": [
    "full_dataset = datasets.ImageFolder(config.BASE_DIR_RAW, transform=data_transforms[config.AE_TRANSFORMS])\n",
    "full_noisy_dataset = datasets.ImageFolder(config.BASE_DIR_NOISY, transform=data_transforms[config.AE_TRANSFORMS])"
   ]
  },
  {
   "cell_type": "code",
   "execution_count": 8,
   "metadata": {},
   "outputs": [],
   "source": [
    "indices = list(range(len(full_dataset)))\n",
    "noisy_indices =list(range(len(full_noisy_dataset)))\n",
    "\n",
    "# Get the directory paths of images\n",
    "image_paths = [sample[0] for sample in full_dataset.samples]\n",
    "noisy_image_paths = [sample[0] for sample in full_noisy_dataset.samples]\n",
    "\n",
    "labels = [os.path.split(os.path.dirname(path))[-1] for path in image_paths]\n",
    "noisy_labels = [os.path.split(os.path.dirname(path))[-1] for path in noisy_image_paths]"
   ]
  },
  {
   "cell_type": "code",
   "execution_count": 9,
   "metadata": {},
   "outputs": [],
   "source": [
    "#Obtenemos el 20% de los datos \n",
    "train_val_indices, _  = train_test_split(indices, test_size=config.UNLABELED_SET_SIZE, stratify=labels, random_state=42)#Obtenemos el 20% de los datos \n",
    "noisy_train_val_indices, _ = train_test_split(noisy_indices, test_size=config.UNLABELED_SET_SIZE, stratify=noisy_labels, random_state=42)\n",
    "\n",
    "#Obtenemos las etiquetas de los datos de entrenamiento\n",
    "train_val_labels = [labels[i] for i in train_val_indices]\n",
    "noisy_train_val_labels = [noisy_labels[i] for i in noisy_train_val_indices]\n",
    "\n",
    "#dividir el 20% en 10% de entrenamiento y 10% de validación\n",
    "train_indices, val_indices = train_test_split(train_val_indices, test_size=labeled_test_relative_set_size, stratify=train_val_labels, random_state=42)\n",
    "noisy_train_indices, noisy_val_indices = train_test_split(noisy_train_val_indices, test_size=labeled_test_relative_set_size, stratify=noisy_train_val_labels, random_state=42)\n",
    "\n",
    "train_dataset = Subset(full_dataset, train_indices)\n",
    "noisy_train_dataset = Subset(full_noisy_dataset, noisy_train_indices)\n",
    "val_dataset = Subset(full_dataset, val_indices)\n",
    "noisy_val_dataset = Subset(full_dataset, noisy_val_indices)"
   ]
  },
  {
   "cell_type": "code",
   "execution_count": 10,
   "metadata": {},
   "outputs": [
    {
     "name": "stdout",
     "output_type": "stream",
     "text": [
      "Número de imágenes en el conjunto de entrenamiento: 21520\n",
      "Número de imágenes en el conjunto de entrenamiento: 21520\n",
      "Número de imágenes en el conjunto de validación: 9223\n",
      "Número de imágenes en el conjunto de validación: 9223\n"
     ]
    }
   ],
   "source": [
    "train_loader = DataLoader(train_dataset, batch_size=4, shuffle=True, num_workers=4)\n",
    "noisy_loader = DataLoader(noisy_train_dataset, batch_size=4, shuffle=True, num_workers=4)\n",
    "val_loader = DataLoader(val_dataset, batch_size=4, shuffle=False, num_workers=4)\n",
    "noisy_val_loader = DataLoader(noisy_val_dataset, batch_size=4, shuffle=False, num_workers=4)\n",
    "\n",
    "print(f\"Número de imágenes en el conjunto de entrenamiento: {len(train_loader.dataset)}\")\n",
    "print(f\"Número de imágenes en el conjunto de entrenamiento: {len(noisy_loader.dataset)}\")\n",
    "print(f\"Número de imágenes en el conjunto de validación: {len(val_loader.dataset)}\")\n",
    "print(f\"Número de imágenes en el conjunto de validación: {len(noisy_val_loader.dataset)}\")"
   ]
  },
  {
   "cell_type": "markdown",
   "metadata": {},
   "source": [
    "## Function definitions"
   ]
  },
  {
   "cell_type": "code",
   "execution_count": 11,
   "metadata": {},
   "outputs": [],
   "source": [
    "def plot_confusion_matrix(cm, class_names):\n",
    "    figure = plt.figure(figsize=(8, 8))\n",
    "    sns.heatmap(cm, annot=True, cmap=plt.cm.Blues, fmt='g', xticklabels=class_names, yticklabels=class_names)\n",
    "    plt.xlabel('Predicted label')\n",
    "    plt.ylabel('True label')\n",
    "    plt.title('Confusion Matrix')\n",
    "    return figure"
   ]
  },
  {
   "cell_type": "code",
   "execution_count": 12,
   "metadata": {},
   "outputs": [],
   "source": [
    "def train_model(model, criterion, optimizer, train_loader, val_loader, device, num_epochs=10, patience=3):\n",
    "    best_val_loss = float('inf')\n",
    "    epochs_no_improve = 0\n",
    "    wandb_name = config.CNN_DENOISING_SAVE_PATH if config.USE_DENOISING_AUTOENCODER else config.CNN_ENCODER_SAVE_PATH\n",
    "\n",
    "    wandb.init(project=\"classifier_training\", name=wandb_name)    \n",
    "    \n",
    "    for epoch in range(num_epochs):\n",
    "        model.train()\n",
    "        running_loss = 0.0\n",
    "        correct = 0\n",
    "        total = 0\n",
    "        \n",
    "        for inputs, labels in tqdm(train_loader):\n",
    "            inputs, labels = inputs.to(device), labels.to(device)\n",
    "            optimizer.zero_grad()\n",
    "            outputs = model(inputs)\n",
    "            loss = criterion(outputs, labels)\n",
    "            loss.backward()\n",
    "            optimizer.step()\n",
    "            \n",
    "            running_loss += loss.item()\n",
    "            _, predicted = torch.max(outputs, 1)\n",
    "            total += labels.size(0)\n",
    "            correct += (predicted == labels).sum().item()\n",
    "        \n",
    "        train_loss = running_loss / len(train_loader)\n",
    "        train_acc = correct / total\n",
    "        \n",
    "        model.eval()\n",
    "        val_loss = 0.0\n",
    "        correct = 0\n",
    "        total = 0\n",
    "        \n",
    "        with torch.no_grad():\n",
    "            for inputs, labels in val_loader:\n",
    "                inputs, labels = inputs.to(device), labels.to(device)\n",
    "                outputs = model(inputs)\n",
    "                loss = criterion(outputs, labels)\n",
    "                val_loss += loss.item()\n",
    "                _, predicted = torch.max(outputs, 1)\n",
    "                total += labels.size(0)\n",
    "                correct += (predicted == labels).sum().item()\n",
    "        \n",
    "        val_loss = val_loss / len(val_loader)\n",
    "        val_acc = correct / total\n",
    "        \n",
    "        print(f'Epoch {epoch+1}/{num_epochs}')\n",
    "        print(f'Train Loss: {train_loss:.4f} Acc: {train_acc:.4f}')\n",
    "        print(f'Val Loss: {val_loss:.4f} Acc: {val_acc:.4f}')\n",
    "\n",
    "        wandb.log({\n",
    "            \"epoch\": epoch + 1,\n",
    "            \"train_loss\": train_loss,\n",
    "            \"train_acc\": train_acc,\n",
    "            \"val_loss\": val_loss,\n",
    "            \"val_acc\": val_acc\n",
    "        })\n",
    "        \n",
    "        if val_loss < best_val_loss:\n",
    "            best_val_loss = val_loss\n",
    "            epochs_no_improve = 0\n",
    "            torch.save(model.state_dict(), config.CNN_ENCODER_SAVE_PATH)\n",
    "        else:\n",
    "            epochs_no_improve += 1\n",
    "        if epochs_no_improve >= patience:\n",
    "            print(\"Early stopping triggered!\")\n",
    "            break\n",
    "    \n",
    "    return model"
   ]
  },
  {
   "cell_type": "code",
   "execution_count": 13,
   "metadata": {},
   "outputs": [],
   "source": [
    "def evaluate_model(model, dataloader, device):\n",
    "    wandb_name = config.CNN_DENOISING_SAVE_PATH if config.USE_DENOISING_AUTOENCODER else config.CNN_ENCODER_SAVE_PATH\n",
    "    wandb.init(project=\"classifier_evaluation\", name=wandb_name)\n",
    "\n",
    "    model.eval()\n",
    "    correct = 0\n",
    "    total = 0\n",
    "    all_preds = []\n",
    "    all_labels = []\n",
    "    \n",
    "    with torch.no_grad():\n",
    "        for inputs, labels in dataloader:\n",
    "            inputs, labels = inputs.to(device), labels.to(device)\n",
    "            outputs = model(inputs)\n",
    "            _, predicted = torch.max(outputs, 1)\n",
    "            total += labels.size(0)\n",
    "            correct += (predicted == labels).sum().item()\n",
    "            all_preds.extend(predicted.cpu().numpy())\n",
    "            all_labels.extend(labels.cpu().numpy())\n",
    "    \n",
    "    accuracy = correct / total\n",
    "    cm = confusion_matrix(all_labels, all_preds)\n",
    "    plot_confusion_matrix(cm, class_names=dataloader.dataset.dataset.classes)\n",
    "    class_names = dataloader.dataset.dataset.classes\n",
    "    precision = precision_score(all_labels, all_preds, average=None)\n",
    "    recall = recall_score(all_labels, all_preds, average=None)\n",
    "    class_accuracies = cm.diagonal() / cm.sum(axis=1)\n",
    "    \n",
    "    print(f'Overall Accuracy: {accuracy:.4f}')\n",
    "    print(\"\\nMetrics by Class:\")\n",
    "    print(\"{:<20} {:<10} {:<10} {:<10}\".format(\"Class\", \"Accuracy\", \"Precision\", \"Recall\"))\n",
    "    print(\"=\"*50)\n",
    "    for class_name, class_accuracy, class_precision, class_recall in zip(class_names, class_accuracies, precision, recall):\n",
    "        print(\"{:<20} {:<10.4f} {:<10.4f} {:<10.4f}\".format(class_name, class_accuracy, class_precision, class_recall))\n",
    "\n",
    "    wandb.log({\n",
    "        \"overall_accuracy\": accuracy,\n",
    "        \"confusion_matrix\": wandb.plot.confusion_matrix(probs=None, y_true=all_labels, preds=all_preds, class_names=class_names),\n",
    "        \"precision\": {class_name: class_precision for class_name, class_precision in zip(class_names, precision)},\n",
    "        \"recall\": {class_name: class_recall for class_name, class_recall in zip(class_names, recall)},\n",
    "        \"class_accuracies\": {class_name: class_accuracy for class_name, class_accuracy in zip(class_names, class_accuracies)}\n",
    "    })\n",
    "    \n",
    "    return accuracy"
   ]
  },
  {
   "cell_type": "code",
   "execution_count": 14,
   "metadata": {},
   "outputs": [],
   "source": [
    "# Load the encoder model\n",
    "def load_encoder(model_path, device):\n",
    "    model = autoencoder.AutoEncoder()\n",
    "    model.load_state_dict(torch.load(model_path, map_location=device))\n",
    "    encoder = model.encoder\n",
    "    encoder = encoder.to(device)\n",
    "    return model, encoder"
   ]
  },
  {
   "cell_type": "markdown",
   "metadata": {},
   "source": [
    "## Encoder + CNN Classifier"
   ]
  },
  {
   "cell_type": "code",
   "execution_count": 15,
   "metadata": {},
   "outputs": [],
   "source": [
    "cnn_model = models.efficientnet_b2()\n",
    "\n",
    "# Modify the first convolutional layer to accept a different number of input channels (e.g., 1 instead of 3)\n",
    "new_in_channels = config.LATENT_CHANNELS  # Change this to the desired number of input channels\n",
    "original_conv1 = cnn_model.features[0][0]\n",
    "\n",
    "new_conv1 = nn.Conv2d(\n",
    "    in_channels=new_in_channels,\n",
    "    out_channels=original_conv1.out_channels,\n",
    "    kernel_size=original_conv1.kernel_size,\n",
    "    stride=original_conv1.stride,\n",
    "    padding=original_conv1.padding,\n",
    "    bias=original_conv1.bias\n",
    ")\n",
    "\n",
    "# Inicializar los pesos de la nueva capa convolucional\n",
    "with torch.no_grad():\n",
    "    if new_in_channels == 1:\n",
    "        # Promediar los pesos de la capa original a través de los canales de entrada\n",
    "        new_conv1.weight = nn.Parameter(original_conv1.weight.mean(dim=1, keepdim=True))\n",
    "    else:\n",
    "        # Inicializar pesos promediando los pesos de los primeros dos canales\n",
    "        new_conv1.weight[:, :2] = original_conv1.weight[:, :2].mean(dim=1, keepdim=True)\n",
    "        if new_in_channels > 2:\n",
    "            for i in range(2, new_in_channels):\n",
    "                new_conv1.weight[:, i:i+1] = original_conv1.weight.mean(dim=1, keepdim=True)\n",
    "\n",
    "# Reemplazar la primera capa convolucional en el modelo\n",
    "cnn_model.features[0][0] = new_conv1\n",
    "# model._conv_stem = nn.Conv2d(1, model._conv_stem.out_channels, kernel_size=model._conv_stem.kernel_size, stride=model._conv_stem.stride, padding=model._conv_stem.padding, bias=False)"
   ]
  },
  {
   "cell_type": "code",
   "execution_count": 16,
   "metadata": {},
   "outputs": [],
   "source": [
    "class EncoderCNN(nn.Module):\n",
    "    def __init__(self, encoder_model=None, cnn_model=None):\n",
    "        super(EncoderCNN, self).__init__()\n",
    "        self.encoder = encoder_model\n",
    "        self.cnn = cnn_model\n",
    "    \n",
    "\n",
    "    def forward(self, x):\n",
    "        x = self.encoder(x)\n",
    "        if config.USE_UNET: x = x[4]\n",
    "        x = x.reshape(x.shape[0], config.LATENT_CHANNELS, config.HEIGHT, config.WIDHT)\n",
    "        output = self.cnn(x)\n",
    "        return output"
   ]
  },
  {
   "cell_type": "code",
   "execution_count": 17,
   "metadata": {},
   "outputs": [],
   "source": [
    "autoencoder, encoder_model = load_encoder(config.AUTOENCODER_SAVE_PATH, device)"
   ]
  },
  {
   "cell_type": "code",
   "execution_count": 18,
   "metadata": {},
   "outputs": [
    {
     "data": {
      "text/plain": [
       "Sequential(\n",
       "  (0): Conv2d(3, 16, kernel_size=(3, 3), stride=(1, 1), padding=(1, 1))\n",
       "  (1): LeakyReLU(negative_slope=0.3)\n",
       "  (2): MaxPool2d(kernel_size=2, stride=2, padding=0, dilation=1, ceil_mode=False)\n",
       "  (3): Conv2d(16, 8, kernel_size=(3, 3), stride=(1, 1), padding=(1, 1))\n",
       "  (4): LeakyReLU(negative_slope=0.3)\n",
       "  (5): MaxPool2d(kernel_size=2, stride=2, padding=0, dilation=1, ceil_mode=False)\n",
       ")"
      ]
     },
     "execution_count": 18,
     "metadata": {},
     "output_type": "execute_result"
    }
   ],
   "source": [
    "model = EncoderCNN(encoder_model, cnn_model)\n",
    "model = model.to(device)\n",
    "model.encoder.requires_grad_(config.TRAIN_ENCODER_WEIGHTS)"
   ]
  },
  {
   "cell_type": "code",
   "execution_count": 19,
   "metadata": {},
   "outputs": [],
   "source": [
    "criterion = nn.CrossEntropyLoss()\n",
    "optimizer = torch.optim.Adam(model.parameters(), lr=config.LEARNING_RATE)"
   ]
  },
  {
   "cell_type": "markdown",
   "metadata": {},
   "source": [
    "### Training"
   ]
  },
  {
   "cell_type": "code",
   "execution_count": 20,
   "metadata": {},
   "outputs": [
    {
     "data": {
      "text/html": [
       "Tracking run with wandb version 0.17.3"
      ],
      "text/plain": [
       "<IPython.core.display.HTML object>"
      ]
     },
     "metadata": {},
     "output_type": "display_data"
    },
    {
     "data": {
      "text/html": [
       "Run data is saved locally in <code>c:\\Users\\ECCI24\\plant_disease_classification\\wandb\\run-20240703_004422-xtp4ealj</code>"
      ],
      "text/plain": [
       "<IPython.core.display.HTML object>"
      ]
     },
     "metadata": {},
     "output_type": "display_data"
    },
    {
     "data": {
      "text/html": [
       "Syncing run <strong><a href='https://wandb.ai/ci-0148-g3/classifier_training/runs/xtp4ealj' target=\"_blank\">best_models\\h1_50-35-15_classifierC.pth</a></strong> to <a href='https://wandb.ai/ci-0148-g3/classifier_training' target=\"_blank\">Weights & Biases</a> (<a href='https://wandb.me/run' target=\"_blank\">docs</a>)<br/>"
      ],
      "text/plain": [
       "<IPython.core.display.HTML object>"
      ]
     },
     "metadata": {},
     "output_type": "display_data"
    },
    {
     "data": {
      "text/html": [
       " View project at <a href='https://wandb.ai/ci-0148-g3/classifier_training' target=\"_blank\">https://wandb.ai/ci-0148-g3/classifier_training</a>"
      ],
      "text/plain": [
       "<IPython.core.display.HTML object>"
      ]
     },
     "metadata": {},
     "output_type": "display_data"
    },
    {
     "data": {
      "text/html": [
       " View run at <a href='https://wandb.ai/ci-0148-g3/classifier_training/runs/xtp4ealj' target=\"_blank\">https://wandb.ai/ci-0148-g3/classifier_training/runs/xtp4ealj</a>"
      ],
      "text/plain": [
       "<IPython.core.display.HTML object>"
      ]
     },
     "metadata": {},
     "output_type": "display_data"
    },
    {
     "name": "stderr",
     "output_type": "stream",
     "text": [
      "100%|██████████| 5380/5380 [10:21<00:00,  8.65it/s]\n"
     ]
    },
    {
     "name": "stdout",
     "output_type": "stream",
     "text": [
      "Epoch 1/30\n",
      "Train Loss: 3.4089 Acc: 0.1401\n",
      "Val Loss: 3.1550 Acc: 0.1897\n"
     ]
    },
    {
     "name": "stderr",
     "output_type": "stream",
     "text": [
      "100%|██████████| 5380/5380 [10:28<00:00,  8.56it/s]\n"
     ]
    },
    {
     "name": "stdout",
     "output_type": "stream",
     "text": [
      "Epoch 2/30\n",
      "Train Loss: 2.7564 Acc: 0.2462\n",
      "Val Loss: 2.0114 Acc: 0.4027\n"
     ]
    },
    {
     "name": "stderr",
     "output_type": "stream",
     "text": [
      "100%|██████████| 5380/5380 [10:50<00:00,  8.27it/s]\n"
     ]
    },
    {
     "name": "stdout",
     "output_type": "stream",
     "text": [
      "Epoch 3/30\n",
      "Train Loss: 1.8964 Acc: 0.4392\n",
      "Val Loss: 1.2368 Acc: 0.6209\n"
     ]
    },
    {
     "name": "stderr",
     "output_type": "stream",
     "text": [
      "100%|██████████| 5380/5380 [10:49<00:00,  8.28it/s]\n"
     ]
    },
    {
     "name": "stdout",
     "output_type": "stream",
     "text": [
      "Epoch 4/30\n",
      "Train Loss: 1.4069 Acc: 0.5745\n",
      "Val Loss: 0.9364 Acc: 0.7096\n"
     ]
    },
    {
     "name": "stderr",
     "output_type": "stream",
     "text": [
      "100%|██████████| 5380/5380 [10:50<00:00,  8.27it/s]\n"
     ]
    },
    {
     "name": "stdout",
     "output_type": "stream",
     "text": [
      "Epoch 5/30\n",
      "Train Loss: 1.1517 Acc: 0.6481\n",
      "Val Loss: 0.8570 Acc: 0.7248\n"
     ]
    },
    {
     "name": "stderr",
     "output_type": "stream",
     "text": [
      "100%|██████████| 5380/5380 [10:26<00:00,  8.59it/s]\n"
     ]
    },
    {
     "name": "stdout",
     "output_type": "stream",
     "text": [
      "Epoch 6/30\n",
      "Train Loss: 0.9777 Acc: 0.6977\n",
      "Val Loss: 0.6435 Acc: 0.7966\n"
     ]
    },
    {
     "name": "stderr",
     "output_type": "stream",
     "text": [
      "100%|██████████| 5380/5380 [10:31<00:00,  8.52it/s]\n"
     ]
    },
    {
     "name": "stdout",
     "output_type": "stream",
     "text": [
      "Epoch 7/30\n",
      "Train Loss: 0.8492 Acc: 0.7365\n",
      "Val Loss: 0.5975 Acc: 0.8088\n"
     ]
    },
    {
     "name": "stderr",
     "output_type": "stream",
     "text": [
      "100%|██████████| 5380/5380 [10:50<00:00,  8.27it/s]\n"
     ]
    },
    {
     "name": "stdout",
     "output_type": "stream",
     "text": [
      "Epoch 8/30\n",
      "Train Loss: 0.7660 Acc: 0.7635\n",
      "Val Loss: 0.6029 Acc: 0.8097\n"
     ]
    },
    {
     "name": "stderr",
     "output_type": "stream",
     "text": [
      "100%|██████████| 5380/5380 [10:42<00:00,  8.38it/s]\n"
     ]
    },
    {
     "name": "stdout",
     "output_type": "stream",
     "text": [
      "Epoch 9/30\n",
      "Train Loss: 0.6704 Acc: 0.7899\n",
      "Val Loss: 0.5057 Acc: 0.8399\n"
     ]
    },
    {
     "name": "stderr",
     "output_type": "stream",
     "text": [
      "100%|██████████| 5380/5380 [10:19<00:00,  8.68it/s]\n"
     ]
    },
    {
     "name": "stdout",
     "output_type": "stream",
     "text": [
      "Epoch 10/30\n",
      "Train Loss: 0.5965 Acc: 0.8157\n",
      "Val Loss: 0.4217 Acc: 0.8662\n"
     ]
    },
    {
     "name": "stderr",
     "output_type": "stream",
     "text": [
      "100%|██████████| 5380/5380 [10:49<00:00,  8.28it/s]\n"
     ]
    },
    {
     "name": "stdout",
     "output_type": "stream",
     "text": [
      "Epoch 11/30\n",
      "Train Loss: 0.5479 Acc: 0.8253\n",
      "Val Loss: 0.4348 Acc: 0.8624\n"
     ]
    },
    {
     "name": "stderr",
     "output_type": "stream",
     "text": [
      "100%|██████████| 5380/5380 [10:50<00:00,  8.27it/s]\n"
     ]
    },
    {
     "name": "stdout",
     "output_type": "stream",
     "text": [
      "Epoch 12/30\n",
      "Train Loss: 0.5019 Acc: 0.8419\n",
      "Val Loss: 0.4032 Acc: 0.8733\n"
     ]
    },
    {
     "name": "stderr",
     "output_type": "stream",
     "text": [
      "100%|██████████| 5380/5380 [10:46<00:00,  8.32it/s]\n"
     ]
    },
    {
     "name": "stdout",
     "output_type": "stream",
     "text": [
      "Epoch 13/30\n",
      "Train Loss: 0.4596 Acc: 0.8585\n",
      "Val Loss: 0.4571 Acc: 0.8590\n"
     ]
    },
    {
     "name": "stderr",
     "output_type": "stream",
     "text": [
      "100%|██████████| 5380/5380 [10:19<00:00,  8.69it/s]\n"
     ]
    },
    {
     "name": "stdout",
     "output_type": "stream",
     "text": [
      "Epoch 14/30\n",
      "Train Loss: 0.4240 Acc: 0.8678\n",
      "Val Loss: 0.3157 Acc: 0.9042\n"
     ]
    },
    {
     "name": "stderr",
     "output_type": "stream",
     "text": [
      "100%|██████████| 5380/5380 [10:17<00:00,  8.72it/s]\n"
     ]
    },
    {
     "name": "stdout",
     "output_type": "stream",
     "text": [
      "Epoch 15/30\n",
      "Train Loss: 0.3922 Acc: 0.8772\n",
      "Val Loss: 0.2767 Acc: 0.9138\n"
     ]
    },
    {
     "name": "stderr",
     "output_type": "stream",
     "text": [
      "100%|██████████| 5380/5380 [10:16<00:00,  8.73it/s]\n"
     ]
    },
    {
     "name": "stdout",
     "output_type": "stream",
     "text": [
      "Epoch 16/30\n",
      "Train Loss: 0.3696 Acc: 0.8832\n",
      "Val Loss: 0.2885 Acc: 0.9108\n"
     ]
    },
    {
     "name": "stderr",
     "output_type": "stream",
     "text": [
      "100%|██████████| 5380/5380 [10:16<00:00,  8.72it/s]\n"
     ]
    },
    {
     "name": "stdout",
     "output_type": "stream",
     "text": [
      "Epoch 17/30\n",
      "Train Loss: 0.3477 Acc: 0.8917\n",
      "Val Loss: 0.3102 Acc: 0.9069\n"
     ]
    },
    {
     "name": "stderr",
     "output_type": "stream",
     "text": [
      "100%|██████████| 5380/5380 [10:08<00:00,  8.84it/s]\n"
     ]
    },
    {
     "name": "stdout",
     "output_type": "stream",
     "text": [
      "Epoch 18/30\n",
      "Train Loss: 0.3283 Acc: 0.8964\n",
      "Val Loss: 0.3640 Acc: 0.8846\n"
     ]
    },
    {
     "name": "stderr",
     "output_type": "stream",
     "text": [
      "100%|██████████| 5380/5380 [10:10<00:00,  8.81it/s]\n"
     ]
    },
    {
     "name": "stdout",
     "output_type": "stream",
     "text": [
      "Epoch 19/30\n",
      "Train Loss: 0.3100 Acc: 0.9017\n",
      "Val Loss: 0.2531 Acc: 0.9224\n"
     ]
    },
    {
     "name": "stderr",
     "output_type": "stream",
     "text": [
      "100%|██████████| 5380/5380 [09:35<00:00,  9.34it/s]\n"
     ]
    },
    {
     "name": "stdout",
     "output_type": "stream",
     "text": [
      "Epoch 20/30\n",
      "Train Loss: 0.2902 Acc: 0.9091\n",
      "Val Loss: 0.2777 Acc: 0.9178\n"
     ]
    },
    {
     "name": "stderr",
     "output_type": "stream",
     "text": [
      "100%|██████████| 5380/5380 [09:34<00:00,  9.36it/s]\n"
     ]
    },
    {
     "name": "stdout",
     "output_type": "stream",
     "text": [
      "Epoch 21/30\n",
      "Train Loss: 0.2742 Acc: 0.9134\n",
      "Val Loss: 0.2561 Acc: 0.9220\n"
     ]
    },
    {
     "name": "stderr",
     "output_type": "stream",
     "text": [
      "100%|██████████| 5380/5380 [09:39<00:00,  9.28it/s]\n"
     ]
    },
    {
     "name": "stdout",
     "output_type": "stream",
     "text": [
      "Epoch 22/30\n",
      "Train Loss: 0.2630 Acc: 0.9157\n",
      "Val Loss: 0.2603 Acc: 0.9218\n"
     ]
    },
    {
     "name": "stderr",
     "output_type": "stream",
     "text": [
      "100%|██████████| 5380/5380 [09:40<00:00,  9.26it/s]\n"
     ]
    },
    {
     "name": "stdout",
     "output_type": "stream",
     "text": [
      "Epoch 23/30\n",
      "Train Loss: 0.2454 Acc: 0.9221\n",
      "Val Loss: 0.2925 Acc: 0.9181\n"
     ]
    },
    {
     "name": "stderr",
     "output_type": "stream",
     "text": [
      "100%|██████████| 5380/5380 [09:47<00:00,  9.16it/s]\n"
     ]
    },
    {
     "name": "stdout",
     "output_type": "stream",
     "text": [
      "Epoch 24/30\n",
      "Train Loss: 0.2364 Acc: 0.9255\n",
      "Val Loss: 0.2793 Acc: 0.9166\n",
      "Early stopping triggered!\n"
     ]
    }
   ],
   "source": [
    "if not config.USE_DENOISING_AUTOENCODER:\n",
    "    train_model(model, criterion, optimizer, train_loader, val_loader, device, num_epochs=config.EPOCHS, patience=config.PATIENCE)\n",
    "else:\n",
    "    train_model(model, criterion, optimizer, noisy_loader, noisy_val_loader, device, num_epochs=config.EPOCHS, patience=config.PATIENCE)"
   ]
  },
  {
   "cell_type": "code",
   "execution_count": 21,
   "metadata": {},
   "outputs": [
    {
     "name": "stdout",
     "output_type": "stream",
     "text": [
      "Using device: cuda\n"
     ]
    }
   ],
   "source": [
    "\n",
    "if torch.backends.mps.is_available():\n",
    "    device = torch.device(\"mps\")\n",
    "elif torch.cuda.is_available():\n",
    "    device = torch.device(\"cuda\")\n",
    "else:\n",
    "    device = torch.device(\"cpu\")\n",
    "print(f\"Using device: {device}\")\n",
    "\n",
    "def plot_confusion_matrix(cm, class_names):\n",
    "    plt.figure(figsize=(8, 8))\n",
    "    sns.heatmap(cm, annot=True, cmap=plt.cm.Blues, fmt='g', xticklabels=class_names, yticklabels=class_names)\n",
    "    plt.xlabel('Predicted label')\n",
    "    plt.ylabel('True label')\n",
    "    plt.title('Confusion Matrix')\n",
    "    plt.show()"
   ]
  },
  {
   "cell_type": "markdown",
   "metadata": {},
   "source": [
    "### Evaluation"
   ]
  },
  {
   "cell_type": "code",
   "execution_count": null,
   "metadata": {},
   "outputs": [],
   "source": [
    "model = EncoderCNN(encoder_model, cnn_model)\n",
    "model.load_state_dict(torch.load(config.CNN_ENCODER_SAVE_PATH, map_location=device))\n",
    "model = model.to(device)"
   ]
  },
  {
   "cell_type": "code",
   "execution_count": 22,
   "metadata": {},
   "outputs": [
    {
     "name": "stderr",
     "output_type": "stream",
     "text": [
      "c:\\Users\\ECCI24\\AppData\\Local\\Programs\\Python\\Python312\\Lib\\site-packages\\torchvision\\models\\_utils.py:208: UserWarning: The parameter 'pretrained' is deprecated since 0.13 and may be removed in the future, please use 'weights' instead.\n",
      "  warnings.warn(\n",
      "c:\\Users\\ECCI24\\AppData\\Local\\Programs\\Python\\Python312\\Lib\\site-packages\\torchvision\\models\\_utils.py:223: UserWarning: Arguments other than a weight enum or `None` for 'weights' are deprecated since 0.13 and may be removed in the future. The current behavior is equivalent to passing `weights=None`.\n",
      "  warnings.warn(msg)\n"
     ]
    },
    {
     "data": {
      "text/html": [
       "Finishing last run (ID:xtp4ealj) before initializing another..."
      ],
      "text/plain": [
       "<IPython.core.display.HTML object>"
      ]
     },
     "metadata": {},
     "output_type": "display_data"
    },
    {
     "data": {
      "text/html": [
       "<style>\n",
       "    table.wandb td:nth-child(1) { padding: 0 10px; text-align: left ; width: auto;} td:nth-child(2) {text-align: left ; width: 100%}\n",
       "    .wandb-row { display: flex; flex-direction: row; flex-wrap: wrap; justify-content: flex-start; width: 100% }\n",
       "    .wandb-col { display: flex; flex-direction: column; flex-basis: 100%; flex: 1; padding: 10px; }\n",
       "    </style>\n",
       "<div class=\"wandb-row\"><div class=\"wandb-col\"><h3>Run history:</h3><br/><table class=\"wandb\"><tr><td>epoch</td><td>▁▁▂▂▂▃▃▃▃▄▄▄▅▅▅▆▆▆▆▇▇▇██</td></tr><tr><td>train_acc</td><td>▁▂▄▅▆▆▆▇▇▇▇▇▇▇██████████</td></tr><tr><td>train_loss</td><td>█▇▅▄▃▃▂▂▂▂▂▂▁▁▁▁▁▁▁▁▁▁▁▁</td></tr><tr><td>val_acc</td><td>▁▃▅▆▆▇▇▇▇▇▇█▇███████████</td></tr><tr><td>val_loss</td><td>█▅▃▃▂▂▂▂▂▁▁▁▁▁▁▁▁▁▁▁▁▁▁▁</td></tr></table><br/></div><div class=\"wandb-col\"><h3>Run summary:</h3><br/><table class=\"wandb\"><tr><td>epoch</td><td>24</td></tr><tr><td>train_acc</td><td>0.92546</td></tr><tr><td>train_loss</td><td>0.23639</td></tr><tr><td>val_acc</td><td>0.91662</td></tr><tr><td>val_loss</td><td>0.27929</td></tr></table><br/></div></div>"
      ],
      "text/plain": [
       "<IPython.core.display.HTML object>"
      ]
     },
     "metadata": {},
     "output_type": "display_data"
    },
    {
     "data": {
      "text/html": [
       " View run <strong style=\"color:#cdcd00\">best_models\\h1_50-35-15_classifierC.pth</strong> at: <a href='https://wandb.ai/ci-0148-g3/classifier_training/runs/xtp4ealj' target=\"_blank\">https://wandb.ai/ci-0148-g3/classifier_training/runs/xtp4ealj</a><br/> View project at: <a href='https://wandb.ai/ci-0148-g3/classifier_training' target=\"_blank\">https://wandb.ai/ci-0148-g3/classifier_training</a><br/>Synced 5 W&B file(s), 0 media file(s), 0 artifact file(s) and 0 other file(s)"
      ],
      "text/plain": [
       "<IPython.core.display.HTML object>"
      ]
     },
     "metadata": {},
     "output_type": "display_data"
    },
    {
     "data": {
      "text/html": [
       "Find logs at: <code>.\\wandb\\run-20240703_004422-xtp4ealj\\logs</code>"
      ],
      "text/plain": [
       "<IPython.core.display.HTML object>"
      ]
     },
     "metadata": {},
     "output_type": "display_data"
    },
    {
     "data": {
      "text/html": [
       "The new W&B backend becomes opt-out in version 0.18.0; try it out with `wandb.require(\"core\")`! See https://wandb.me/wandb-core for more information."
      ],
      "text/plain": [
       "<IPython.core.display.HTML object>"
      ]
     },
     "metadata": {},
     "output_type": "display_data"
    },
    {
     "data": {
      "text/html": [
       "Successfully finished last run (ID:xtp4ealj). Initializing new run:<br/>"
      ],
      "text/plain": [
       "<IPython.core.display.HTML object>"
      ]
     },
     "metadata": {},
     "output_type": "display_data"
    },
    {
     "data": {
      "text/html": [
       "Tracking run with wandb version 0.17.3"
      ],
      "text/plain": [
       "<IPython.core.display.HTML object>"
      ]
     },
     "metadata": {},
     "output_type": "display_data"
    },
    {
     "data": {
      "text/html": [
       "Run data is saved locally in <code>c:\\Users\\ECCI24\\plant_disease_classification\\wandb\\run-20240703_052156-4x4nybzk</code>"
      ],
      "text/plain": [
       "<IPython.core.display.HTML object>"
      ]
     },
     "metadata": {},
     "output_type": "display_data"
    },
    {
     "data": {
      "text/html": [
       "Syncing run <strong><a href='https://wandb.ai/ci-0148-g3/classifier_evaluation/runs/4x4nybzk' target=\"_blank\">best_models\\h1_50-35-15_classifierC.pth</a></strong> to <a href='https://wandb.ai/ci-0148-g3/classifier_evaluation' target=\"_blank\">Weights & Biases</a> (<a href='https://wandb.me/run' target=\"_blank\">docs</a>)<br/>"
      ],
      "text/plain": [
       "<IPython.core.display.HTML object>"
      ]
     },
     "metadata": {},
     "output_type": "display_data"
    },
    {
     "data": {
      "text/html": [
       " View project at <a href='https://wandb.ai/ci-0148-g3/classifier_evaluation' target=\"_blank\">https://wandb.ai/ci-0148-g3/classifier_evaluation</a>"
      ],
      "text/plain": [
       "<IPython.core.display.HTML object>"
      ]
     },
     "metadata": {},
     "output_type": "display_data"
    },
    {
     "data": {
      "text/html": [
       " View run at <a href='https://wandb.ai/ci-0148-g3/classifier_evaluation/runs/4x4nybzk' target=\"_blank\">https://wandb.ai/ci-0148-g3/classifier_evaluation/runs/4x4nybzk</a>"
      ],
      "text/plain": [
       "<IPython.core.display.HTML object>"
      ]
     },
     "metadata": {},
     "output_type": "display_data"
    },
    {
     "ename": "RuntimeError",
     "evalue": "Error(s) in loading state_dict for EfficientNet:\n\tMissing key(s) in state_dict: \"features.0.0.weight\", \"features.0.1.weight\", \"features.0.1.bias\", \"features.0.1.running_mean\", \"features.0.1.running_var\", \"features.1.0.block.0.0.weight\", \"features.1.0.block.0.1.weight\", \"features.1.0.block.0.1.bias\", \"features.1.0.block.0.1.running_mean\", \"features.1.0.block.0.1.running_var\", \"features.1.0.block.1.fc1.weight\", \"features.1.0.block.1.fc1.bias\", \"features.1.0.block.1.fc2.weight\", \"features.1.0.block.1.fc2.bias\", \"features.1.0.block.2.0.weight\", \"features.1.0.block.2.1.weight\", \"features.1.0.block.2.1.bias\", \"features.1.0.block.2.1.running_mean\", \"features.1.0.block.2.1.running_var\", \"features.1.1.block.0.0.weight\", \"features.1.1.block.0.1.weight\", \"features.1.1.block.0.1.bias\", \"features.1.1.block.0.1.running_mean\", \"features.1.1.block.0.1.running_var\", \"features.1.1.block.1.fc1.weight\", \"features.1.1.block.1.fc1.bias\", \"features.1.1.block.1.fc2.weight\", \"features.1.1.block.1.fc2.bias\", \"features.1.1.block.2.0.weight\", \"features.1.1.block.2.1.weight\", \"features.1.1.block.2.1.bias\", \"features.1.1.block.2.1.running_mean\", \"features.1.1.block.2.1.running_var\", \"features.2.0.block.0.0.weight\", \"features.2.0.block.0.1.weight\", \"features.2.0.block.0.1.bias\", \"features.2.0.block.0.1.running_mean\", \"features.2.0.block.0.1.running_var\", \"features.2.0.block.1.0.weight\", \"features.2.0.block.1.1.weight\", \"features.2.0.block.1.1.bias\", \"features.2.0.block.1.1.running_mean\", \"features.2.0.block.1.1.running_var\", \"features.2.0.block.2.fc1.weight\", \"features.2.0.block.2.fc1.bias\", \"features.2.0.block.2.fc2.weight\", \"features.2.0.block.2.fc2.bias\", \"features.2.0.block.3.0.weight\", \"features.2.0.block.3.1.weight\", \"features.2.0.block.3.1.bias\", \"features.2.0.block.3.1.running_mean\", \"features.2.0.block.3.1.running_var\", \"features.2.1.block.0.0.weight\", \"features.2.1.block.0.1.weight\", \"features.2.1.block.0.1.bias\", \"features.2.1.block.0.1.running_mean\", \"features.2.1.block.0.1.running_var\", \"features.2.1.block.1.0.weight\", \"features.2.1.block.1.1.weight\", \"features.2.1.block.1.1.bias\", \"features.2.1.block.1.1.running_mean\", \"features.2.1.block.1.1.running_var\", \"features.2.1.block.2.fc1.weight\", \"features.2.1.block.2.fc1.bias\", \"features.2.1.block.2.fc2.weight\", \"features.2.1.block.2.fc2.bias\", \"features.2.1.block.3.0.weight\", \"features.2.1.block.3.1.weight\", \"features.2.1.block.3.1.bias\", \"features.2.1.block.3.1.running_mean\", \"features.2.1.block.3.1.running_var\", \"features.2.2.block.0.0.weight\", \"features.2.2.block.0.1.weight\", \"features.2.2.block.0.1.bias\", \"features.2.2.block.0.1.running_mean\", \"features.2.2.block.0.1.running_var\", \"features.2.2.block.1.0.weight\", \"features.2.2.block.1.1.weight\", \"features.2.2.block.1.1.bias\", \"features.2.2.block.1.1.running_mean\", \"features.2.2.block.1.1.running_var\", \"features.2.2.block.2.fc1.weight\", \"features.2.2.block.2.fc1.bias\", \"features.2.2.block.2.fc2.weight\", \"features.2.2.block.2.fc2.bias\", \"features.2.2.block.3.0.weight\", \"features.2.2.block.3.1.weight\", \"features.2.2.block.3.1.bias\", \"features.2.2.block.3.1.running_mean\", \"features.2.2.block.3.1.running_var\", \"features.3.0.block.0.0.weight\", \"features.3.0.block.0.1.weight\", \"features.3.0.block.0.1.bias\", \"features.3.0.block.0.1.running_mean\", \"features.3.0.block.0.1.running_var\", \"features.3.0.block.1.0.weight\", \"features.3.0.block.1.1.weight\", \"features.3.0.block.1.1.bias\", \"features.3.0.block.1.1.running_mean\", \"features.3.0.block.1.1.running_var\", \"features.3.0.block.2.fc1.weight\", \"features.3.0.block.2.fc1.bias\", \"features.3.0.block.2.fc2.weight\", \"features.3.0.block.2.fc2.bias\", \"features.3.0.block.3.0.weight\", \"features.3.0.block.3.1.weight\", \"features.3.0.block.3.1.bias\", \"features.3.0.block.3.1.running_mean\", \"features.3.0.block.3.1.running_var\", \"features.3.1.block.0.0.weight\", \"features.3.1.block.0.1.weight\", \"features.3.1.block.0.1.bias\", \"features.3.1.block.0.1.running_mean\", \"features.3.1.block.0.1.running_var\", \"features.3.1.block.1.0.weight\", \"features.3.1.block.1.1.weight\", \"features.3.1.block.1.1.bias\", \"features.3.1.block.1.1.running_mean\", \"features.3.1.block.1.1.running_var\", \"features.3.1.block.2.fc1.weight\", \"features.3.1.block.2.fc1.bias\", \"features.3.1.block.2.fc2.weight\", \"features.3.1.block.2.fc2.bias\", \"features.3.1.block.3.0.weight\", \"features.3.1.block.3.1.weight\", \"features.3.1.block.3.1.bias\", \"features.3.1.block.3.1.running_mean\", \"features.3.1.block.3.1.running_var\", \"features.3.2.block.0.0.weight\", \"features.3.2.block.0.1.weight\", \"features.3.2.block.0.1.bias\", \"features.3.2.block.0.1.running_mean\", \"features.3.2.block.0.1.running_var\", \"features.3.2.block.1.0.weight\", \"features.3.2.block.1.1.weight\", \"features.3.2.block.1.1.bias\", \"features.3.2.block.1.1.running_mean\", \"features.3.2.block.1.1.running_var\", \"features.3.2.block.2.fc1.weight\", \"features.3.2.block.2.fc1.bias\", \"features.3.2.block.2.fc2.weight\", \"features.3.2.block.2.fc2.bias\", \"features.3.2.block.3.0.weight\", \"features.3.2.block.3.1.weight\", \"features.3.2.block.3.1.bias\", \"features.3.2.block.3.1.running_mean\", \"features.3.2.block.3.1.running_var\", \"features.4.0.block.0.0.weight\", \"features.4.0.block.0.1.weight\", \"features.4.0.block.0.1.bias\", \"features.4.0.block.0.1.running_mean\", \"features.4.0.block.0.1.running_var\", \"features.4.0.block.1.0.weight\", \"features.4.0.block.1.1.weight\", \"features.4.0.block.1.1.bias\", \"features.4.0.block.1.1.running_mean\", \"features.4.0.block.1.1.running_var\", \"features.4.0.block.2.fc1.weight\", \"features.4.0.block.2.fc1.bias\", \"features.4.0.block.2.fc2.weight\", \"features.4.0.block.2.fc2.bias\", \"features.4.0.block.3.0.weight\", \"features.4.0.block.3.1.weight\", \"features.4.0.block.3.1.bias\", \"features.4.0.block.3.1.running_mean\", \"features.4.0.block.3.1.running_var\", \"features.4.1.block.0.0.weight\", \"features.4.1.block.0.1.weight\", \"features.4.1.block.0.1.bias\", \"features.4.1.block.0.1.running_mean\", \"features.4.1.block.0.1.running_var\", \"features.4.1.block.1.0.weight\", \"features.4.1.block.1.1.weight\", \"features.4.1.block.1.1.bias\", \"features.4.1.block.1.1.running_mean\", \"features.4.1.block.1.1.running_var\", \"features.4.1.block.2.fc1.weight\", \"features.4.1.block.2.fc1.bias\", \"features.4.1.block.2.fc2.weight\", \"features.4.1.block.2.fc2.bias\", \"features.4.1.block.3.0.weight\", \"features.4.1.block.3.1.weight\", \"features.4.1.block.3.1.bias\", \"features.4.1.block.3.1.running_mean\", \"features.4.1.block.3.1.running_var\", \"features.4.2.block.0.0.weight\", \"features.4.2.block.0.1.weight\", \"features.4.2.block.0.1.bias\", \"features.4.2.block.0.1.running_mean\", \"features.4.2.block.0.1.running_var\", \"features.4.2.block.1.0.weight\", \"features.4.2.block.1.1.weight\", \"features.4.2.block.1.1.bias\", \"features.4.2.block.1.1.running_mean\", \"features.4.2.block.1.1.running_var\", \"features.4.2.block.2.fc1.weight\", \"features.4.2.block.2.fc1.bias\", \"features.4.2.block.2.fc2.weight\", \"features.4.2.block.2.fc2.bias\", \"features.4.2.block.3.0.weight\", \"features.4.2.block.3.1.weight\", \"features.4.2.block.3.1.bias\", \"features.4.2.block.3.1.running_mean\", \"features.4.2.block.3.1.running_var\", \"features.4.3.block.0.0.weight\", \"features.4.3.block.0.1.weight\", \"features.4.3.block.0.1.bias\", \"features.4.3.block.0.1.running_mean\", \"features.4.3.block.0.1.running_var\", \"features.4.3.block.1.0.weight\", \"features.4.3.block.1.1.weight\", \"features.4.3.block.1.1.bias\", \"features.4.3.block.1.1.running_mean\", \"features.4.3.block.1.1.running_var\", \"features.4.3.block.2.fc1.weight\", \"features.4.3.block.2.fc1.bias\", \"features.4.3.block.2.fc2.weight\", \"features.4.3.block.2.fc2.bias\", \"features.4.3.block.3.0.weight\", \"features.4.3.block.3.1.weight\", \"features.4.3.block.3.1.bias\", \"features.4.3.block.3.1.running_mean\", \"features.4.3.block.3.1.running_var\", \"features.5.0.block.0.0.weight\", \"features.5.0.block.0.1.weight\", \"features.5.0.block.0.1.bias\", \"features.5.0.block.0.1.running_mean\", \"features.5.0.block.0.1.running_var\", \"features.5.0.block.1.0.weight\", \"features.5.0.block.1.1.weight\", \"features.5.0.block.1.1.bias\", \"features.5.0.block.1.1.running_mean\", \"features.5.0.block.1.1.running_var\", \"features.5.0.block.2.fc1.weight\", \"features.5.0.block.2.fc1.bias\", \"features.5.0.block.2.fc2.weight\", \"features.5.0.block.2.fc2.bias\", \"features.5.0.block.3.0.weight\", \"features.5.0.block.3.1.weight\", \"features.5.0.block.3.1.bias\", \"features.5.0.block.3.1.running_mean\", \"features.5.0.block.3.1.running_var\", \"features.5.1.block.0.0.weight\", \"features.5.1.block.0.1.weight\", \"features.5.1.block.0.1.bias\", \"features.5.1.block.0.1.running_mean\", \"features.5.1.block.0.1.running_var\", \"features.5.1.block.1.0.weight\", \"features.5.1.block.1.1.weight\", \"features.5.1.block.1.1.bias\", \"features.5.1.block.1.1.running_mean\", \"features.5.1.block.1.1.running_var\", \"features.5.1.block.2.fc1.weight\", \"features.5.1.block.2.fc1.bias\", \"features.5.1.block.2.fc2.weight\", \"features.5.1.block.2.fc2.bias\", \"features.5.1.block.3.0.weight\", \"features.5.1.block.3.1.weight\", \"features.5.1.block.3.1.bias\", \"features.5.1.block.3.1.running_mean\", \"features.5.1.block.3.1.running_var\", \"features.5.2.block.0.0.weight\", \"features.5.2.block.0.1.weight\", \"features.5.2.block.0.1.bias\", \"features.5.2.block.0.1.running_mean\", \"features.5.2.block.0.1.running_var\", \"features.5.2.block.1.0.weight\", \"features.5.2.block.1.1.weight\", \"features.5.2.block.1.1.bias\", \"features.5.2.block.1.1.running_mean\", \"features.5.2.block.1.1.running_var\", \"features.5.2.block.2.fc1.weight\", \"features.5.2.block.2.fc1.bias\", \"features.5.2.block.2.fc2.weight\", \"features.5.2.block.2.fc2.bias\", \"features.5.2.block.3.0.weight\", \"features.5.2.block.3.1.weight\", \"features.5.2.block.3.1.bias\", \"features.5.2.block.3.1.running_mean\", \"features.5.2.block.3.1.running_var\", \"features.5.3.block.0.0.weight\", \"features.5.3.block.0.1.weight\", \"features.5.3.block.0.1.bias\", \"features.5.3.block.0.1.running_mean\", \"features.5.3.block.0.1.running_var\", \"features.5.3.block.1.0.weight\", \"features.5.3.block.1.1.weight\", \"features.5.3.block.1.1.bias\", \"features.5.3.block.1.1.running_mean\", \"features.5.3.block.1.1.running_var\", \"features.5.3.block.2.fc1.weight\", \"features.5.3.block.2.fc1.bias\", \"features.5.3.block.2.fc2.weight\", \"features.5.3.block.2.fc2.bias\", \"features.5.3.block.3.0.weight\", \"features.5.3.block.3.1.weight\", \"features.5.3.block.3.1.bias\", \"features.5.3.block.3.1.running_mean\", \"features.5.3.block.3.1.running_var\", \"features.6.0.block.0.0.weight\", \"features.6.0.block.0.1.weight\", \"features.6.0.block.0.1.bias\", \"features.6.0.block.0.1.running_mean\", \"features.6.0.block.0.1.running_var\", \"features.6.0.block.1.0.weight\", \"features.6.0.block.1.1.weight\", \"features.6.0.block.1.1.bias\", \"features.6.0.block.1.1.running_mean\", \"features.6.0.block.1.1.running_var\", \"features.6.0.block.2.fc1.weight\", \"features.6.0.block.2.fc1.bias\", \"features.6.0.block.2.fc2.weight\", \"features.6.0.block.2.fc2.bias\", \"features.6.0.block.3.0.weight\", \"features.6.0.block.3.1.weight\", \"features.6.0.block.3.1.bias\", \"features.6.0.block.3.1.running_mean\", \"features.6.0.block.3.1.running_var\", \"features.6.1.block.0.0.weight\", \"features.6.1.block.0.1.weight\", \"features.6.1.block.0.1.bias\", \"features.6.1.block.0.1.running_mean\", \"features.6.1.block.0.1.running_var\", \"features.6.1.block.1.0.weight\", \"features.6.1.block.1.1.weight\", \"features.6.1.block.1.1.bias\", \"features.6.1.block.1.1.running_mean\", \"features.6.1.block.1.1.running_var\", \"features.6.1.block.2.fc1.weight\", \"features.6.1.block.2.fc1.bias\", \"features.6.1.block.2.fc2.weight\", \"features.6.1.block.2.fc2.bias\", \"features.6.1.block.3.0.weight\", \"features.6.1.block.3.1.weight\", \"features.6.1.block.3.1.bias\", \"features.6.1.block.3.1.running_mean\", \"features.6.1.block.3.1.running_var\", \"features.6.2.block.0.0.weight\", \"features.6.2.block.0.1.weight\", \"features.6.2.block.0.1.bias\", \"features.6.2.block.0.1.running_mean\", \"features.6.2.block.0.1.running_var\", \"features.6.2.block.1.0.weight\", \"features.6.2.block.1.1.weight\", \"features.6.2.block.1.1.bias\", \"features.6.2.block.1.1.running_mean\", \"features.6.2.block.1.1.running_var\", \"features.6.2.block.2.fc1.weight\", \"features.6.2.block.2.fc1.bias\", \"features.6.2.block.2.fc2.weight\", \"features.6.2.block.2.fc2.bias\", \"features.6.2.block.3.0.weight\", \"features.6.2.block.3.1.weight\", \"features.6.2.block.3.1.bias\", \"features.6.2.block.3.1.running_mean\", \"features.6.2.block.3.1.running_var\", \"features.6.3.block.0.0.weight\", \"features.6.3.block.0.1.weight\", \"features.6.3.block.0.1.bias\", \"features.6.3.block.0.1.running_mean\", \"features.6.3.block.0.1.running_var\", \"features.6.3.block.1.0.weight\", \"features.6.3.block.1.1.weight\", \"features.6.3.block.1.1.bias\", \"features.6.3.block.1.1.running_mean\", \"features.6.3.block.1.1.running_var\", \"features.6.3.block.2.fc1.weight\", \"features.6.3.block.2.fc1.bias\", \"features.6.3.block.2.fc2.weight\", \"features.6.3.block.2.fc2.bias\", \"features.6.3.block.3.0.weight\", \"features.6.3.block.3.1.weight\", \"features.6.3.block.3.1.bias\", \"features.6.3.block.3.1.running_mean\", \"features.6.3.block.3.1.running_var\", \"features.6.4.block.0.0.weight\", \"features.6.4.block.0.1.weight\", \"features.6.4.block.0.1.bias\", \"features.6.4.block.0.1.running_mean\", \"features.6.4.block.0.1.running_var\", \"features.6.4.block.1.0.weight\", \"features.6.4.block.1.1.weight\", \"features.6.4.block.1.1.bias\", \"features.6.4.block.1.1.running_mean\", \"features.6.4.block.1.1.running_var\", \"features.6.4.block.2.fc1.weight\", \"features.6.4.block.2.fc1.bias\", \"features.6.4.block.2.fc2.weight\", \"features.6.4.block.2.fc2.bias\", \"features.6.4.block.3.0.weight\", \"features.6.4.block.3.1.weight\", \"features.6.4.block.3.1.bias\", \"features.6.4.block.3.1.running_mean\", \"features.6.4.block.3.1.running_var\", \"features.7.0.block.0.0.weight\", \"features.7.0.block.0.1.weight\", \"features.7.0.block.0.1.bias\", \"features.7.0.block.0.1.running_mean\", \"features.7.0.block.0.1.running_var\", \"features.7.0.block.1.0.weight\", \"features.7.0.block.1.1.weight\", \"features.7.0.block.1.1.bias\", \"features.7.0.block.1.1.running_mean\", \"features.7.0.block.1.1.running_var\", \"features.7.0.block.2.fc1.weight\", \"features.7.0.block.2.fc1.bias\", \"features.7.0.block.2.fc2.weight\", \"features.7.0.block.2.fc2.bias\", \"features.7.0.block.3.0.weight\", \"features.7.0.block.3.1.weight\", \"features.7.0.block.3.1.bias\", \"features.7.0.block.3.1.running_mean\", \"features.7.0.block.3.1.running_var\", \"features.7.1.block.0.0.weight\", \"features.7.1.block.0.1.weight\", \"features.7.1.block.0.1.bias\", \"features.7.1.block.0.1.running_mean\", \"features.7.1.block.0.1.running_var\", \"features.7.1.block.1.0.weight\", \"features.7.1.block.1.1.weight\", \"features.7.1.block.1.1.bias\", \"features.7.1.block.1.1.running_mean\", \"features.7.1.block.1.1.running_var\", \"features.7.1.block.2.fc1.weight\", \"features.7.1.block.2.fc1.bias\", \"features.7.1.block.2.fc2.weight\", \"features.7.1.block.2.fc2.bias\", \"features.7.1.block.3.0.weight\", \"features.7.1.block.3.1.weight\", \"features.7.1.block.3.1.bias\", \"features.7.1.block.3.1.running_mean\", \"features.7.1.block.3.1.running_var\", \"features.8.0.weight\", \"features.8.1.weight\", \"features.8.1.bias\", \"features.8.1.running_mean\", \"features.8.1.running_var\", \"classifier.1.weight\", \"classifier.1.bias\". \n\tUnexpected key(s) in state_dict: \"encoder.0.weight\", \"encoder.0.bias\", \"encoder.3.weight\", \"encoder.3.bias\", \"cnn.features.0.0.weight\", \"cnn.features.0.1.weight\", \"cnn.features.0.1.bias\", \"cnn.features.0.1.running_mean\", \"cnn.features.0.1.running_var\", \"cnn.features.0.1.num_batches_tracked\", \"cnn.features.1.0.block.0.0.weight\", \"cnn.features.1.0.block.0.1.weight\", \"cnn.features.1.0.block.0.1.bias\", \"cnn.features.1.0.block.0.1.running_mean\", \"cnn.features.1.0.block.0.1.running_var\", \"cnn.features.1.0.block.0.1.num_batches_tracked\", \"cnn.features.1.0.block.1.fc1.weight\", \"cnn.features.1.0.block.1.fc1.bias\", \"cnn.features.1.0.block.1.fc2.weight\", \"cnn.features.1.0.block.1.fc2.bias\", \"cnn.features.1.0.block.2.0.weight\", \"cnn.features.1.0.block.2.1.weight\", \"cnn.features.1.0.block.2.1.bias\", \"cnn.features.1.0.block.2.1.running_mean\", \"cnn.features.1.0.block.2.1.running_var\", \"cnn.features.1.0.block.2.1.num_batches_tracked\", \"cnn.features.1.1.block.0.0.weight\", \"cnn.features.1.1.block.0.1.weight\", \"cnn.features.1.1.block.0.1.bias\", \"cnn.features.1.1.block.0.1.running_mean\", \"cnn.features.1.1.block.0.1.running_var\", \"cnn.features.1.1.block.0.1.num_batches_tracked\", \"cnn.features.1.1.block.1.fc1.weight\", \"cnn.features.1.1.block.1.fc1.bias\", \"cnn.features.1.1.block.1.fc2.weight\", \"cnn.features.1.1.block.1.fc2.bias\", \"cnn.features.1.1.block.2.0.weight\", \"cnn.features.1.1.block.2.1.weight\", \"cnn.features.1.1.block.2.1.bias\", \"cnn.features.1.1.block.2.1.running_mean\", \"cnn.features.1.1.block.2.1.running_var\", \"cnn.features.1.1.block.2.1.num_batches_tracked\", \"cnn.features.2.0.block.0.0.weight\", \"cnn.features.2.0.block.0.1.weight\", \"cnn.features.2.0.block.0.1.bias\", \"cnn.features.2.0.block.0.1.running_mean\", \"cnn.features.2.0.block.0.1.running_var\", \"cnn.features.2.0.block.0.1.num_batches_tracked\", \"cnn.features.2.0.block.1.0.weight\", \"cnn.features.2.0.block.1.1.weight\", \"cnn.features.2.0.block.1.1.bias\", \"cnn.features.2.0.block.1.1.running_mean\", \"cnn.features.2.0.block.1.1.running_var\", \"cnn.features.2.0.block.1.1.num_batches_tracked\", \"cnn.features.2.0.block.2.fc1.weight\", \"cnn.features.2.0.block.2.fc1.bias\", \"cnn.features.2.0.block.2.fc2.weight\", \"cnn.features.2.0.block.2.fc2.bias\", \"cnn.features.2.0.block.3.0.weight\", \"cnn.features.2.0.block.3.1.weight\", \"cnn.features.2.0.block.3.1.bias\", \"cnn.features.2.0.block.3.1.running_mean\", \"cnn.features.2.0.block.3.1.running_var\", \"cnn.features.2.0.block.3.1.num_batches_tracked\", \"cnn.features.2.1.block.0.0.weight\", \"cnn.features.2.1.block.0.1.weight\", \"cnn.features.2.1.block.0.1.bias\", \"cnn.features.2.1.block.0.1.running_mean\", \"cnn.features.2.1.block.0.1.running_var\", \"cnn.features.2.1.block.0.1.num_batches_tracked\", \"cnn.features.2.1.block.1.0.weight\", \"cnn.features.2.1.block.1.1.weight\", \"cnn.features.2.1.block.1.1.bias\", \"cnn.features.2.1.block.1.1.running_mean\", \"cnn.features.2.1.block.1.1.running_var\", \"cnn.features.2.1.block.1.1.num_batches_tracked\", \"cnn.features.2.1.block.2.fc1.weight\", \"cnn.features.2.1.block.2.fc1.bias\", \"cnn.features.2.1.block.2.fc2.weight\", \"cnn.features.2.1.block.2.fc2.bias\", \"cnn.features.2.1.block.3.0.weight\", \"cnn.features.2.1.block.3.1.weight\", \"cnn.features.2.1.block.3.1.bias\", \"cnn.features.2.1.block.3.1.running_mean\", \"cnn.features.2.1.block.3.1.running_var\", \"cnn.features.2.1.block.3.1.num_batches_tracked\", \"cnn.features.2.2.block.0.0.weight\", \"cnn.features.2.2.block.0.1.weight\", \"cnn.features.2.2.block.0.1.bias\", \"cnn.features.2.2.block.0.1.running_mean\", \"cnn.features.2.2.block.0.1.running_var\", \"cnn.features.2.2.block.0.1.num_batches_tracked\", \"cnn.features.2.2.block.1.0.weight\", \"cnn.features.2.2.block.1.1.weight\", \"cnn.features.2.2.block.1.1.bias\", \"cnn.features.2.2.block.1.1.running_mean\", \"cnn.features.2.2.block.1.1.running_var\", \"cnn.features.2.2.block.1.1.num_batches_tracked\", \"cnn.features.2.2.block.2.fc1.weight\", \"cnn.features.2.2.block.2.fc1.bias\", \"cnn.features.2.2.block.2.fc2.weight\", \"cnn.features.2.2.block.2.fc2.bias\", \"cnn.features.2.2.block.3.0.weight\", \"cnn.features.2.2.block.3.1.weight\", \"cnn.features.2.2.block.3.1.bias\", \"cnn.features.2.2.block.3.1.running_mean\", \"cnn.features.2.2.block.3.1.running_var\", \"cnn.features.2.2.block.3.1.num_batches_tracked\", \"cnn.features.3.0.block.0.0.weight\", \"cnn.features.3.0.block.0.1.weight\", \"cnn.features.3.0.block.0.1.bias\", \"cnn.features.3.0.block.0.1.running_mean\", \"cnn.features.3.0.block.0.1.running_var\", \"cnn.features.3.0.block.0.1.num_batches_tracked\", \"cnn.features.3.0.block.1.0.weight\", \"cnn.features.3.0.block.1.1.weight\", \"cnn.features.3.0.block.1.1.bias\", \"cnn.features.3.0.block.1.1.running_mean\", \"cnn.features.3.0.block.1.1.running_var\", \"cnn.features.3.0.block.1.1.num_batches_tracked\", \"cnn.features.3.0.block.2.fc1.weight\", \"cnn.features.3.0.block.2.fc1.bias\", \"cnn.features.3.0.block.2.fc2.weight\", \"cnn.features.3.0.block.2.fc2.bias\", \"cnn.features.3.0.block.3.0.weight\", \"cnn.features.3.0.block.3.1.weight\", \"cnn.features.3.0.block.3.1.bias\", \"cnn.features.3.0.block.3.1.running_mean\", \"cnn.features.3.0.block.3.1.running_var\", \"cnn.features.3.0.block.3.1.num_batches_tracked\", \"cnn.features.3.1.block.0.0.weight\", \"cnn.features.3.1.block.0.1.weight\", \"cnn.features.3.1.block.0.1.bias\", \"cnn.features.3.1.block.0.1.running_mean\", \"cnn.features.3.1.block.0.1.running_var\", \"cnn.features.3.1.block.0.1.num_batches_tracked\", \"cnn.features.3.1.block.1.0.weight\", \"cnn.features.3.1.block.1.1.weight\", \"cnn.features.3.1.block.1.1.bias\", \"cnn.features.3.1.block.1.1.running_mean\", \"cnn.features.3.1.block.1.1.running_var\", \"cnn.features.3.1.block.1.1.num_batches_tracked\", \"cnn.features.3.1.block.2.fc1.weight\", \"cnn.features.3.1.block.2.fc1.bias\", \"cnn.features.3.1.block.2.fc2.weight\", \"cnn.features.3.1.block.2.fc2.bias\", \"cnn.features.3.1.block.3.0.weight\", \"cnn.features.3.1.block.3.1.weight\", \"cnn.features.3.1.block.3.1.bias\", \"cnn.features.3.1.block.3.1.running_mean\", \"cnn.features.3.1.block.3.1.running_var\", \"cnn.features.3.1.block.3.1.num_batches_tracked\", \"cnn.features.3.2.block.0.0.weight\", \"cnn.features.3.2.block.0.1.weight\", \"cnn.features.3.2.block.0.1.bias\", \"cnn.features.3.2.block.0.1.running_mean\", \"cnn.features.3.2.block.0.1.running_var\", \"cnn.features.3.2.block.0.1.num_batches_tracked\", \"cnn.features.3.2.block.1.0.weight\", \"cnn.features.3.2.block.1.1.weight\", \"cnn.features.3.2.block.1.1.bias\", \"cnn.features.3.2.block.1.1.running_mean\", \"cnn.features.3.2.block.1.1.running_var\", \"cnn.features.3.2.block.1.1.num_batches_tracked\", \"cnn.features.3.2.block.2.fc1.weight\", \"cnn.features.3.2.block.2.fc1.bias\", \"cnn.features.3.2.block.2.fc2.weight\", \"cnn.features.3.2.block.2.fc2.bias\", \"cnn.features.3.2.block.3.0.weight\", \"cnn.features.3.2.block.3.1.weight\", \"cnn.features.3.2.block.3.1.bias\", \"cnn.features.3.2.block.3.1.running_mean\", \"cnn.features.3.2.block.3.1.running_var\", \"cnn.features.3.2.block.3.1.num_batches_tracked\", \"cnn.features.4.0.block.0.0.weight\", \"cnn.features.4.0.block.0.1.weight\", \"cnn.features.4.0.block.0.1.bias\", \"cnn.features.4.0.block.0.1.running_mean\", \"cnn.features.4.0.block.0.1.running_var\", \"cnn.features.4.0.block.0.1.num_batches_tracked\", \"cnn.features.4.0.block.1.0.weight\", \"cnn.features.4.0.block.1.1.weight\", \"cnn.features.4.0.block.1.1.bias\", \"cnn.features.4.0.block.1.1.running_mean\", \"cnn.features.4.0.block.1.1.running_var\", \"cnn.features.4.0.block.1.1.num_batches_tracked\", \"cnn.features.4.0.block.2.fc1.weight\", \"cnn.features.4.0.block.2.fc1.bias\", \"cnn.features.4.0.block.2.fc2.weight\", \"cnn.features.4.0.block.2.fc2.bias\", \"cnn.features.4.0.block.3.0.weight\", \"cnn.features.4.0.block.3.1.weight\", \"cnn.features.4.0.block.3.1.bias\", \"cnn.features.4.0.block.3.1.running_mean\", \"cnn.features.4.0.block.3.1.running_var\", \"cnn.features.4.0.block.3.1.num_batches_tracked\", \"cnn.features.4.1.block.0.0.weight\", \"cnn.features.4.1.block.0.1.weight\", \"cnn.features.4.1.block.0.1.bias\", \"cnn.features.4.1.block.0.1.running_mean\", \"cnn.features.4.1.block.0.1.running_var\", \"cnn.features.4.1.block.0.1.num_batches_tracked\", \"cnn.features.4.1.block.1.0.weight\", \"cnn.features.4.1.block.1.1.weight\", \"cnn.features.4.1.block.1.1.bias\", \"cnn.features.4.1.block.1.1.running_mean\", \"cnn.features.4.1.block.1.1.running_var\", \"cnn.features.4.1.block.1.1.num_batches_tracked\", \"cnn.features.4.1.block.2.fc1.weight\", \"cnn.features.4.1.block.2.fc1.bias\", \"cnn.features.4.1.block.2.fc2.weight\", \"cnn.features.4.1.block.2.fc2.bias\", \"cnn.features.4.1.block.3.0.weight\", \"cnn.features.4.1.block.3.1.weight\", \"cnn.features.4.1.block.3.1.bias\", \"cnn.features.4.1.block.3.1.running_mean\", \"cnn.features.4.1.block.3.1.running_var\", \"cnn.features.4.1.block.3.1.num_batches_tracked\", \"cnn.features.4.2.block.0.0.weight\", \"cnn.features.4.2.block.0.1.weight\", \"cnn.features.4.2.block.0.1.bias\", \"cnn.features.4.2.block.0.1.running_mean\", \"cnn.features.4.2.block.0.1.running_var\", \"cnn.features.4.2.block.0.1.num_batches_tracked\", \"cnn.features.4.2.block.1.0.weight\", \"cnn.features.4.2.block.1.1.weight\", \"cnn.features.4.2.block.1.1.bias\", \"cnn.features.4.2.block.1.1.running_mean\", \"cnn.features.4.2.block.1.1.running_var\", \"cnn.features.4.2.block.1.1.num_batches_tracked\", \"cnn.features.4.2.block.2.fc1.weight\", \"cnn.features.4.2.block.2.fc1.bias\", \"cnn.features.4.2.block.2.fc2.weight\", \"cnn.features.4.2.block.2.fc2.bias\", \"cnn.features.4.2.block.3.0.weight\", \"cnn.features.4.2.block.3.1.weight\", \"cnn.features.4.2.block.3.1.bias\", \"cnn.features.4.2.block.3.1.running_mean\", \"cnn.features.4.2.block.3.1.running_var\", \"cnn.features.4.2.block.3.1.num_batches_tracked\", \"cnn.features.4.3.block.0.0.weight\", \"cnn.features.4.3.block.0.1.weight\", \"cnn.features.4.3.block.0.1.bias\", \"cnn.features.4.3.block.0.1.running_mean\", \"cnn.features.4.3.block.0.1.running_var\", \"cnn.features.4.3.block.0.1.num_batches_tracked\", \"cnn.features.4.3.block.1.0.weight\", \"cnn.features.4.3.block.1.1.weight\", \"cnn.features.4.3.block.1.1.bias\", \"cnn.features.4.3.block.1.1.running_mean\", \"cnn.features.4.3.block.1.1.running_var\", \"cnn.features.4.3.block.1.1.num_batches_tracked\", \"cnn.features.4.3.block.2.fc1.weight\", \"cnn.features.4.3.block.2.fc1.bias\", \"cnn.features.4.3.block.2.fc2.weight\", \"cnn.features.4.3.block.2.fc2.bias\", \"cnn.features.4.3.block.3.0.weight\", \"cnn.features.4.3.block.3.1.weight\", \"cnn.features.4.3.block.3.1.bias\", \"cnn.features.4.3.block.3.1.running_mean\", \"cnn.features.4.3.block.3.1.running_var\", \"cnn.features.4.3.block.3.1.num_batches_tracked\", \"cnn.features.5.0.block.0.0.weight\", \"cnn.features.5.0.block.0.1.weight\", \"cnn.features.5.0.block.0.1.bias\", \"cnn.features.5.0.block.0.1.running_mean\", \"cnn.features.5.0.block.0.1.running_var\", \"cnn.features.5.0.block.0.1.num_batches_tracked\", \"cnn.features.5.0.block.1.0.weight\", \"cnn.features.5.0.block.1.1.weight\", \"cnn.features.5.0.block.1.1.bias\", \"cnn.features.5.0.block.1.1.running_mean\", \"cnn.features.5.0.block.1.1.running_var\", \"cnn.features.5.0.block.1.1.num_batches_tracked\", \"cnn.features.5.0.block.2.fc1.weight\", \"cnn.features.5.0.block.2.fc1.bias\", \"cnn.features.5.0.block.2.fc2.weight\", \"cnn.features.5.0.block.2.fc2.bias\", \"cnn.features.5.0.block.3.0.weight\", \"cnn.features.5.0.block.3.1.weight\", \"cnn.features.5.0.block.3.1.bias\", \"cnn.features.5.0.block.3.1.running_mean\", \"cnn.features.5.0.block.3.1.running_var\", \"cnn.features.5.0.block.3.1.num_batches_tracked\", \"cnn.features.5.1.block.0.0.weight\", \"cnn.features.5.1.block.0.1.weight\", \"cnn.features.5.1.block.0.1.bias\", \"cnn.features.5.1.block.0.1.running_mean\", \"cnn.features.5.1.block.0.1.running_var\", \"cnn.features.5.1.block.0.1.num_batches_tracked\", \"cnn.features.5.1.block.1.0.weight\", \"cnn.features.5.1.block.1.1.weight\", \"cnn.features.5.1.block.1.1.bias\", \"cnn.features.5.1.block.1.1.running_mean\", \"cnn.features.5.1.block.1.1.running_var\", \"cnn.features.5.1.block.1.1.num_batches_tracked\", \"cnn.features.5.1.block.2.fc1.weight\", \"cnn.features.5.1.block.2.fc1.bias\", \"cnn.features.5.1.block.2.fc2.weight\", \"cnn.features.5.1.block.2.fc2.bias\", \"cnn.features.5.1.block.3.0.weight\", \"cnn.features.5.1.block.3.1.weight\", \"cnn.features.5.1.block.3.1.bias\", \"cnn.features.5.1.block.3.1.running_mean\", \"cnn.features.5.1.block.3.1.running_var\", \"cnn.features.5.1.block.3.1.num_batches_tracked\", \"cnn.features.5.2.block.0.0.weight\", \"cnn.features.5.2.block.0.1.weight\", \"cnn.features.5.2.block.0.1.bias\", \"cnn.features.5.2.block.0.1.running_mean\", \"cnn.features.5.2.block.0.1.running_var\", \"cnn.features.5.2.block.0.1.num_batches_tracked\", \"cnn.features.5.2.block.1.0.weight\", \"cnn.features.5.2.block.1.1.weight\", \"cnn.features.5.2.block.1.1.bias\", \"cnn.features.5.2.block.1.1.running_mean\", \"cnn.features.5.2.block.1.1.running_var\", \"cnn.features.5.2.block.1.1.num_batches_tracked\", \"cnn.features.5.2.block.2.fc1.weight\", \"cnn.features.5.2.block.2.fc1.bias\", \"cnn.features.5.2.block.2.fc2.weight\", \"cnn.features.5.2.block.2.fc2.bias\", \"cnn.features.5.2.block.3.0.weight\", \"cnn.features.5.2.block.3.1.weight\", \"cnn.features.5.2.block.3.1.bias\", \"cnn.features.5.2.block.3.1.running_mean\", \"cnn.features.5.2.block.3.1.running_var\", \"cnn.features.5.2.block.3.1.num_batches_tracked\", \"cnn.features.5.3.block.0.0.weight\", \"cnn.features.5.3.block.0.1.weight\", \"cnn.features.5.3.block.0.1.bias\", \"cnn.features.5.3.block.0.1.running_mean\", \"cnn.features.5.3.block.0.1.running_var\", \"cnn.features.5.3.block.0.1.num_batches_tracked\", \"cnn.features.5.3.block.1.0.weight\", \"cnn.features.5.3.block.1.1.weight\", \"cnn.features.5.3.block.1.1.bias\", \"cnn.features.5.3.block.1.1.running_mean\", \"cnn.features.5.3.block.1.1.running_var\", \"cnn.features.5.3.block.1.1.num_batches_tracked\", \"cnn.features.5.3.block.2.fc1.weight\", \"cnn.features.5.3.block.2.fc1.bias\", \"cnn.features.5.3.block.2.fc2.weight\", \"cnn.features.5.3.block.2.fc2.bias\", \"cnn.features.5.3.block.3.0.weight\", \"cnn.features.5.3.block.3.1.weight\", \"cnn.features.5.3.block.3.1.bias\", \"cnn.features.5.3.block.3.1.running_mean\", \"cnn.features.5.3.block.3.1.running_var\", \"cnn.features.5.3.block.3.1.num_batches_tracked\", \"cnn.features.6.0.block.0.0.weight\", \"cnn.features.6.0.block.0.1.weight\", \"cnn.features.6.0.block.0.1.bias\", \"cnn.features.6.0.block.0.1.running_mean\", \"cnn.features.6.0.block.0.1.running_var\", \"cnn.features.6.0.block.0.1.num_batches_tracked\", \"cnn.features.6.0.block.1.0.weight\", \"cnn.features.6.0.block.1.1.weight\", \"cnn.features.6.0.block.1.1.bias\", \"cnn.features.6.0.block.1.1.running_mean\", \"cnn.features.6.0.block.1.1.running_var\", \"cnn.features.6.0.block.1.1.num_batches_tracked\", \"cnn.features.6.0.block.2.fc1.weight\", \"cnn.features.6.0.block.2.fc1.bias\", \"cnn.features.6.0.block.2.fc2.weight\", \"cnn.features.6.0.block.2.fc2.bias\", \"cnn.features.6.0.block.3.0.weight\", \"cnn.features.6.0.block.3.1.weight\", \"cnn.features.6.0.block.3.1.bias\", \"cnn.features.6.0.block.3.1.running_mean\", \"cnn.features.6.0.block.3.1.running_var\", \"cnn.features.6.0.block.3.1.num_batches_tracked\", \"cnn.features.6.1.block.0.0.weight\", \"cnn.features.6.1.block.0.1.weight\", \"cnn.features.6.1.block.0.1.bias\", \"cnn.features.6.1.block.0.1.running_mean\", \"cnn.features.6.1.block.0.1.running_var\", \"cnn.features.6.1.block.0.1.num_batches_tracked\", \"cnn.features.6.1.block.1.0.weight\", \"cnn.features.6.1.block.1.1.weight\", \"cnn.features.6.1.block.1.1.bias\", \"cnn.features.6.1.block.1.1.running_mean\", \"cnn.features.6.1.block.1.1.running_var\", \"cnn.features.6.1.block.1.1.num_batches_tracked\", \"cnn.features.6.1.block.2.fc1.weight\", \"cnn.features.6.1.block.2.fc1.bias\", \"cnn.features.6.1.block.2.fc2.weight\", \"cnn.features.6.1.block.2.fc2.bias\", \"cnn.features.6.1.block.3.0.weight\", \"cnn.features.6.1.block.3.1.weight\", \"cnn.features.6.1.block.3.1.bias\", \"cnn.features.6.1.block.3.1.running_mean\", \"cnn.features.6.1.block.3.1.running_var\", \"cnn.features.6.1.block.3.1.num_batches_tracked\", \"cnn.features.6.2.block.0.0.weight\", \"cnn.features.6.2.block.0.1.weight\", \"cnn.features.6.2.block.0.1.bias\", \"cnn.features.6.2.block.0.1.running_mean\", \"cnn.features.6.2.block.0.1.running_var\", \"cnn.features.6.2.block.0.1.num_batches_tracked\", \"cnn.features.6.2.block.1.0.weight\", \"cnn.features.6.2.block.1.1.weight\", \"cnn.features.6.2.block.1.1.bias\", \"cnn.features.6.2.block.1.1.running_mean\", \"cnn.features.6.2.block.1.1.running_var\", \"cnn.features.6.2.block.1.1.num_batches_tracked\", \"cnn.features.6.2.block.2.fc1.weight\", \"cnn.features.6.2.block.2.fc1.bias\", \"cnn.features.6.2.block.2.fc2.weight\", \"cnn.features.6.2.block.2.fc2.bias\", \"cnn.features.6.2.block.3.0.weight\", \"cnn.features.6.2.block.3.1.weight\", \"cnn.features.6.2.block.3.1.bias\", \"cnn.features.6.2.block.3.1.running_mean\", \"cnn.features.6.2.block.3.1.running_var\", \"cnn.features.6.2.block.3.1.num_batches_tracked\", \"cnn.features.6.3.block.0.0.weight\", \"cnn.features.6.3.block.0.1.weight\", \"cnn.features.6.3.block.0.1.bias\", \"cnn.features.6.3.block.0.1.running_mean\", \"cnn.features.6.3.block.0.1.running_var\", \"cnn.features.6.3.block.0.1.num_batches_tracked\", \"cnn.features.6.3.block.1.0.weight\", \"cnn.features.6.3.block.1.1.weight\", \"cnn.features.6.3.block.1.1.bias\", \"cnn.features.6.3.block.1.1.running_mean\", \"cnn.features.6.3.block.1.1.running_var\", \"cnn.features.6.3.block.1.1.num_batches_tracked\", \"cnn.features.6.3.block.2.fc1.weight\", \"cnn.features.6.3.block.2.fc1.bias\", \"cnn.features.6.3.block.2.fc2.weight\", \"cnn.features.6.3.block.2.fc2.bias\", \"cnn.features.6.3.block.3.0.weight\", \"cnn.features.6.3.block.3.1.weight\", \"cnn.features.6.3.block.3.1.bias\", \"cnn.features.6.3.block.3.1.running_mean\", \"cnn.features.6.3.block.3.1.running_var\", \"cnn.features.6.3.block.3.1.num_batches_tracked\", \"cnn.features.6.4.block.0.0.weight\", \"cnn.features.6.4.block.0.1.weight\", \"cnn.features.6.4.block.0.1.bias\", \"cnn.features.6.4.block.0.1.running_mean\", \"cnn.features.6.4.block.0.1.running_var\", \"cnn.features.6.4.block.0.1.num_batches_tracked\", \"cnn.features.6.4.block.1.0.weight\", \"cnn.features.6.4.block.1.1.weight\", \"cnn.features.6.4.block.1.1.bias\", \"cnn.features.6.4.block.1.1.running_mean\", \"cnn.features.6.4.block.1.1.running_var\", \"cnn.features.6.4.block.1.1.num_batches_tracked\", \"cnn.features.6.4.block.2.fc1.weight\", \"cnn.features.6.4.block.2.fc1.bias\", \"cnn.features.6.4.block.2.fc2.weight\", \"cnn.features.6.4.block.2.fc2.bias\", \"cnn.features.6.4.block.3.0.weight\", \"cnn.features.6.4.block.3.1.weight\", \"cnn.features.6.4.block.3.1.bias\", \"cnn.features.6.4.block.3.1.running_mean\", \"cnn.features.6.4.block.3.1.running_var\", \"cnn.features.6.4.block.3.1.num_batches_tracked\", \"cnn.features.7.0.block.0.0.weight\", \"cnn.features.7.0.block.0.1.weight\", \"cnn.features.7.0.block.0.1.bias\", \"cnn.features.7.0.block.0.1.running_mean\", \"cnn.features.7.0.block.0.1.running_var\", \"cnn.features.7.0.block.0.1.num_batches_tracked\", \"cnn.features.7.0.block.1.0.weight\", \"cnn.features.7.0.block.1.1.weight\", \"cnn.features.7.0.block.1.1.bias\", \"cnn.features.7.0.block.1.1.running_mean\", \"cnn.features.7.0.block.1.1.running_var\", \"cnn.features.7.0.block.1.1.num_batches_tracked\", \"cnn.features.7.0.block.2.fc1.weight\", \"cnn.features.7.0.block.2.fc1.bias\", \"cnn.features.7.0.block.2.fc2.weight\", \"cnn.features.7.0.block.2.fc2.bias\", \"cnn.features.7.0.block.3.0.weight\", \"cnn.features.7.0.block.3.1.weight\", \"cnn.features.7.0.block.3.1.bias\", \"cnn.features.7.0.block.3.1.running_mean\", \"cnn.features.7.0.block.3.1.running_var\", \"cnn.features.7.0.block.3.1.num_batches_tracked\", \"cnn.features.7.1.block.0.0.weight\", \"cnn.features.7.1.block.0.1.weight\", \"cnn.features.7.1.block.0.1.bias\", \"cnn.features.7.1.block.0.1.running_mean\", \"cnn.features.7.1.block.0.1.running_var\", \"cnn.features.7.1.block.0.1.num_batches_tracked\", \"cnn.features.7.1.block.1.0.weight\", \"cnn.features.7.1.block.1.1.weight\", \"cnn.features.7.1.block.1.1.bias\", \"cnn.features.7.1.block.1.1.running_mean\", \"cnn.features.7.1.block.1.1.running_var\", \"cnn.features.7.1.block.1.1.num_batches_tracked\", \"cnn.features.7.1.block.2.fc1.weight\", \"cnn.features.7.1.block.2.fc1.bias\", \"cnn.features.7.1.block.2.fc2.weight\", \"cnn.features.7.1.block.2.fc2.bias\", \"cnn.features.7.1.block.3.0.weight\", \"cnn.features.7.1.block.3.1.weight\", \"cnn.features.7.1.block.3.1.bias\", \"cnn.features.7.1.block.3.1.running_mean\", \"cnn.features.7.1.block.3.1.running_var\", \"cnn.features.7.1.block.3.1.num_batches_tracked\", \"cnn.features.8.0.weight\", \"cnn.features.8.1.weight\", \"cnn.features.8.1.bias\", \"cnn.features.8.1.running_mean\", \"cnn.features.8.1.running_var\", \"cnn.features.8.1.num_batches_tracked\", \"cnn.classifier.1.weight\", \"cnn.classifier.1.bias\". ",
     "output_type": "error",
     "traceback": [
      "\u001b[1;31m---------------------------------------------------------------------------\u001b[0m",
      "\u001b[1;31mRuntimeError\u001b[0m                              Traceback (most recent call last)",
      "Cell \u001b[1;32mIn[22], line 2\u001b[0m\n\u001b[0;32m      1\u001b[0m \u001b[38;5;28;01mif\u001b[39;00m \u001b[38;5;129;01mnot\u001b[39;00m config\u001b[38;5;241m.\u001b[39mUSE_DENOISING_AUTOENCODER:\n\u001b[1;32m----> 2\u001b[0m     \u001b[43mevaluate_model\u001b[49m\u001b[43m(\u001b[49m\u001b[43mconfig\u001b[49m\u001b[38;5;241;43m.\u001b[39;49m\u001b[43mCNN_ENCODER_SAVE_PATH\u001b[49m\u001b[43m,\u001b[49m\u001b[43m \u001b[49m\u001b[43mval_loader\u001b[49m\u001b[43m,\u001b[49m\u001b[43m \u001b[49m\u001b[43mdevice\u001b[49m\u001b[43m)\u001b[49m\n\u001b[0;32m      3\u001b[0m \u001b[38;5;28;01melse\u001b[39;00m:\n\u001b[0;32m      4\u001b[0m     evaluate_model(config\u001b[38;5;241m.\u001b[39mCNN_ENCODER_SAVE_PATH, noisy_val_loader, device)\n",
      "Cell \u001b[1;32mIn[13], line 26\u001b[0m, in \u001b[0;36mevaluate_model\u001b[1;34m(model_path, dataloader, device)\u001b[0m\n\u001b[0;32m     24\u001b[0m                 new_conv1\u001b[38;5;241m.\u001b[39mweight[:, i:i\u001b[38;5;241m+\u001b[39m\u001b[38;5;241m1\u001b[39m] \u001b[38;5;241m=\u001b[39m original_conv1\u001b[38;5;241m.\u001b[39mweight\u001b[38;5;241m.\u001b[39mmean(dim\u001b[38;5;241m=\u001b[39m\u001b[38;5;241m1\u001b[39m, keepdim\u001b[38;5;241m=\u001b[39m\u001b[38;5;28;01mTrue\u001b[39;00m)\n\u001b[0;32m     25\u001b[0m model\u001b[38;5;241m.\u001b[39mfeatures[\u001b[38;5;241m0\u001b[39m][\u001b[38;5;241m0\u001b[39m] \u001b[38;5;241m=\u001b[39m new_conv1\n\u001b[1;32m---> 26\u001b[0m \u001b[43mmodel\u001b[49m\u001b[38;5;241;43m.\u001b[39;49m\u001b[43mload_state_dict\u001b[49m\u001b[43m(\u001b[49m\u001b[43mtorch\u001b[49m\u001b[38;5;241;43m.\u001b[39;49m\u001b[43mload\u001b[49m\u001b[43m(\u001b[49m\u001b[43mmodel_path\u001b[49m\u001b[43m,\u001b[49m\u001b[43m \u001b[49m\u001b[43mmap_location\u001b[49m\u001b[38;5;241;43m=\u001b[39;49m\u001b[43mdevice\u001b[49m\u001b[43m)\u001b[49m\u001b[43m)\u001b[49m\n\u001b[0;32m     27\u001b[0m model \u001b[38;5;241m=\u001b[39m model\u001b[38;5;241m.\u001b[39mto(device)\n\u001b[0;32m     29\u001b[0m model\u001b[38;5;241m.\u001b[39meval()\n",
      "File \u001b[1;32mc:\\Users\\ECCI24\\AppData\\Local\\Programs\\Python\\Python312\\Lib\\site-packages\\torch\\nn\\modules\\module.py:2189\u001b[0m, in \u001b[0;36mModule.load_state_dict\u001b[1;34m(self, state_dict, strict, assign)\u001b[0m\n\u001b[0;32m   2184\u001b[0m         error_msgs\u001b[38;5;241m.\u001b[39minsert(\n\u001b[0;32m   2185\u001b[0m             \u001b[38;5;241m0\u001b[39m, \u001b[38;5;124m'\u001b[39m\u001b[38;5;124mMissing key(s) in state_dict: \u001b[39m\u001b[38;5;132;01m{}\u001b[39;00m\u001b[38;5;124m. \u001b[39m\u001b[38;5;124m'\u001b[39m\u001b[38;5;241m.\u001b[39mformat(\n\u001b[0;32m   2186\u001b[0m                 \u001b[38;5;124m'\u001b[39m\u001b[38;5;124m, \u001b[39m\u001b[38;5;124m'\u001b[39m\u001b[38;5;241m.\u001b[39mjoin(\u001b[38;5;124mf\u001b[39m\u001b[38;5;124m'\u001b[39m\u001b[38;5;124m\"\u001b[39m\u001b[38;5;132;01m{\u001b[39;00mk\u001b[38;5;132;01m}\u001b[39;00m\u001b[38;5;124m\"\u001b[39m\u001b[38;5;124m'\u001b[39m \u001b[38;5;28;01mfor\u001b[39;00m k \u001b[38;5;129;01min\u001b[39;00m missing_keys)))\n\u001b[0;32m   2188\u001b[0m \u001b[38;5;28;01mif\u001b[39;00m \u001b[38;5;28mlen\u001b[39m(error_msgs) \u001b[38;5;241m>\u001b[39m \u001b[38;5;241m0\u001b[39m:\n\u001b[1;32m-> 2189\u001b[0m     \u001b[38;5;28;01mraise\u001b[39;00m \u001b[38;5;167;01mRuntimeError\u001b[39;00m(\u001b[38;5;124m'\u001b[39m\u001b[38;5;124mError(s) in loading state_dict for \u001b[39m\u001b[38;5;132;01m{}\u001b[39;00m\u001b[38;5;124m:\u001b[39m\u001b[38;5;130;01m\\n\u001b[39;00m\u001b[38;5;130;01m\\t\u001b[39;00m\u001b[38;5;132;01m{}\u001b[39;00m\u001b[38;5;124m'\u001b[39m\u001b[38;5;241m.\u001b[39mformat(\n\u001b[0;32m   2190\u001b[0m                        \u001b[38;5;28mself\u001b[39m\u001b[38;5;241m.\u001b[39m\u001b[38;5;18m__class__\u001b[39m\u001b[38;5;241m.\u001b[39m\u001b[38;5;18m__name__\u001b[39m, \u001b[38;5;124m\"\u001b[39m\u001b[38;5;130;01m\\n\u001b[39;00m\u001b[38;5;130;01m\\t\u001b[39;00m\u001b[38;5;124m\"\u001b[39m\u001b[38;5;241m.\u001b[39mjoin(error_msgs)))\n\u001b[0;32m   2191\u001b[0m \u001b[38;5;28;01mreturn\u001b[39;00m _IncompatibleKeys(missing_keys, unexpected_keys)\n",
      "\u001b[1;31mRuntimeError\u001b[0m: Error(s) in loading state_dict for EfficientNet:\n\tMissing key(s) in state_dict: \"features.0.0.weight\", \"features.0.1.weight\", \"features.0.1.bias\", \"features.0.1.running_mean\", \"features.0.1.running_var\", \"features.1.0.block.0.0.weight\", \"features.1.0.block.0.1.weight\", \"features.1.0.block.0.1.bias\", \"features.1.0.block.0.1.running_mean\", \"features.1.0.block.0.1.running_var\", \"features.1.0.block.1.fc1.weight\", \"features.1.0.block.1.fc1.bias\", \"features.1.0.block.1.fc2.weight\", \"features.1.0.block.1.fc2.bias\", \"features.1.0.block.2.0.weight\", \"features.1.0.block.2.1.weight\", \"features.1.0.block.2.1.bias\", \"features.1.0.block.2.1.running_mean\", \"features.1.0.block.2.1.running_var\", \"features.1.1.block.0.0.weight\", \"features.1.1.block.0.1.weight\", \"features.1.1.block.0.1.bias\", \"features.1.1.block.0.1.running_mean\", \"features.1.1.block.0.1.running_var\", \"features.1.1.block.1.fc1.weight\", \"features.1.1.block.1.fc1.bias\", \"features.1.1.block.1.fc2.weight\", \"features.1.1.block.1.fc2.bias\", \"features.1.1.block.2.0.weight\", \"features.1.1.block.2.1.weight\", \"features.1.1.block.2.1.bias\", \"features.1.1.block.2.1.running_mean\", \"features.1.1.block.2.1.running_var\", \"features.2.0.block.0.0.weight\", \"features.2.0.block.0.1.weight\", \"features.2.0.block.0.1.bias\", \"features.2.0.block.0.1.running_mean\", \"features.2.0.block.0.1.running_var\", \"features.2.0.block.1.0.weight\", \"features.2.0.block.1.1.weight\", \"features.2.0.block.1.1.bias\", \"features.2.0.block.1.1.running_mean\", \"features.2.0.block.1.1.running_var\", \"features.2.0.block.2.fc1.weight\", \"features.2.0.block.2.fc1.bias\", \"features.2.0.block.2.fc2.weight\", \"features.2.0.block.2.fc2.bias\", \"features.2.0.block.3.0.weight\", \"features.2.0.block.3.1.weight\", \"features.2.0.block.3.1.bias\", \"features.2.0.block.3.1.running_mean\", \"features.2.0.block.3.1.running_var\", \"features.2.1.block.0.0.weight\", \"features.2.1.block.0.1.weight\", \"features.2.1.block.0.1.bias\", \"features.2.1.block.0.1.running_mean\", \"features.2.1.block.0.1.running_var\", \"features.2.1.block.1.0.weight\", \"features.2.1.block.1.1.weight\", \"features.2.1.block.1.1.bias\", \"features.2.1.block.1.1.running_mean\", \"features.2.1.block.1.1.running_var\", \"features.2.1.block.2.fc1.weight\", \"features.2.1.block.2.fc1.bias\", \"features.2.1.block.2.fc2.weight\", \"features.2.1.block.2.fc2.bias\", \"features.2.1.block.3.0.weight\", \"features.2.1.block.3.1.weight\", \"features.2.1.block.3.1.bias\", \"features.2.1.block.3.1.running_mean\", \"features.2.1.block.3.1.running_var\", \"features.2.2.block.0.0.weight\", \"features.2.2.block.0.1.weight\", \"features.2.2.block.0.1.bias\", \"features.2.2.block.0.1.running_mean\", \"features.2.2.block.0.1.running_var\", \"features.2.2.block.1.0.weight\", \"features.2.2.block.1.1.weight\", \"features.2.2.block.1.1.bias\", \"features.2.2.block.1.1.running_mean\", \"features.2.2.block.1.1.running_var\", \"features.2.2.block.2.fc1.weight\", \"features.2.2.block.2.fc1.bias\", \"features.2.2.block.2.fc2.weight\", \"features.2.2.block.2.fc2.bias\", \"features.2.2.block.3.0.weight\", \"features.2.2.block.3.1.weight\", \"features.2.2.block.3.1.bias\", \"features.2.2.block.3.1.running_mean\", \"features.2.2.block.3.1.running_var\", \"features.3.0.block.0.0.weight\", \"features.3.0.block.0.1.weight\", \"features.3.0.block.0.1.bias\", \"features.3.0.block.0.1.running_mean\", \"features.3.0.block.0.1.running_var\", \"features.3.0.block.1.0.weight\", \"features.3.0.block.1.1.weight\", \"features.3.0.block.1.1.bias\", \"features.3.0.block.1.1.running_mean\", \"features.3.0.block.1.1.running_var\", \"features.3.0.block.2.fc1.weight\", \"features.3.0.block.2.fc1.bias\", \"features.3.0.block.2.fc2.weight\", \"features.3.0.block.2.fc2.bias\", \"features.3.0.block.3.0.weight\", \"features.3.0.block.3.1.weight\", \"features.3.0.block.3.1.bias\", \"features.3.0.block.3.1.running_mean\", \"features.3.0.block.3.1.running_var\", \"features.3.1.block.0.0.weight\", \"features.3.1.block.0.1.weight\", \"features.3.1.block.0.1.bias\", \"features.3.1.block.0.1.running_mean\", \"features.3.1.block.0.1.running_var\", \"features.3.1.block.1.0.weight\", \"features.3.1.block.1.1.weight\", \"features.3.1.block.1.1.bias\", \"features.3.1.block.1.1.running_mean\", \"features.3.1.block.1.1.running_var\", \"features.3.1.block.2.fc1.weight\", \"features.3.1.block.2.fc1.bias\", \"features.3.1.block.2.fc2.weight\", \"features.3.1.block.2.fc2.bias\", \"features.3.1.block.3.0.weight\", \"features.3.1.block.3.1.weight\", \"features.3.1.block.3.1.bias\", \"features.3.1.block.3.1.running_mean\", \"features.3.1.block.3.1.running_var\", \"features.3.2.block.0.0.weight\", \"features.3.2.block.0.1.weight\", \"features.3.2.block.0.1.bias\", \"features.3.2.block.0.1.running_mean\", \"features.3.2.block.0.1.running_var\", \"features.3.2.block.1.0.weight\", \"features.3.2.block.1.1.weight\", \"features.3.2.block.1.1.bias\", \"features.3.2.block.1.1.running_mean\", \"features.3.2.block.1.1.running_var\", \"features.3.2.block.2.fc1.weight\", \"features.3.2.block.2.fc1.bias\", \"features.3.2.block.2.fc2.weight\", \"features.3.2.block.2.fc2.bias\", \"features.3.2.block.3.0.weight\", \"features.3.2.block.3.1.weight\", \"features.3.2.block.3.1.bias\", \"features.3.2.block.3.1.running_mean\", \"features.3.2.block.3.1.running_var\", \"features.4.0.block.0.0.weight\", \"features.4.0.block.0.1.weight\", \"features.4.0.block.0.1.bias\", \"features.4.0.block.0.1.running_mean\", \"features.4.0.block.0.1.running_var\", \"features.4.0.block.1.0.weight\", \"features.4.0.block.1.1.weight\", \"features.4.0.block.1.1.bias\", \"features.4.0.block.1.1.running_mean\", \"features.4.0.block.1.1.running_var\", \"features.4.0.block.2.fc1.weight\", \"features.4.0.block.2.fc1.bias\", \"features.4.0.block.2.fc2.weight\", \"features.4.0.block.2.fc2.bias\", \"features.4.0.block.3.0.weight\", \"features.4.0.block.3.1.weight\", \"features.4.0.block.3.1.bias\", \"features.4.0.block.3.1.running_mean\", \"features.4.0.block.3.1.running_var\", \"features.4.1.block.0.0.weight\", \"features.4.1.block.0.1.weight\", \"features.4.1.block.0.1.bias\", \"features.4.1.block.0.1.running_mean\", \"features.4.1.block.0.1.running_var\", \"features.4.1.block.1.0.weight\", \"features.4.1.block.1.1.weight\", \"features.4.1.block.1.1.bias\", \"features.4.1.block.1.1.running_mean\", \"features.4.1.block.1.1.running_var\", \"features.4.1.block.2.fc1.weight\", \"features.4.1.block.2.fc1.bias\", \"features.4.1.block.2.fc2.weight\", \"features.4.1.block.2.fc2.bias\", \"features.4.1.block.3.0.weight\", \"features.4.1.block.3.1.weight\", \"features.4.1.block.3.1.bias\", \"features.4.1.block.3.1.running_mean\", \"features.4.1.block.3.1.running_var\", \"features.4.2.block.0.0.weight\", \"features.4.2.block.0.1.weight\", \"features.4.2.block.0.1.bias\", \"features.4.2.block.0.1.running_mean\", \"features.4.2.block.0.1.running_var\", \"features.4.2.block.1.0.weight\", \"features.4.2.block.1.1.weight\", \"features.4.2.block.1.1.bias\", \"features.4.2.block.1.1.running_mean\", \"features.4.2.block.1.1.running_var\", \"features.4.2.block.2.fc1.weight\", \"features.4.2.block.2.fc1.bias\", \"features.4.2.block.2.fc2.weight\", \"features.4.2.block.2.fc2.bias\", \"features.4.2.block.3.0.weight\", \"features.4.2.block.3.1.weight\", \"features.4.2.block.3.1.bias\", \"features.4.2.block.3.1.running_mean\", \"features.4.2.block.3.1.running_var\", \"features.4.3.block.0.0.weight\", \"features.4.3.block.0.1.weight\", \"features.4.3.block.0.1.bias\", \"features.4.3.block.0.1.running_mean\", \"features.4.3.block.0.1.running_var\", \"features.4.3.block.1.0.weight\", \"features.4.3.block.1.1.weight\", \"features.4.3.block.1.1.bias\", \"features.4.3.block.1.1.running_mean\", \"features.4.3.block.1.1.running_var\", \"features.4.3.block.2.fc1.weight\", \"features.4.3.block.2.fc1.bias\", \"features.4.3.block.2.fc2.weight\", \"features.4.3.block.2.fc2.bias\", \"features.4.3.block.3.0.weight\", \"features.4.3.block.3.1.weight\", \"features.4.3.block.3.1.bias\", \"features.4.3.block.3.1.running_mean\", \"features.4.3.block.3.1.running_var\", \"features.5.0.block.0.0.weight\", \"features.5.0.block.0.1.weight\", \"features.5.0.block.0.1.bias\", \"features.5.0.block.0.1.running_mean\", \"features.5.0.block.0.1.running_var\", \"features.5.0.block.1.0.weight\", \"features.5.0.block.1.1.weight\", \"features.5.0.block.1.1.bias\", \"features.5.0.block.1.1.running_mean\", \"features.5.0.block.1.1.running_var\", \"features.5.0.block.2.fc1.weight\", \"features.5.0.block.2.fc1.bias\", \"features.5.0.block.2.fc2.weight\", \"features.5.0.block.2.fc2.bias\", \"features.5.0.block.3.0.weight\", \"features.5.0.block.3.1.weight\", \"features.5.0.block.3.1.bias\", \"features.5.0.block.3.1.running_mean\", \"features.5.0.block.3.1.running_var\", \"features.5.1.block.0.0.weight\", \"features.5.1.block.0.1.weight\", \"features.5.1.block.0.1.bias\", \"features.5.1.block.0.1.running_mean\", \"features.5.1.block.0.1.running_var\", \"features.5.1.block.1.0.weight\", \"features.5.1.block.1.1.weight\", \"features.5.1.block.1.1.bias\", \"features.5.1.block.1.1.running_mean\", \"features.5.1.block.1.1.running_var\", \"features.5.1.block.2.fc1.weight\", \"features.5.1.block.2.fc1.bias\", \"features.5.1.block.2.fc2.weight\", \"features.5.1.block.2.fc2.bias\", \"features.5.1.block.3.0.weight\", \"features.5.1.block.3.1.weight\", \"features.5.1.block.3.1.bias\", \"features.5.1.block.3.1.running_mean\", \"features.5.1.block.3.1.running_var\", \"features.5.2.block.0.0.weight\", \"features.5.2.block.0.1.weight\", \"features.5.2.block.0.1.bias\", \"features.5.2.block.0.1.running_mean\", \"features.5.2.block.0.1.running_var\", \"features.5.2.block.1.0.weight\", \"features.5.2.block.1.1.weight\", \"features.5.2.block.1.1.bias\", \"features.5.2.block.1.1.running_mean\", \"features.5.2.block.1.1.running_var\", \"features.5.2.block.2.fc1.weight\", \"features.5.2.block.2.fc1.bias\", \"features.5.2.block.2.fc2.weight\", \"features.5.2.block.2.fc2.bias\", \"features.5.2.block.3.0.weight\", \"features.5.2.block.3.1.weight\", \"features.5.2.block.3.1.bias\", \"features.5.2.block.3.1.running_mean\", \"features.5.2.block.3.1.running_var\", \"features.5.3.block.0.0.weight\", \"features.5.3.block.0.1.weight\", \"features.5.3.block.0.1.bias\", \"features.5.3.block.0.1.running_mean\", \"features.5.3.block.0.1.running_var\", \"features.5.3.block.1.0.weight\", \"features.5.3.block.1.1.weight\", \"features.5.3.block.1.1.bias\", \"features.5.3.block.1.1.running_mean\", \"features.5.3.block.1.1.running_var\", \"features.5.3.block.2.fc1.weight\", \"features.5.3.block.2.fc1.bias\", \"features.5.3.block.2.fc2.weight\", \"features.5.3.block.2.fc2.bias\", \"features.5.3.block.3.0.weight\", \"features.5.3.block.3.1.weight\", \"features.5.3.block.3.1.bias\", \"features.5.3.block.3.1.running_mean\", \"features.5.3.block.3.1.running_var\", \"features.6.0.block.0.0.weight\", \"features.6.0.block.0.1.weight\", \"features.6.0.block.0.1.bias\", \"features.6.0.block.0.1.running_mean\", \"features.6.0.block.0.1.running_var\", \"features.6.0.block.1.0.weight\", \"features.6.0.block.1.1.weight\", \"features.6.0.block.1.1.bias\", \"features.6.0.block.1.1.running_mean\", \"features.6.0.block.1.1.running_var\", \"features.6.0.block.2.fc1.weight\", \"features.6.0.block.2.fc1.bias\", \"features.6.0.block.2.fc2.weight\", \"features.6.0.block.2.fc2.bias\", \"features.6.0.block.3.0.weight\", \"features.6.0.block.3.1.weight\", \"features.6.0.block.3.1.bias\", \"features.6.0.block.3.1.running_mean\", \"features.6.0.block.3.1.running_var\", \"features.6.1.block.0.0.weight\", \"features.6.1.block.0.1.weight\", \"features.6.1.block.0.1.bias\", \"features.6.1.block.0.1.running_mean\", \"features.6.1.block.0.1.running_var\", \"features.6.1.block.1.0.weight\", \"features.6.1.block.1.1.weight\", \"features.6.1.block.1.1.bias\", \"features.6.1.block.1.1.running_mean\", \"features.6.1.block.1.1.running_var\", \"features.6.1.block.2.fc1.weight\", \"features.6.1.block.2.fc1.bias\", \"features.6.1.block.2.fc2.weight\", \"features.6.1.block.2.fc2.bias\", \"features.6.1.block.3.0.weight\", \"features.6.1.block.3.1.weight\", \"features.6.1.block.3.1.bias\", \"features.6.1.block.3.1.running_mean\", \"features.6.1.block.3.1.running_var\", \"features.6.2.block.0.0.weight\", \"features.6.2.block.0.1.weight\", \"features.6.2.block.0.1.bias\", \"features.6.2.block.0.1.running_mean\", \"features.6.2.block.0.1.running_var\", \"features.6.2.block.1.0.weight\", \"features.6.2.block.1.1.weight\", \"features.6.2.block.1.1.bias\", \"features.6.2.block.1.1.running_mean\", \"features.6.2.block.1.1.running_var\", \"features.6.2.block.2.fc1.weight\", \"features.6.2.block.2.fc1.bias\", \"features.6.2.block.2.fc2.weight\", \"features.6.2.block.2.fc2.bias\", \"features.6.2.block.3.0.weight\", \"features.6.2.block.3.1.weight\", \"features.6.2.block.3.1.bias\", \"features.6.2.block.3.1.running_mean\", \"features.6.2.block.3.1.running_var\", \"features.6.3.block.0.0.weight\", \"features.6.3.block.0.1.weight\", \"features.6.3.block.0.1.bias\", \"features.6.3.block.0.1.running_mean\", \"features.6.3.block.0.1.running_var\", \"features.6.3.block.1.0.weight\", \"features.6.3.block.1.1.weight\", \"features.6.3.block.1.1.bias\", \"features.6.3.block.1.1.running_mean\", \"features.6.3.block.1.1.running_var\", \"features.6.3.block.2.fc1.weight\", \"features.6.3.block.2.fc1.bias\", \"features.6.3.block.2.fc2.weight\", \"features.6.3.block.2.fc2.bias\", \"features.6.3.block.3.0.weight\", \"features.6.3.block.3.1.weight\", \"features.6.3.block.3.1.bias\", \"features.6.3.block.3.1.running_mean\", \"features.6.3.block.3.1.running_var\", \"features.6.4.block.0.0.weight\", \"features.6.4.block.0.1.weight\", \"features.6.4.block.0.1.bias\", \"features.6.4.block.0.1.running_mean\", \"features.6.4.block.0.1.running_var\", \"features.6.4.block.1.0.weight\", \"features.6.4.block.1.1.weight\", \"features.6.4.block.1.1.bias\", \"features.6.4.block.1.1.running_mean\", \"features.6.4.block.1.1.running_var\", \"features.6.4.block.2.fc1.weight\", \"features.6.4.block.2.fc1.bias\", \"features.6.4.block.2.fc2.weight\", \"features.6.4.block.2.fc2.bias\", \"features.6.4.block.3.0.weight\", \"features.6.4.block.3.1.weight\", \"features.6.4.block.3.1.bias\", \"features.6.4.block.3.1.running_mean\", \"features.6.4.block.3.1.running_var\", \"features.7.0.block.0.0.weight\", \"features.7.0.block.0.1.weight\", \"features.7.0.block.0.1.bias\", \"features.7.0.block.0.1.running_mean\", \"features.7.0.block.0.1.running_var\", \"features.7.0.block.1.0.weight\", \"features.7.0.block.1.1.weight\", \"features.7.0.block.1.1.bias\", \"features.7.0.block.1.1.running_mean\", \"features.7.0.block.1.1.running_var\", \"features.7.0.block.2.fc1.weight\", \"features.7.0.block.2.fc1.bias\", \"features.7.0.block.2.fc2.weight\", \"features.7.0.block.2.fc2.bias\", \"features.7.0.block.3.0.weight\", \"features.7.0.block.3.1.weight\", \"features.7.0.block.3.1.bias\", \"features.7.0.block.3.1.running_mean\", \"features.7.0.block.3.1.running_var\", \"features.7.1.block.0.0.weight\", \"features.7.1.block.0.1.weight\", \"features.7.1.block.0.1.bias\", \"features.7.1.block.0.1.running_mean\", \"features.7.1.block.0.1.running_var\", \"features.7.1.block.1.0.weight\", \"features.7.1.block.1.1.weight\", \"features.7.1.block.1.1.bias\", \"features.7.1.block.1.1.running_mean\", \"features.7.1.block.1.1.running_var\", \"features.7.1.block.2.fc1.weight\", \"features.7.1.block.2.fc1.bias\", \"features.7.1.block.2.fc2.weight\", \"features.7.1.block.2.fc2.bias\", \"features.7.1.block.3.0.weight\", \"features.7.1.block.3.1.weight\", \"features.7.1.block.3.1.bias\", \"features.7.1.block.3.1.running_mean\", \"features.7.1.block.3.1.running_var\", \"features.8.0.weight\", \"features.8.1.weight\", \"features.8.1.bias\", \"features.8.1.running_mean\", \"features.8.1.running_var\", \"classifier.1.weight\", \"classifier.1.bias\". \n\tUnexpected key(s) in state_dict: \"encoder.0.weight\", \"encoder.0.bias\", \"encoder.3.weight\", \"encoder.3.bias\", \"cnn.features.0.0.weight\", \"cnn.features.0.1.weight\", \"cnn.features.0.1.bias\", \"cnn.features.0.1.running_mean\", \"cnn.features.0.1.running_var\", \"cnn.features.0.1.num_batches_tracked\", \"cnn.features.1.0.block.0.0.weight\", \"cnn.features.1.0.block.0.1.weight\", \"cnn.features.1.0.block.0.1.bias\", \"cnn.features.1.0.block.0.1.running_mean\", \"cnn.features.1.0.block.0.1.running_var\", \"cnn.features.1.0.block.0.1.num_batches_tracked\", \"cnn.features.1.0.block.1.fc1.weight\", \"cnn.features.1.0.block.1.fc1.bias\", \"cnn.features.1.0.block.1.fc2.weight\", \"cnn.features.1.0.block.1.fc2.bias\", \"cnn.features.1.0.block.2.0.weight\", \"cnn.features.1.0.block.2.1.weight\", \"cnn.features.1.0.block.2.1.bias\", \"cnn.features.1.0.block.2.1.running_mean\", \"cnn.features.1.0.block.2.1.running_var\", \"cnn.features.1.0.block.2.1.num_batches_tracked\", \"cnn.features.1.1.block.0.0.weight\", \"cnn.features.1.1.block.0.1.weight\", \"cnn.features.1.1.block.0.1.bias\", \"cnn.features.1.1.block.0.1.running_mean\", \"cnn.features.1.1.block.0.1.running_var\", \"cnn.features.1.1.block.0.1.num_batches_tracked\", \"cnn.features.1.1.block.1.fc1.weight\", \"cnn.features.1.1.block.1.fc1.bias\", \"cnn.features.1.1.block.1.fc2.weight\", \"cnn.features.1.1.block.1.fc2.bias\", \"cnn.features.1.1.block.2.0.weight\", \"cnn.features.1.1.block.2.1.weight\", \"cnn.features.1.1.block.2.1.bias\", \"cnn.features.1.1.block.2.1.running_mean\", \"cnn.features.1.1.block.2.1.running_var\", \"cnn.features.1.1.block.2.1.num_batches_tracked\", \"cnn.features.2.0.block.0.0.weight\", \"cnn.features.2.0.block.0.1.weight\", \"cnn.features.2.0.block.0.1.bias\", \"cnn.features.2.0.block.0.1.running_mean\", \"cnn.features.2.0.block.0.1.running_var\", \"cnn.features.2.0.block.0.1.num_batches_tracked\", \"cnn.features.2.0.block.1.0.weight\", \"cnn.features.2.0.block.1.1.weight\", \"cnn.features.2.0.block.1.1.bias\", \"cnn.features.2.0.block.1.1.running_mean\", \"cnn.features.2.0.block.1.1.running_var\", \"cnn.features.2.0.block.1.1.num_batches_tracked\", \"cnn.features.2.0.block.2.fc1.weight\", \"cnn.features.2.0.block.2.fc1.bias\", \"cnn.features.2.0.block.2.fc2.weight\", \"cnn.features.2.0.block.2.fc2.bias\", \"cnn.features.2.0.block.3.0.weight\", \"cnn.features.2.0.block.3.1.weight\", \"cnn.features.2.0.block.3.1.bias\", \"cnn.features.2.0.block.3.1.running_mean\", \"cnn.features.2.0.block.3.1.running_var\", \"cnn.features.2.0.block.3.1.num_batches_tracked\", \"cnn.features.2.1.block.0.0.weight\", \"cnn.features.2.1.block.0.1.weight\", \"cnn.features.2.1.block.0.1.bias\", \"cnn.features.2.1.block.0.1.running_mean\", \"cnn.features.2.1.block.0.1.running_var\", \"cnn.features.2.1.block.0.1.num_batches_tracked\", \"cnn.features.2.1.block.1.0.weight\", \"cnn.features.2.1.block.1.1.weight\", \"cnn.features.2.1.block.1.1.bias\", \"cnn.features.2.1.block.1.1.running_mean\", \"cnn.features.2.1.block.1.1.running_var\", \"cnn.features.2.1.block.1.1.num_batches_tracked\", \"cnn.features.2.1.block.2.fc1.weight\", \"cnn.features.2.1.block.2.fc1.bias\", \"cnn.features.2.1.block.2.fc2.weight\", \"cnn.features.2.1.block.2.fc2.bias\", \"cnn.features.2.1.block.3.0.weight\", \"cnn.features.2.1.block.3.1.weight\", \"cnn.features.2.1.block.3.1.bias\", \"cnn.features.2.1.block.3.1.running_mean\", \"cnn.features.2.1.block.3.1.running_var\", \"cnn.features.2.1.block.3.1.num_batches_tracked\", \"cnn.features.2.2.block.0.0.weight\", \"cnn.features.2.2.block.0.1.weight\", \"cnn.features.2.2.block.0.1.bias\", \"cnn.features.2.2.block.0.1.running_mean\", \"cnn.features.2.2.block.0.1.running_var\", \"cnn.features.2.2.block.0.1.num_batches_tracked\", \"cnn.features.2.2.block.1.0.weight\", \"cnn.features.2.2.block.1.1.weight\", \"cnn.features.2.2.block.1.1.bias\", \"cnn.features.2.2.block.1.1.running_mean\", \"cnn.features.2.2.block.1.1.running_var\", \"cnn.features.2.2.block.1.1.num_batches_tracked\", \"cnn.features.2.2.block.2.fc1.weight\", \"cnn.features.2.2.block.2.fc1.bias\", \"cnn.features.2.2.block.2.fc2.weight\", \"cnn.features.2.2.block.2.fc2.bias\", \"cnn.features.2.2.block.3.0.weight\", \"cnn.features.2.2.block.3.1.weight\", \"cnn.features.2.2.block.3.1.bias\", \"cnn.features.2.2.block.3.1.running_mean\", \"cnn.features.2.2.block.3.1.running_var\", \"cnn.features.2.2.block.3.1.num_batches_tracked\", \"cnn.features.3.0.block.0.0.weight\", \"cnn.features.3.0.block.0.1.weight\", \"cnn.features.3.0.block.0.1.bias\", \"cnn.features.3.0.block.0.1.running_mean\", \"cnn.features.3.0.block.0.1.running_var\", \"cnn.features.3.0.block.0.1.num_batches_tracked\", \"cnn.features.3.0.block.1.0.weight\", \"cnn.features.3.0.block.1.1.weight\", \"cnn.features.3.0.block.1.1.bias\", \"cnn.features.3.0.block.1.1.running_mean\", \"cnn.features.3.0.block.1.1.running_var\", \"cnn.features.3.0.block.1.1.num_batches_tracked\", \"cnn.features.3.0.block.2.fc1.weight\", \"cnn.features.3.0.block.2.fc1.bias\", \"cnn.features.3.0.block.2.fc2.weight\", \"cnn.features.3.0.block.2.fc2.bias\", \"cnn.features.3.0.block.3.0.weight\", \"cnn.features.3.0.block.3.1.weight\", \"cnn.features.3.0.block.3.1.bias\", \"cnn.features.3.0.block.3.1.running_mean\", \"cnn.features.3.0.block.3.1.running_var\", \"cnn.features.3.0.block.3.1.num_batches_tracked\", \"cnn.features.3.1.block.0.0.weight\", \"cnn.features.3.1.block.0.1.weight\", \"cnn.features.3.1.block.0.1.bias\", \"cnn.features.3.1.block.0.1.running_mean\", \"cnn.features.3.1.block.0.1.running_var\", \"cnn.features.3.1.block.0.1.num_batches_tracked\", \"cnn.features.3.1.block.1.0.weight\", \"cnn.features.3.1.block.1.1.weight\", \"cnn.features.3.1.block.1.1.bias\", \"cnn.features.3.1.block.1.1.running_mean\", \"cnn.features.3.1.block.1.1.running_var\", \"cnn.features.3.1.block.1.1.num_batches_tracked\", \"cnn.features.3.1.block.2.fc1.weight\", \"cnn.features.3.1.block.2.fc1.bias\", \"cnn.features.3.1.block.2.fc2.weight\", \"cnn.features.3.1.block.2.fc2.bias\", \"cnn.features.3.1.block.3.0.weight\", \"cnn.features.3.1.block.3.1.weight\", \"cnn.features.3.1.block.3.1.bias\", \"cnn.features.3.1.block.3.1.running_mean\", \"cnn.features.3.1.block.3.1.running_var\", \"cnn.features.3.1.block.3.1.num_batches_tracked\", \"cnn.features.3.2.block.0.0.weight\", \"cnn.features.3.2.block.0.1.weight\", \"cnn.features.3.2.block.0.1.bias\", \"cnn.features.3.2.block.0.1.running_mean\", \"cnn.features.3.2.block.0.1.running_var\", \"cnn.features.3.2.block.0.1.num_batches_tracked\", \"cnn.features.3.2.block.1.0.weight\", \"cnn.features.3.2.block.1.1.weight\", \"cnn.features.3.2.block.1.1.bias\", \"cnn.features.3.2.block.1.1.running_mean\", \"cnn.features.3.2.block.1.1.running_var\", \"cnn.features.3.2.block.1.1.num_batches_tracked\", \"cnn.features.3.2.block.2.fc1.weight\", \"cnn.features.3.2.block.2.fc1.bias\", \"cnn.features.3.2.block.2.fc2.weight\", \"cnn.features.3.2.block.2.fc2.bias\", \"cnn.features.3.2.block.3.0.weight\", \"cnn.features.3.2.block.3.1.weight\", \"cnn.features.3.2.block.3.1.bias\", \"cnn.features.3.2.block.3.1.running_mean\", \"cnn.features.3.2.block.3.1.running_var\", \"cnn.features.3.2.block.3.1.num_batches_tracked\", \"cnn.features.4.0.block.0.0.weight\", \"cnn.features.4.0.block.0.1.weight\", \"cnn.features.4.0.block.0.1.bias\", \"cnn.features.4.0.block.0.1.running_mean\", \"cnn.features.4.0.block.0.1.running_var\", \"cnn.features.4.0.block.0.1.num_batches_tracked\", \"cnn.features.4.0.block.1.0.weight\", \"cnn.features.4.0.block.1.1.weight\", \"cnn.features.4.0.block.1.1.bias\", \"cnn.features.4.0.block.1.1.running_mean\", \"cnn.features.4.0.block.1.1.running_var\", \"cnn.features.4.0.block.1.1.num_batches_tracked\", \"cnn.features.4.0.block.2.fc1.weight\", \"cnn.features.4.0.block.2.fc1.bias\", \"cnn.features.4.0.block.2.fc2.weight\", \"cnn.features.4.0.block.2.fc2.bias\", \"cnn.features.4.0.block.3.0.weight\", \"cnn.features.4.0.block.3.1.weight\", \"cnn.features.4.0.block.3.1.bias\", \"cnn.features.4.0.block.3.1.running_mean\", \"cnn.features.4.0.block.3.1.running_var\", \"cnn.features.4.0.block.3.1.num_batches_tracked\", \"cnn.features.4.1.block.0.0.weight\", \"cnn.features.4.1.block.0.1.weight\", \"cnn.features.4.1.block.0.1.bias\", \"cnn.features.4.1.block.0.1.running_mean\", \"cnn.features.4.1.block.0.1.running_var\", \"cnn.features.4.1.block.0.1.num_batches_tracked\", \"cnn.features.4.1.block.1.0.weight\", \"cnn.features.4.1.block.1.1.weight\", \"cnn.features.4.1.block.1.1.bias\", \"cnn.features.4.1.block.1.1.running_mean\", \"cnn.features.4.1.block.1.1.running_var\", \"cnn.features.4.1.block.1.1.num_batches_tracked\", \"cnn.features.4.1.block.2.fc1.weight\", \"cnn.features.4.1.block.2.fc1.bias\", \"cnn.features.4.1.block.2.fc2.weight\", \"cnn.features.4.1.block.2.fc2.bias\", \"cnn.features.4.1.block.3.0.weight\", \"cnn.features.4.1.block.3.1.weight\", \"cnn.features.4.1.block.3.1.bias\", \"cnn.features.4.1.block.3.1.running_mean\", \"cnn.features.4.1.block.3.1.running_var\", \"cnn.features.4.1.block.3.1.num_batches_tracked\", \"cnn.features.4.2.block.0.0.weight\", \"cnn.features.4.2.block.0.1.weight\", \"cnn.features.4.2.block.0.1.bias\", \"cnn.features.4.2.block.0.1.running_mean\", \"cnn.features.4.2.block.0.1.running_var\", \"cnn.features.4.2.block.0.1.num_batches_tracked\", \"cnn.features.4.2.block.1.0.weight\", \"cnn.features.4.2.block.1.1.weight\", \"cnn.features.4.2.block.1.1.bias\", \"cnn.features.4.2.block.1.1.running_mean\", \"cnn.features.4.2.block.1.1.running_var\", \"cnn.features.4.2.block.1.1.num_batches_tracked\", \"cnn.features.4.2.block.2.fc1.weight\", \"cnn.features.4.2.block.2.fc1.bias\", \"cnn.features.4.2.block.2.fc2.weight\", \"cnn.features.4.2.block.2.fc2.bias\", \"cnn.features.4.2.block.3.0.weight\", \"cnn.features.4.2.block.3.1.weight\", \"cnn.features.4.2.block.3.1.bias\", \"cnn.features.4.2.block.3.1.running_mean\", \"cnn.features.4.2.block.3.1.running_var\", \"cnn.features.4.2.block.3.1.num_batches_tracked\", \"cnn.features.4.3.block.0.0.weight\", \"cnn.features.4.3.block.0.1.weight\", \"cnn.features.4.3.block.0.1.bias\", \"cnn.features.4.3.block.0.1.running_mean\", \"cnn.features.4.3.block.0.1.running_var\", \"cnn.features.4.3.block.0.1.num_batches_tracked\", \"cnn.features.4.3.block.1.0.weight\", \"cnn.features.4.3.block.1.1.weight\", \"cnn.features.4.3.block.1.1.bias\", \"cnn.features.4.3.block.1.1.running_mean\", \"cnn.features.4.3.block.1.1.running_var\", \"cnn.features.4.3.block.1.1.num_batches_tracked\", \"cnn.features.4.3.block.2.fc1.weight\", \"cnn.features.4.3.block.2.fc1.bias\", \"cnn.features.4.3.block.2.fc2.weight\", \"cnn.features.4.3.block.2.fc2.bias\", \"cnn.features.4.3.block.3.0.weight\", \"cnn.features.4.3.block.3.1.weight\", \"cnn.features.4.3.block.3.1.bias\", \"cnn.features.4.3.block.3.1.running_mean\", \"cnn.features.4.3.block.3.1.running_var\", \"cnn.features.4.3.block.3.1.num_batches_tracked\", \"cnn.features.5.0.block.0.0.weight\", \"cnn.features.5.0.block.0.1.weight\", \"cnn.features.5.0.block.0.1.bias\", \"cnn.features.5.0.block.0.1.running_mean\", \"cnn.features.5.0.block.0.1.running_var\", \"cnn.features.5.0.block.0.1.num_batches_tracked\", \"cnn.features.5.0.block.1.0.weight\", \"cnn.features.5.0.block.1.1.weight\", \"cnn.features.5.0.block.1.1.bias\", \"cnn.features.5.0.block.1.1.running_mean\", \"cnn.features.5.0.block.1.1.running_var\", \"cnn.features.5.0.block.1.1.num_batches_tracked\", \"cnn.features.5.0.block.2.fc1.weight\", \"cnn.features.5.0.block.2.fc1.bias\", \"cnn.features.5.0.block.2.fc2.weight\", \"cnn.features.5.0.block.2.fc2.bias\", \"cnn.features.5.0.block.3.0.weight\", \"cnn.features.5.0.block.3.1.weight\", \"cnn.features.5.0.block.3.1.bias\", \"cnn.features.5.0.block.3.1.running_mean\", \"cnn.features.5.0.block.3.1.running_var\", \"cnn.features.5.0.block.3.1.num_batches_tracked\", \"cnn.features.5.1.block.0.0.weight\", \"cnn.features.5.1.block.0.1.weight\", \"cnn.features.5.1.block.0.1.bias\", \"cnn.features.5.1.block.0.1.running_mean\", \"cnn.features.5.1.block.0.1.running_var\", \"cnn.features.5.1.block.0.1.num_batches_tracked\", \"cnn.features.5.1.block.1.0.weight\", \"cnn.features.5.1.block.1.1.weight\", \"cnn.features.5.1.block.1.1.bias\", \"cnn.features.5.1.block.1.1.running_mean\", \"cnn.features.5.1.block.1.1.running_var\", \"cnn.features.5.1.block.1.1.num_batches_tracked\", \"cnn.features.5.1.block.2.fc1.weight\", \"cnn.features.5.1.block.2.fc1.bias\", \"cnn.features.5.1.block.2.fc2.weight\", \"cnn.features.5.1.block.2.fc2.bias\", \"cnn.features.5.1.block.3.0.weight\", \"cnn.features.5.1.block.3.1.weight\", \"cnn.features.5.1.block.3.1.bias\", \"cnn.features.5.1.block.3.1.running_mean\", \"cnn.features.5.1.block.3.1.running_var\", \"cnn.features.5.1.block.3.1.num_batches_tracked\", \"cnn.features.5.2.block.0.0.weight\", \"cnn.features.5.2.block.0.1.weight\", \"cnn.features.5.2.block.0.1.bias\", \"cnn.features.5.2.block.0.1.running_mean\", \"cnn.features.5.2.block.0.1.running_var\", \"cnn.features.5.2.block.0.1.num_batches_tracked\", \"cnn.features.5.2.block.1.0.weight\", \"cnn.features.5.2.block.1.1.weight\", \"cnn.features.5.2.block.1.1.bias\", \"cnn.features.5.2.block.1.1.running_mean\", \"cnn.features.5.2.block.1.1.running_var\", \"cnn.features.5.2.block.1.1.num_batches_tracked\", \"cnn.features.5.2.block.2.fc1.weight\", \"cnn.features.5.2.block.2.fc1.bias\", \"cnn.features.5.2.block.2.fc2.weight\", \"cnn.features.5.2.block.2.fc2.bias\", \"cnn.features.5.2.block.3.0.weight\", \"cnn.features.5.2.block.3.1.weight\", \"cnn.features.5.2.block.3.1.bias\", \"cnn.features.5.2.block.3.1.running_mean\", \"cnn.features.5.2.block.3.1.running_var\", \"cnn.features.5.2.block.3.1.num_batches_tracked\", \"cnn.features.5.3.block.0.0.weight\", \"cnn.features.5.3.block.0.1.weight\", \"cnn.features.5.3.block.0.1.bias\", \"cnn.features.5.3.block.0.1.running_mean\", \"cnn.features.5.3.block.0.1.running_var\", \"cnn.features.5.3.block.0.1.num_batches_tracked\", \"cnn.features.5.3.block.1.0.weight\", \"cnn.features.5.3.block.1.1.weight\", \"cnn.features.5.3.block.1.1.bias\", \"cnn.features.5.3.block.1.1.running_mean\", \"cnn.features.5.3.block.1.1.running_var\", \"cnn.features.5.3.block.1.1.num_batches_tracked\", \"cnn.features.5.3.block.2.fc1.weight\", \"cnn.features.5.3.block.2.fc1.bias\", \"cnn.features.5.3.block.2.fc2.weight\", \"cnn.features.5.3.block.2.fc2.bias\", \"cnn.features.5.3.block.3.0.weight\", \"cnn.features.5.3.block.3.1.weight\", \"cnn.features.5.3.block.3.1.bias\", \"cnn.features.5.3.block.3.1.running_mean\", \"cnn.features.5.3.block.3.1.running_var\", \"cnn.features.5.3.block.3.1.num_batches_tracked\", \"cnn.features.6.0.block.0.0.weight\", \"cnn.features.6.0.block.0.1.weight\", \"cnn.features.6.0.block.0.1.bias\", \"cnn.features.6.0.block.0.1.running_mean\", \"cnn.features.6.0.block.0.1.running_var\", \"cnn.features.6.0.block.0.1.num_batches_tracked\", \"cnn.features.6.0.block.1.0.weight\", \"cnn.features.6.0.block.1.1.weight\", \"cnn.features.6.0.block.1.1.bias\", \"cnn.features.6.0.block.1.1.running_mean\", \"cnn.features.6.0.block.1.1.running_var\", \"cnn.features.6.0.block.1.1.num_batches_tracked\", \"cnn.features.6.0.block.2.fc1.weight\", \"cnn.features.6.0.block.2.fc1.bias\", \"cnn.features.6.0.block.2.fc2.weight\", \"cnn.features.6.0.block.2.fc2.bias\", \"cnn.features.6.0.block.3.0.weight\", \"cnn.features.6.0.block.3.1.weight\", \"cnn.features.6.0.block.3.1.bias\", \"cnn.features.6.0.block.3.1.running_mean\", \"cnn.features.6.0.block.3.1.running_var\", \"cnn.features.6.0.block.3.1.num_batches_tracked\", \"cnn.features.6.1.block.0.0.weight\", \"cnn.features.6.1.block.0.1.weight\", \"cnn.features.6.1.block.0.1.bias\", \"cnn.features.6.1.block.0.1.running_mean\", \"cnn.features.6.1.block.0.1.running_var\", \"cnn.features.6.1.block.0.1.num_batches_tracked\", \"cnn.features.6.1.block.1.0.weight\", \"cnn.features.6.1.block.1.1.weight\", \"cnn.features.6.1.block.1.1.bias\", \"cnn.features.6.1.block.1.1.running_mean\", \"cnn.features.6.1.block.1.1.running_var\", \"cnn.features.6.1.block.1.1.num_batches_tracked\", \"cnn.features.6.1.block.2.fc1.weight\", \"cnn.features.6.1.block.2.fc1.bias\", \"cnn.features.6.1.block.2.fc2.weight\", \"cnn.features.6.1.block.2.fc2.bias\", \"cnn.features.6.1.block.3.0.weight\", \"cnn.features.6.1.block.3.1.weight\", \"cnn.features.6.1.block.3.1.bias\", \"cnn.features.6.1.block.3.1.running_mean\", \"cnn.features.6.1.block.3.1.running_var\", \"cnn.features.6.1.block.3.1.num_batches_tracked\", \"cnn.features.6.2.block.0.0.weight\", \"cnn.features.6.2.block.0.1.weight\", \"cnn.features.6.2.block.0.1.bias\", \"cnn.features.6.2.block.0.1.running_mean\", \"cnn.features.6.2.block.0.1.running_var\", \"cnn.features.6.2.block.0.1.num_batches_tracked\", \"cnn.features.6.2.block.1.0.weight\", \"cnn.features.6.2.block.1.1.weight\", \"cnn.features.6.2.block.1.1.bias\", \"cnn.features.6.2.block.1.1.running_mean\", \"cnn.features.6.2.block.1.1.running_var\", \"cnn.features.6.2.block.1.1.num_batches_tracked\", \"cnn.features.6.2.block.2.fc1.weight\", \"cnn.features.6.2.block.2.fc1.bias\", \"cnn.features.6.2.block.2.fc2.weight\", \"cnn.features.6.2.block.2.fc2.bias\", \"cnn.features.6.2.block.3.0.weight\", \"cnn.features.6.2.block.3.1.weight\", \"cnn.features.6.2.block.3.1.bias\", \"cnn.features.6.2.block.3.1.running_mean\", \"cnn.features.6.2.block.3.1.running_var\", \"cnn.features.6.2.block.3.1.num_batches_tracked\", \"cnn.features.6.3.block.0.0.weight\", \"cnn.features.6.3.block.0.1.weight\", \"cnn.features.6.3.block.0.1.bias\", \"cnn.features.6.3.block.0.1.running_mean\", \"cnn.features.6.3.block.0.1.running_var\", \"cnn.features.6.3.block.0.1.num_batches_tracked\", \"cnn.features.6.3.block.1.0.weight\", \"cnn.features.6.3.block.1.1.weight\", \"cnn.features.6.3.block.1.1.bias\", \"cnn.features.6.3.block.1.1.running_mean\", \"cnn.features.6.3.block.1.1.running_var\", \"cnn.features.6.3.block.1.1.num_batches_tracked\", \"cnn.features.6.3.block.2.fc1.weight\", \"cnn.features.6.3.block.2.fc1.bias\", \"cnn.features.6.3.block.2.fc2.weight\", \"cnn.features.6.3.block.2.fc2.bias\", \"cnn.features.6.3.block.3.0.weight\", \"cnn.features.6.3.block.3.1.weight\", \"cnn.features.6.3.block.3.1.bias\", \"cnn.features.6.3.block.3.1.running_mean\", \"cnn.features.6.3.block.3.1.running_var\", \"cnn.features.6.3.block.3.1.num_batches_tracked\", \"cnn.features.6.4.block.0.0.weight\", \"cnn.features.6.4.block.0.1.weight\", \"cnn.features.6.4.block.0.1.bias\", \"cnn.features.6.4.block.0.1.running_mean\", \"cnn.features.6.4.block.0.1.running_var\", \"cnn.features.6.4.block.0.1.num_batches_tracked\", \"cnn.features.6.4.block.1.0.weight\", \"cnn.features.6.4.block.1.1.weight\", \"cnn.features.6.4.block.1.1.bias\", \"cnn.features.6.4.block.1.1.running_mean\", \"cnn.features.6.4.block.1.1.running_var\", \"cnn.features.6.4.block.1.1.num_batches_tracked\", \"cnn.features.6.4.block.2.fc1.weight\", \"cnn.features.6.4.block.2.fc1.bias\", \"cnn.features.6.4.block.2.fc2.weight\", \"cnn.features.6.4.block.2.fc2.bias\", \"cnn.features.6.4.block.3.0.weight\", \"cnn.features.6.4.block.3.1.weight\", \"cnn.features.6.4.block.3.1.bias\", \"cnn.features.6.4.block.3.1.running_mean\", \"cnn.features.6.4.block.3.1.running_var\", \"cnn.features.6.4.block.3.1.num_batches_tracked\", \"cnn.features.7.0.block.0.0.weight\", \"cnn.features.7.0.block.0.1.weight\", \"cnn.features.7.0.block.0.1.bias\", \"cnn.features.7.0.block.0.1.running_mean\", \"cnn.features.7.0.block.0.1.running_var\", \"cnn.features.7.0.block.0.1.num_batches_tracked\", \"cnn.features.7.0.block.1.0.weight\", \"cnn.features.7.0.block.1.1.weight\", \"cnn.features.7.0.block.1.1.bias\", \"cnn.features.7.0.block.1.1.running_mean\", \"cnn.features.7.0.block.1.1.running_var\", \"cnn.features.7.0.block.1.1.num_batches_tracked\", \"cnn.features.7.0.block.2.fc1.weight\", \"cnn.features.7.0.block.2.fc1.bias\", \"cnn.features.7.0.block.2.fc2.weight\", \"cnn.features.7.0.block.2.fc2.bias\", \"cnn.features.7.0.block.3.0.weight\", \"cnn.features.7.0.block.3.1.weight\", \"cnn.features.7.0.block.3.1.bias\", \"cnn.features.7.0.block.3.1.running_mean\", \"cnn.features.7.0.block.3.1.running_var\", \"cnn.features.7.0.block.3.1.num_batches_tracked\", \"cnn.features.7.1.block.0.0.weight\", \"cnn.features.7.1.block.0.1.weight\", \"cnn.features.7.1.block.0.1.bias\", \"cnn.features.7.1.block.0.1.running_mean\", \"cnn.features.7.1.block.0.1.running_var\", \"cnn.features.7.1.block.0.1.num_batches_tracked\", \"cnn.features.7.1.block.1.0.weight\", \"cnn.features.7.1.block.1.1.weight\", \"cnn.features.7.1.block.1.1.bias\", \"cnn.features.7.1.block.1.1.running_mean\", \"cnn.features.7.1.block.1.1.running_var\", \"cnn.features.7.1.block.1.1.num_batches_tracked\", \"cnn.features.7.1.block.2.fc1.weight\", \"cnn.features.7.1.block.2.fc1.bias\", \"cnn.features.7.1.block.2.fc2.weight\", \"cnn.features.7.1.block.2.fc2.bias\", \"cnn.features.7.1.block.3.0.weight\", \"cnn.features.7.1.block.3.1.weight\", \"cnn.features.7.1.block.3.1.bias\", \"cnn.features.7.1.block.3.1.running_mean\", \"cnn.features.7.1.block.3.1.running_var\", \"cnn.features.7.1.block.3.1.num_batches_tracked\", \"cnn.features.8.0.weight\", \"cnn.features.8.1.weight\", \"cnn.features.8.1.bias\", \"cnn.features.8.1.running_mean\", \"cnn.features.8.1.running_var\", \"cnn.features.8.1.num_batches_tracked\", \"cnn.classifier.1.weight\", \"cnn.classifier.1.bias\". "
     ]
    }
   ],
   "source": [
    "if not config.USE_DENOISING_AUTOENCODER:\n",
    "    evaluate_model(model, val_loader, device)\n",
    "else:\n",
    "    evaluate_model(model, noisy_val_loader, device)"
   ]
  }
 ],
 "metadata": {
  "kernelspec": {
   "display_name": ".venv",
   "language": "python",
   "name": "python3"
  },
  "language_info": {
   "codemirror_mode": {
    "name": "ipython",
    "version": 3
   },
   "file_extension": ".py",
   "mimetype": "text/x-python",
   "name": "python",
   "nbconvert_exporter": "python",
   "pygments_lexer": "ipython3",
   "version": "3.11.2"
  }
 },
 "nbformat": 4,
 "nbformat_minor": 2
}

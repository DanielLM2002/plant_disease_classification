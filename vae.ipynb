{
 "cells": [
  {
   "cell_type": "code",
   "execution_count": 1,
   "metadata": {},
   "outputs": [],
   "source": [
    "import os\n",
    "import torch\n",
    "import torch.nn as nn\n",
    "import torch.nn.functional as F\n",
    "from torch.utils.data import DataLoader, Subset\n",
    "from torchvision import datasets, transforms\n",
    "from sklearn.model_selection import train_test_split\n",
    "import matplotlib.pyplot as plt\n",
    "from tqdm import tqdm  "
   ]
  },
  {
   "cell_type": "code",
   "execution_count": 2,
   "metadata": {},
   "outputs": [],
   "source": [
    "unlabeled_set_size = 0.25\n",
    "labeled_train_absolute_set_size = 0.1\n",
    "labeled_test_absolute_set_size = round(1 - (labeled_train_absolute_set_size + unlabeled_set_size), 2)\n",
    "\n",
    "labeled_train_relative_set_size = round((labeled_train_absolute_set_size / (1 - unlabeled_set_size)), 2)\n",
    "labeled_test_relative_set_size = 1 - labeled_train_relative_set_size"
   ]
  },
  {
   "cell_type": "code",
   "execution_count": 3,
   "metadata": {},
   "outputs": [],
   "source": [
    "base_dir = os.path.join('Plant_leave_diseases_dataset', 'original')\n",
    "os.makedirs('best_models', exist_ok=True)\n",
    "model_save_path = \\\n",
    "    os.path.join('best_models', f'h1_{int(unlabeled_set_size*100)}-{int(labeled_train_absolute_set_size*100)}-{int(labeled_test_absolute_set_size*100)}_VAE.pth')\n",
    "encoder_save_path = \\\n",
    "    os.path.join('best_models', f'h1_{int(unlabeled_set_size*100)}-{int(labeled_train_absolute_set_size*100)}-{int(labeled_test_absolute_set_size*100)}_EncoderVAE.pth')"
   ]
  },
  {
   "cell_type": "code",
   "execution_count": 4,
   "metadata": {},
   "outputs": [],
   "source": [
    "class VAE(nn.Module):\n",
    "    def __init__(self, image_channels=1, h_dim=256*14*14, z_dim=32):\n",
    "        super(VAE, self).__init__()\n",
    "        \n",
    "        self.encoder = nn.Sequential(\n",
    "            nn.Conv2d(image_channels, 32, kernel_size=4, stride=2, padding=1),\n",
    "            nn.ReLU(),\n",
    "            nn.Conv2d(32, 64, kernel_size=4, stride=2, padding=1),\n",
    "            nn.ReLU(),\n",
    "            nn.Conv2d(64, 128, kernel_size=4, stride=2, padding=1),\n",
    "            nn.ReLU(),\n",
    "            nn.Conv2d(128, 256, kernel_size=4, stride=2, padding=1),\n",
    "            nn.ReLU(),\n",
    "            nn.Flatten()\n",
    "        )\n",
    "        \n",
    "        self.fc1 = nn.Linear(h_dim, z_dim)\n",
    "        self.fc2 = nn.Linear(h_dim, z_dim)\n",
    "        self.fc3 = nn.Linear(z_dim, h_dim)\n",
    "        \n",
    "        self.decoder = nn.Sequential(\n",
    "            nn.Unflatten(dim=1, unflattened_size=(256, 14, 14)),\n",
    "            nn.ConvTranspose2d(256, 128, kernel_size=4, stride=2, padding=1),\n",
    "            nn.ReLU(),\n",
    "            nn.ConvTranspose2d(128, 64, kernel_size=4, stride=2, padding=1),\n",
    "            nn.ReLU(),\n",
    "            nn.ConvTranspose2d(64, 32, kernel_size=4, stride=2, padding=1),\n",
    "            nn.ReLU(),\n",
    "            nn.ConvTranspose2d(32, image_channels, kernel_size=4, stride=2, padding=1),\n",
    "            nn.Sigmoid()\n",
    "        )\n",
    "    \n",
    "    def reparameterize(self, mu, logvar):\n",
    "        std = torch.exp(0.5 * logvar)\n",
    "        eps = torch.randn_like(std)\n",
    "        return mu + eps * std\n",
    "    \n",
    "    def forward(self, x):\n",
    "        h = self.encoder(x)\n",
    "        mu, logvar = self.fc1(h), self.fc2(h)\n",
    "        z = self.reparameterize(mu, logvar)\n",
    "        h_decoded = self.fc3(z)\n",
    "        x_reconstructed = self.decoder(h_decoded)\n",
    "        return x_reconstructed, mu, logvar\n",
    "\n",
    "def loss_function(reconstructed_x, x, mu, logvar):\n",
    "    MSE = F.mse_loss(reconstructed_x, x, reduction='sum')\n",
    "    KLD = -0.5 * torch.sum(1 + logvar - mu.pow(2) - logvar.exp())\n",
    "    return MSE + KLD"
   ]
  },
  {
   "cell_type": "code",
   "execution_count": 5,
   "metadata": {},
   "outputs": [],
   "source": [
    "data_transforms = {\n",
    "    'all': transforms.Compose([\n",
    "        transforms.Resize((224, 224)),\n",
    "        transforms.Grayscale(num_output_channels=1), \n",
    "        transforms.ToTensor(),\n",
    "        transforms.Normalize([0.5], [0.5])\n",
    "    ]),\n",
    "}"
   ]
  },
  {
   "cell_type": "code",
   "execution_count": 6,
   "metadata": {},
   "outputs": [],
   "source": [
    "\n",
    "base_dir = 'Plant_leave_diseases_dataset/original'\n",
    "full_dataset = datasets.ImageFolder(base_dir, transform=data_transforms['all'])\n",
    "\n",
    "\n",
    "indices = list(range(len(full_dataset)))\n",
    "\n",
    "# Get the directory paths of images\n",
    "image_paths = [sample[0] for sample in full_dataset.samples]\n",
    "\n",
    "labels = [os.path.split(os.path.dirname(path))[-1] for path in image_paths]"
   ]
  },
  {
   "cell_type": "code",
   "execution_count": 7,
   "metadata": {},
   "outputs": [],
   "source": [
    "#Obtenemos el 20% de los datos \n",
    "val_indices, train_indices = train_test_split(indices, test_size=unlabeled_set_size, stratify=labels, random_state=42)\n",
    "\n",
    "#Obtenemos las etiquetas de los datos de entrenamiento\n",
    "val_labels = [labels[i] for i in val_indices]\n",
    "\n",
    "#dividir el 20% en 10% de entrenamiento y 10% de validación\n",
    "_, val_indices = train_test_split(val_indices, test_size=labeled_test_relative_set_size, stratify=val_labels, random_state=42)\n",
    "\n",
    "train_dataset = Subset(full_dataset, train_indices)\n",
    "val_dataset = Subset(full_dataset, train_indices)"
   ]
  },
  {
   "cell_type": "code",
   "execution_count": 8,
   "metadata": {},
   "outputs": [
    {
     "name": "stdout",
     "output_type": "stream",
     "text": [
      "Número de imágenes en el conjunto de entrenamiento: 15372\n",
      "Número de imágenes en el conjunto de validación: 15372\n"
     ]
    }
   ],
   "source": [
    "train_loader = DataLoader(train_dataset, batch_size=4, shuffle=True, num_workers=4)\n",
    "val_loader = DataLoader(val_dataset, batch_size=4, shuffle=False, num_workers=4)\n",
    "\n",
    "print(f\"Número de imágenes en el conjunto de entrenamiento: {len(train_loader.dataset)}\")\n",
    "print(f\"Número de imágenes en el conjunto de validación: {len(val_loader.dataset)}\")"
   ]
  },
  {
   "cell_type": "code",
   "execution_count": 9,
   "metadata": {},
   "outputs": [],
   "source": [
    "def train_vae(vae, train_loader, val_loader, optimizer, device, num_epochs=10, patience=5, model_save_path='best_vae.pth', encoder_save_path='best_encoder.pth'):\n",
    "    best_val_loss = float('inf')\n",
    "    epochs_no_improve = 0\n",
    "    vae.train()\n",
    "    \n",
    "    for epoch in range(num_epochs):\n",
    "        total_train_loss = 0\n",
    "        vae.train()  # Asegurarse de que el modelo esté en modo de entrenamiento\n",
    "        \n",
    "        # Añadir la barra de progreso para el epoch actual\n",
    "        with tqdm(total=len(train_loader), desc=f'Epoch {epoch+1}/{num_epochs}', unit='batch') as pbar:\n",
    "            for batch in train_loader:\n",
    "                images, _ = batch\n",
    "                images = images.to(device)\n",
    "                optimizer.zero_grad()\n",
    "                reconstructed_images, mu, logvar = vae(images)\n",
    "                loss = loss_function(reconstructed_images, images, mu, logvar)\n",
    "                loss.backward()\n",
    "                optimizer.step()\n",
    "                total_train_loss += loss.item()\n",
    "                pbar.update(1)\n",
    "        \n",
    "        avg_train_loss = total_train_loss / len(train_loader.dataset)\n",
    "        \n",
    "        # Paso de validación\n",
    "        vae.eval()  # Asegurarse de que el modelo esté en modo de evaluación\n",
    "        total_val_loss = 0\n",
    "        with torch.no_grad():\n",
    "            for batch in val_loader:\n",
    "                images, _ = batch\n",
    "                images = images.to(device)\n",
    "                reconstructed_images, mu, logvar = vae(images)\n",
    "                MSE = F.mse_loss(reconstructed_images, images, reduction='sum')\n",
    "                KLD = -0.5 * torch.sum(1 + logvar - mu.pow(2) - logvar.exp())\n",
    "                loss = MSE + KLD\n",
    "                total_val_loss += loss.item()\n",
    "                print(f'Batch MSE: {MSE.item()}, KLD: {KLD.item()}, Total Loss: {loss.item()}')\n",
    "        \n",
    "        avg_val_loss = total_val_loss / len(val_loader.dataset)\n",
    "        \n",
    "        # Verificar si el modelo actual es el mejor\n",
    "        if avg_val_loss < best_val_loss:\n",
    "            best_val_loss = avg_val_loss\n",
    "            epochs_no_improve = 0\n",
    "            # Guardar el modelo completo de la VAE\n",
    "            torch.save(vae.state_dict(), model_save_path)\n",
    "            # Guardar la parte del encoder de la VAE\n",
    "            torch.save(vae.encoder.state_dict(), encoder_save_path)\n",
    "            print(f'\\nMejor modelo guardado con pérdida de validación: {avg_val_loss:.4f}')\n",
    "        else:\n",
    "            epochs_no_improve += 1\n",
    "        \n",
    "        # Verificar early stopping\n",
    "        if epochs_no_improve >= patience:\n",
    "            print(f'\\nEarly stopping activado. No ha mejorado en {patience} épocas.')\n",
    "            break\n",
    "        \n",
    "        print(f'Epoch [{epoch+1}/{num_epochs}], Train Loss: {avg_train_loss:.4f}, Val Loss: {avg_val_loss:.4f}')"
   ]
  },
  {
   "cell_type": "code",
   "execution_count": 10,
   "metadata": {},
   "outputs": [],
   "source": [
    "def load_best_vae(vae, model_save_path='best_vae.pth', encoder_save_path='best_encoder.pth'):\n",
    "    vae.load_state_dict(torch.load(model_save_path))\n",
    "    vae.encoder.load_state_dict(torch.load(encoder_save_path))\n",
    "    vae.eval()\n",
    "\n"
   ]
  },
  {
   "cell_type": "code",
   "execution_count": 11,
   "metadata": {},
   "outputs": [],
   "source": [
    "def evaluate_vae(vae, dataloader, device):\n",
    "    vae.eval()\n",
    "    total_loss = 0\n",
    "    with torch.no_grad():\n",
    "        for batch in dataloader:\n",
    "            images, _ = batch\n",
    "            images = images.to(device)\n",
    "            reconstructed_images, mu, logvar = vae(images)\n",
    "            loss = loss_function(reconstructed_images, images, mu, logvar)\n",
    "            total_loss += loss.item()\n",
    "    \n",
    "    avg_loss = total_loss / len(dataloader.dataset)\n",
    "    print(f'Pérdida promedio: {avg_loss:.4f}')\n",
    "\n",
    "    # Visualizar algunas de las imágenes originales y reconstruidas\n",
    "    images, _ = next(iter(dataloader))\n",
    "    images = images.to(device)\n",
    "    reconstructed_images, _, _ = vae(images)\n",
    "    \n",
    "    images = images.cpu().detach().numpy()\n",
    "    reconstructed_images = reconstructed_images.cpu().detach().numpy()\n",
    "    \n",
    "    fig, axes = plt.subplots(2, 10, figsize=(20, 4))\n",
    "    for i in range(10):\n",
    "        # Imágenes originales\n",
    "        axes[0, i].imshow(images[i].squeeze(), cmap='gray')\n",
    "        axes[0, i].axis('off')\n",
    "        \n",
    "        # Imágenes reconstruidas\n",
    "        axes[1, i].imshow(reconstructed_images[i].squeeze(), cmap='gray')\n",
    "        axes[1, i].axis('off')\n",
    "    \n",
    "    axes[0, 0].set_title('Imágenes Originales')\n",
    "    axes[1, 0].set_title('Imágenes Reconstruidas')\n",
    "    plt.show()"
   ]
  },
  {
   "cell_type": "code",
   "execution_count": 12,
   "metadata": {},
   "outputs": [
    {
     "name": "stdout",
     "output_type": "stream",
     "text": [
      "Usando dispositivo: mps\n"
     ]
    },
    {
     "name": "stderr",
     "output_type": "stream",
     "text": [
      "Epoch 1/10: 100%|██████████| 3843/3843 [01:48<00:00, 35.38batch/s]\n"
     ]
    }
   ],
   "source": [
    "# Determinar el dispositivo\n",
    "if torch.backends.mps.is_available():\n",
    "    device = torch.device(\"mps\")\n",
    "elif torch.cuda.is_available():\n",
    "    device = torch.device(\"cuda\")\n",
    "else:\n",
    "    device = torch.device(\"cpu\")\n",
    "\n",
    "print(f'Usando dispositivo: {device}')\n",
    "\n",
    "# Definir y entrenar el modelo con lr = 0.001\n",
    "vae = VAE().to(device)\n",
    "optimizer = torch.optim.Adam(vae.parameters(), lr=0.001)\n",
    "\n",
    "# Entrenar la VAE\n",
    "train_vae(vae, train_loader, val_loader, optimizer, device, num_epochs=10, patience=5, model_save_path=model_save_path, encoder_save_path=encoder_save_path)\n",
    "\n",
    "# Cargar el mejor modelo y encoder, y evaluar\n",
    "load_best_vae(vae, model_save_path=model_save_path, encoder_save_path=encoder_save_path)\n",
    "evaluate_vae(vae, val_loader, device)"
   ]
  }
 ],
 "metadata": {
  "kernelspec": {
   "display_name": ".venv",
   "language": "python",
   "name": "python3"
  },
  "language_info": {
   "codemirror_mode": {
    "name": "ipython",
    "version": 3
   },
   "file_extension": ".py",
   "mimetype": "text/x-python",
   "name": "python",
   "nbconvert_exporter": "python",
   "pygments_lexer": "ipython3",
   "version": "3.11.7"
  },
  "orig_nbformat": 4
 },
 "nbformat": 4,
 "nbformat_minor": 2
}
